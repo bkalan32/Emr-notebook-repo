{
 "cells": [
  {
   "cell_type": "code",
   "execution_count": 1,
   "metadata": {
    "execution": {
     "iopub.execute_input": "2025-04-04T18:24:18.589774Z",
     "iopub.status.busy": "2025-04-04T18:24:18.589310Z",
     "iopub.status.idle": "2025-04-04T18:24:36.537165Z",
     "shell.execute_reply": "2025-04-04T18:24:36.536498Z",
     "shell.execute_reply.started": "2025-04-04T18:24:18.589735Z"
    },
    "executionRoleArn": "arn:aws:iam::307946673210:role/EMRServerlessS3Role",
    "tags": []
   },
   "outputs": [
    {
     "data": {
      "application/vnd.jupyter.widget-view+json": {
       "model_id": "793818f888db4c30bc2cee943eafb447",
       "version_major": 2,
       "version_minor": 0
      },
      "text/plain": [
       "VBox()"
      ]
     },
     "metadata": {},
     "output_type": "display_data"
    },
    {
     "name": "stdout",
     "output_type": "stream",
     "text": [
      "Starting Spark application\n"
     ]
    },
    {
     "data": {
      "text/html": [
       "<table>\n",
       "    <tr><th>ID</th><th>Kind</th><th>State</th><th>Spark UI</th><th>Driver log</th><th>User</th><th>Current session?</th></tr><tr><td>0</td><td>pyspark</td><td>idle</td><td><a target=\"_blank\" href=\"https://spark-live-ui.emr-serverless.amazonaws.com\" class=\"emr-proxy-link\" emr-runtime=\"emr-serverless\" emr-resource=\"00frga6vldeha10a\" application-id=\"00fqrb7u83iumc09\">Link</a></td><td></td><td>None</td><td>✔</td></tr></table>"
      ],
      "text/plain": [
       "<IPython.core.display.HTML object>"
      ]
     },
     "metadata": {},
     "output_type": "display_data"
    },
    {
     "data": {
      "application/vnd.jupyter.widget-view+json": {
       "model_id": "",
       "version_major": 2,
       "version_minor": 0
      },
      "text/plain": [
       "FloatProgress(value=0.0, bar_style='info', description='Progress:', layout=Layout(height='25px', width='50%'),…"
      ]
     },
     "metadata": {},
     "output_type": "display_data"
    },
    {
     "name": "stdout",
     "output_type": "stream",
     "text": [
      "SparkSession available as 'spark'.\n"
     ]
    },
    {
     "data": {
      "application/vnd.jupyter.widget-view+json": {
       "model_id": "",
       "version_major": 2,
       "version_minor": 0
      },
      "text/plain": [
       "FloatProgress(value=0.0, bar_style='info', description='Progress:', layout=Layout(height='25px', width='50%'),…"
      ]
     },
     "metadata": {},
     "output_type": "display_data"
    }
   ],
   "source": [
    "# Configure Spark Session\n",
    "\n",
    "from pyspark.sql import SparkSession\n",
    "\n",
    "spark = SparkSession.builder \\\n",
    ".appName('OlistData')\\\n",
    ".getOrCreate()"
   ]
  },
  {
   "cell_type": "code",
   "execution_count": 2,
   "metadata": {
    "execution": {
     "iopub.execute_input": "2025-04-04T18:24:37.840540Z",
     "iopub.status.busy": "2025-04-04T18:24:37.840110Z",
     "iopub.status.idle": "2025-04-04T18:24:39.869692Z",
     "shell.execute_reply": "2025-04-04T18:24:39.868926Z",
     "shell.execute_reply.started": "2025-04-04T18:24:37.840506Z"
    },
    "executionRoleArn": "arn:aws:iam::307946673210:role/EMRServerlessS3Role",
    "tags": []
   },
   "outputs": [
    {
     "data": {
      "application/vnd.jupyter.widget-view+json": {
       "model_id": "0516fe9ae5cd405eb88e07508b37f6d1",
       "version_major": 2,
       "version_minor": 0
      },
      "text/plain": [
       "VBox()"
      ]
     },
     "metadata": {},
     "output_type": "display_data"
    },
    {
     "data": {
      "application/vnd.jupyter.widget-view+json": {
       "model_id": "",
       "version_major": 2,
       "version_minor": 0
      },
      "text/plain": [
       "FloatProgress(value=0.0, bar_style='info', description='Progress:', layout=Layout(height='25px', width='50%'),…"
      ]
     },
     "metadata": {},
     "output_type": "display_data"
    }
   ],
   "source": [
    "# Set path to the S3 bucket where data is stored\n",
    "s3_path = \"s3://kalan-emr-tutorial/input/hadoop/\""
   ]
  },
  {
   "cell_type": "code",
   "execution_count": 22,
   "metadata": {
    "execution": {
     "iopub.execute_input": "2025-04-04T18:36:03.464830Z",
     "iopub.status.busy": "2025-04-04T18:36:03.464376Z",
     "iopub.status.idle": "2025-04-04T18:36:13.223673Z",
     "shell.execute_reply": "2025-04-04T18:36:13.222826Z",
     "shell.execute_reply.started": "2025-04-04T18:36:03.464800Z"
    },
    "executionRoleArn": "arn:aws:iam::307946673210:role/EMRServerlessS3Role",
    "tags": []
   },
   "outputs": [
    {
     "data": {
      "application/vnd.jupyter.widget-view+json": {
       "model_id": "bff54b372b0043199730e1553537c514",
       "version_major": 2,
       "version_minor": 0
      },
      "text/plain": [
       "VBox()"
      ]
     },
     "metadata": {},
     "output_type": "display_data"
    },
    {
     "data": {
      "application/vnd.jupyter.widget-view+json": {
       "model_id": "",
       "version_major": 2,
       "version_minor": 0
      },
      "text/plain": [
       "FloatProgress(value=0.0, bar_style='info', description='Progress:', layout=Layout(height='25px', width='50%'),…"
      ]
     },
     "metadata": {},
     "output_type": "display_data"
    },
    {
     "name": "stdout",
     "output_type": "stream",
     "text": [
      "+--------------------+--------------------+------------------------+--------------------+--------------+\n",
      "|         customer_id|  customer_unique_id|customer_zip_code_prefix|       customer_city|customer_state|\n",
      "+--------------------+--------------------+------------------------+--------------------+--------------+\n",
      "|06b8999e2fba1a1fb...|861eff4711a542e4b...|                   14409|              franca|            SP|\n",
      "|18955e83d337fd6b2...|290c77bc529b7ac93...|                    9790|sao bernardo do c...|            SP|\n",
      "|4e7b3e00288586ebd...|060e732b5b29e8181...|                    1151|           sao paulo|            SP|\n",
      "|b2b6027bc5c5109e5...|259dac757896d24d7...|                    8775|     mogi das cruzes|            SP|\n",
      "|4f2d8ab171c80ec83...|345ecd01c38d18a90...|                   13056|            campinas|            SP|\n",
      "+--------------------+--------------------+------------------------+--------------------+--------------+\n",
      "only showing top 5 rows"
     ]
    }
   ],
   "source": [
    "# Create DataFrames for each CSV file\n",
    "customers_df = spark.read.csv(s3_path + \"olist_customers_dataset.csv\", header=True, inferSchema=True)\n",
    "geolocation_df = spark.read.csv(s3_path + \"olist_geolocation_dataset.csv\", header=True, inferSchema=True)\n",
    "order_items_df = spark.read.csv(s3_path + \"olist_order_items_dataset.csv\", header=True, inferSchema=True)\n",
    "payments_df = spark.read.csv(s3_path + \"olist_order_payments_dataset.csv\", header=True, inferSchema=True)\n",
    "order_reviews_df = spark.read.csv(s3_path + \"olist_order_reviews_dataset.csv\", header=True, inferSchema=True)\n",
    "orders_df = spark.read.csv(s3_path + \"olist_orders_dataset.csv\", header=True, inferSchema=True)\n",
    "products_df = spark.read.csv(s3_path + \"olist_products_dataset.csv\", header=True, inferSchema=True)\n",
    "sellers_df = spark.read.csv(s3_path + \"olist_sellers_dataset.csv\", header=True, inferSchema=True)\n",
    "category_translation_df = spark.read.csv(s3_path + \"product_category_name_translation.csv\", header=True, inferSchema=True)\n",
    "\n",
    "customers_df.show(5)"
   ]
  },
  {
   "cell_type": "code",
   "execution_count": 4,
   "metadata": {
    "execution": {
     "iopub.execute_input": "2025-04-04T18:25:04.045631Z",
     "iopub.status.busy": "2025-04-04T18:25:04.045165Z",
     "iopub.status.idle": "2025-04-04T18:25:04.235355Z",
     "shell.execute_reply": "2025-04-04T18:25:04.234649Z",
     "shell.execute_reply.started": "2025-04-04T18:25:04.045601Z"
    },
    "executionRoleArn": "arn:aws:iam::307946673210:role/EMRServerlessS3Role",
    "tags": []
   },
   "outputs": [
    {
     "data": {
      "application/vnd.jupyter.widget-view+json": {
       "model_id": "1e4e239a03514451b4e0a119f6576001",
       "version_major": 2,
       "version_minor": 0
      },
      "text/plain": [
       "VBox()"
      ]
     },
     "metadata": {},
     "output_type": "display_data"
    },
    {
     "data": {
      "application/vnd.jupyter.widget-view+json": {
       "model_id": "",
       "version_major": 2,
       "version_minor": 0
      },
      "text/plain": [
       "FloatProgress(value=0.0, bar_style='info', description='Progress:', layout=Layout(height='25px', width='50%'),…"
      ]
     },
     "metadata": {},
     "output_type": "display_data"
    },
    {
     "name": "stdout",
     "output_type": "stream",
     "text": [
      "root\n",
      " |-- customer_id: string (nullable = true)\n",
      " |-- customer_unique_id: string (nullable = true)\n",
      " |-- customer_zip_code_prefix: integer (nullable = true)\n",
      " |-- customer_city: string (nullable = true)\n",
      " |-- customer_state: string (nullable = true)"
     ]
    }
   ],
   "source": [
    "customers_df.printSchema()"
   ]
  },
  {
   "cell_type": "code",
   "execution_count": 5,
   "metadata": {
    "execution": {
     "iopub.execute_input": "2025-04-04T18:25:05.427542Z",
     "iopub.status.busy": "2025-04-04T18:25:05.427087Z",
     "iopub.status.idle": "2025-04-04T18:25:08.059843Z",
     "shell.execute_reply": "2025-04-04T18:25:08.059067Z",
     "shell.execute_reply.started": "2025-04-04T18:25:05.427512Z"
    },
    "executionRoleArn": "arn:aws:iam::307946673210:role/EMRServerlessS3Role",
    "tags": []
   },
   "outputs": [
    {
     "data": {
      "application/vnd.jupyter.widget-view+json": {
       "model_id": "b19956bf4842480ea2435b476c08ab2d",
       "version_major": 2,
       "version_minor": 0
      },
      "text/plain": [
       "VBox()"
      ]
     },
     "metadata": {},
     "output_type": "display_data"
    },
    {
     "data": {
      "application/vnd.jupyter.widget-view+json": {
       "model_id": "",
       "version_major": 2,
       "version_minor": 0
      },
      "text/plain": [
       "FloatProgress(value=0.0, bar_style='info', description='Progress:', layout=Layout(height='25px', width='50%'),…"
      ]
     },
     "metadata": {},
     "output_type": "display_data"
    },
    {
     "name": "stdout",
     "output_type": "stream",
     "text": [
      "Customers : 99441 rows.\n",
      "Orders : 99441 rows."
     ]
    }
   ],
   "source": [
    "# Data Leakage or Drop\n",
    "\n",
    "print(f\"Customers : {customers_df.count()} rows.\")\n",
    "print(f\"Orders : {orders_df.count()} rows.\")"
   ]
  },
  {
   "cell_type": "code",
   "execution_count": 6,
   "metadata": {
    "execution": {
     "iopub.execute_input": "2025-04-04T18:25:12.487171Z",
     "iopub.status.busy": "2025-04-04T18:25:12.486650Z",
     "iopub.status.idle": "2025-04-04T18:25:18.040256Z",
     "shell.execute_reply": "2025-04-04T18:25:18.039562Z",
     "shell.execute_reply.started": "2025-04-04T18:25:12.487137Z"
    },
    "executionRoleArn": "arn:aws:iam::307946673210:role/EMRServerlessS3Role",
    "tags": []
   },
   "outputs": [
    {
     "data": {
      "application/vnd.jupyter.widget-view+json": {
       "model_id": "1aadc472cf2e4cbf84ea78f8e0329620",
       "version_major": 2,
       "version_minor": 0
      },
      "text/plain": [
       "VBox()"
      ]
     },
     "metadata": {},
     "output_type": "display_data"
    },
    {
     "data": {
      "application/vnd.jupyter.widget-view+json": {
       "model_id": "",
       "version_major": 2,
       "version_minor": 0
      },
      "text/plain": [
       "FloatProgress(value=0.0, bar_style='info', description='Progress:', layout=Layout(height='25px', width='50%'),…"
      ]
     },
     "metadata": {},
     "output_type": "display_data"
    },
    {
     "name": "stdout",
     "output_type": "stream",
     "text": [
      "+-----------+------------------+------------------------+-------------+--------------+\n",
      "|customer_id|customer_unique_id|customer_zip_code_prefix|customer_city|customer_state|\n",
      "+-----------+------------------+------------------------+-------------+--------------+\n",
      "|      false|             false|                   false|        false|         false|\n",
      "|      false|             false|                   false|        false|         false|\n",
      "|      false|             false|                   false|        false|         false|\n",
      "|      false|             false|                   false|        false|         false|\n",
      "|      false|             false|                   false|        false|         false|\n",
      "|      false|             false|                   false|        false|         false|\n",
      "|      false|             false|                   false|        false|         false|\n",
      "|      false|             false|                   false|        false|         false|\n",
      "|      false|             false|                   false|        false|         false|\n",
      "|      false|             false|                   false|        false|         false|\n",
      "|      false|             false|                   false|        false|         false|\n",
      "|      false|             false|                   false|        false|         false|\n",
      "|      false|             false|                   false|        false|         false|\n",
      "|      false|             false|                   false|        false|         false|\n",
      "|      false|             false|                   false|        false|         false|\n",
      "|      false|             false|                   false|        false|         false|\n",
      "|      false|             false|                   false|        false|         false|\n",
      "|      false|             false|                   false|        false|         false|\n",
      "|      false|             false|                   false|        false|         false|\n",
      "|      false|             false|                   false|        false|         false|\n",
      "+-----------+------------------+------------------------+-------------+--------------+\n",
      "only showing top 20 rows"
     ]
    }
   ],
   "source": [
    "# NULL or Duplicate Values\n",
    "\n",
    "from pyspark.sql.functions import col\n",
    "\n",
    "customers_df.select([col(c).isNull().alias(c) for c in customers_df.columns]).show()\n"
   ]
  },
  {
   "cell_type": "code",
   "execution_count": 8,
   "metadata": {
    "execution": {
     "iopub.execute_input": "2025-04-04T18:28:06.926948Z",
     "iopub.status.busy": "2025-04-04T18:28:06.926479Z",
     "iopub.status.idle": "2025-04-04T18:28:08.419144Z",
     "shell.execute_reply": "2025-04-04T18:28:08.418441Z",
     "shell.execute_reply.started": "2025-04-04T18:28:06.926913Z"
    },
    "executionRoleArn": "arn:aws:iam::307946673210:role/EMRServerlessS3Role",
    "tags": []
   },
   "outputs": [
    {
     "data": {
      "application/vnd.jupyter.widget-view+json": {
       "model_id": "40be1156602c4b92baff6edb062c6856",
       "version_major": 2,
       "version_minor": 0
      },
      "text/plain": [
       "VBox()"
      ]
     },
     "metadata": {},
     "output_type": "display_data"
    },
    {
     "data": {
      "application/vnd.jupyter.widget-view+json": {
       "model_id": "",
       "version_major": 2,
       "version_minor": 0
      },
      "text/plain": [
       "FloatProgress(value=0.0, bar_style='info', description='Progress:', layout=Layout(height='25px', width='50%'),…"
      ]
     },
     "metadata": {},
     "output_type": "display_data"
    },
    {
     "name": "stdout",
     "output_type": "stream",
     "text": [
      "+-----------+------------------+------------------------+-------------+--------------+\n",
      "|customer_id|customer_unique_id|customer_zip_code_prefix|customer_city|customer_state|\n",
      "+-----------+------------------+------------------------+-------------+--------------+\n",
      "|          0|                 0|                       0|            0|             0|\n",
      "+-----------+------------------+------------------------+-------------+--------------+"
     ]
    }
   ],
   "source": [
    "from pyspark.sql.functions import col, when, count\n",
    "\n",
    "# Check for NULL values in all columns\n",
    "customers_df.select([count(when(col(c).isNull(), 1)).alias(c) for c in customers_df.columns]).show()"
   ]
  },
  {
   "cell_type": "code",
   "execution_count": 10,
   "metadata": {
    "execution": {
     "iopub.execute_input": "2025-04-04T18:29:56.532179Z",
     "iopub.status.busy": "2025-04-04T18:29:56.531726Z",
     "iopub.status.idle": "2025-04-04T18:29:59.108016Z",
     "shell.execute_reply": "2025-04-04T18:29:59.107227Z",
     "shell.execute_reply.started": "2025-04-04T18:29:56.532147Z"
    },
    "executionRoleArn": "arn:aws:iam::307946673210:role/EMRServerlessS3Role",
    "tags": []
   },
   "outputs": [
    {
     "data": {
      "application/vnd.jupyter.widget-view+json": {
       "model_id": "fc9068ff1ab94d2bb4ae5d01bf5e3b3a",
       "version_major": 2,
       "version_minor": 0
      },
      "text/plain": [
       "VBox()"
      ]
     },
     "metadata": {},
     "output_type": "display_data"
    },
    {
     "data": {
      "application/vnd.jupyter.widget-view+json": {
       "model_id": "",
       "version_major": 2,
       "version_minor": 0
      },
      "text/plain": [
       "FloatProgress(value=0.0, bar_style='info', description='Progress:', layout=Layout(height='25px', width='50%'),…"
      ]
     },
     "metadata": {},
     "output_type": "display_data"
    },
    {
     "name": "stdout",
     "output_type": "stream",
     "text": [
      "+-----------+-----+\n",
      "|customer_id|count|\n",
      "+-----------+-----+\n",
      "+-----------+-----+"
     ]
    }
   ],
   "source": [
    "# Duplicate Values\n",
    "\n",
    "customers_df.groupBy('customer_id').count().filter('count>1').show()"
   ]
  },
  {
   "cell_type": "code",
   "execution_count": null,
   "metadata": {
    "executionRoleArn": "arn:aws:iam::307946673210:role/EMRServerlessS3Role",
    "tags": []
   },
   "outputs": [],
   "source": []
  },
  {
   "cell_type": "code",
   "execution_count": 15,
   "metadata": {
    "execution": {
     "iopub.execute_input": "2025-04-04T18:32:47.813673Z",
     "iopub.status.busy": "2025-04-04T18:32:47.813212Z",
     "iopub.status.idle": "2025-04-04T18:32:48.809945Z",
     "shell.execute_reply": "2025-04-04T18:32:48.809206Z",
     "shell.execute_reply.started": "2025-04-04T18:32:47.813642Z"
    },
    "executionRoleArn": "arn:aws:iam::307946673210:role/EMRServerlessS3Role",
    "tags": []
   },
   "outputs": [
    {
     "data": {
      "application/vnd.jupyter.widget-view+json": {
       "model_id": "3c55aa64f9a8423daf2e6535417d99bd",
       "version_major": 2,
       "version_minor": 0
      },
      "text/plain": [
       "VBox()"
      ]
     },
     "metadata": {},
     "output_type": "display_data"
    },
    {
     "data": {
      "application/vnd.jupyter.widget-view+json": {
       "model_id": "",
       "version_major": 2,
       "version_minor": 0
      },
      "text/plain": [
       "FloatProgress(value=0.0, bar_style='info', description='Progress:', layout=Layout(height='25px', width='50%'),…"
      ]
     },
     "metadata": {},
     "output_type": "display_data"
    },
    {
     "name": "stdout",
     "output_type": "stream",
     "text": [
      "+--------------+-----+\n",
      "|customer_state|count|\n",
      "+--------------+-----+\n",
      "|            SP|41746|\n",
      "|            RJ|12852|\n",
      "|            MG|11635|\n",
      "|            RS| 5466|\n",
      "|            PR| 5045|\n",
      "|            SC| 3637|\n",
      "|            BA| 3380|\n",
      "|            DF| 2140|\n",
      "|            ES| 2033|\n",
      "|            GO| 2020|\n",
      "|            PE| 1652|\n",
      "|            CE| 1336|\n",
      "|            PA|  975|\n",
      "|            MT|  907|\n",
      "|            MA|  747|\n",
      "|            MS|  715|\n",
      "|            PB|  536|\n",
      "|            PI|  495|\n",
      "|            RN|  485|\n",
      "|            AL|  413|\n",
      "+--------------+-----+\n",
      "only showing top 20 rows"
     ]
    }
   ],
   "source": [
    "# Customr Distribution by State\n",
    "\n",
    "customers_df.groupBy('customer_state').count().orderBy('count', ascending=False).show()"
   ]
  },
  {
   "cell_type": "code",
   "execution_count": 20,
   "metadata": {
    "execution": {
     "iopub.execute_input": "2025-04-04T18:34:24.165235Z",
     "iopub.status.busy": "2025-04-04T18:34:24.164792Z",
     "iopub.status.idle": "2025-04-04T18:34:25.100368Z",
     "shell.execute_reply": "2025-04-04T18:34:25.099670Z",
     "shell.execute_reply.started": "2025-04-04T18:34:24.165203Z"
    },
    "executionRoleArn": "arn:aws:iam::307946673210:role/EMRServerlessS3Role",
    "tags": []
   },
   "outputs": [
    {
     "data": {
      "application/vnd.jupyter.widget-view+json": {
       "model_id": "bf18fbfe677e4de98f6b9d34459f7eb6",
       "version_major": 2,
       "version_minor": 0
      },
      "text/plain": [
       "VBox()"
      ]
     },
     "metadata": {},
     "output_type": "display_data"
    },
    {
     "data": {
      "application/vnd.jupyter.widget-view+json": {
       "model_id": "",
       "version_major": 2,
       "version_minor": 0
      },
      "text/plain": [
       "FloatProgress(value=0.0, bar_style='info', description='Progress:', layout=Layout(height='25px', width='50%'),…"
      ]
     },
     "metadata": {},
     "output_type": "display_data"
    },
    {
     "name": "stdout",
     "output_type": "stream",
     "text": [
      "+------------+-----+\n",
      "|order_status|count|\n",
      "+------------+-----+\n",
      "|   delivered|96478|\n",
      "|     shipped| 1107|\n",
      "|    canceled|  625|\n",
      "| unavailable|  609|\n",
      "|    invoiced|  314|\n",
      "|  processing|  301|\n",
      "|     created|    5|\n",
      "|    approved|    2|\n",
      "+------------+-----+"
     ]
    }
   ],
   "source": [
    "# Order - Order status distribution\n",
    "\n",
    "orders_df.groupBy('order_status').count().orderBy('count', ascending=False).show()"
   ]
  },
  {
   "cell_type": "code",
   "execution_count": null,
   "metadata": {},
   "outputs": [],
   "source": []
  },
  {
   "cell_type": "code",
   "execution_count": null,
   "metadata": {},
   "outputs": [],
   "source": []
  },
  {
   "cell_type": "code",
   "execution_count": 23,
   "metadata": {
    "execution": {
     "iopub.execute_input": "2025-04-04T18:36:18.247306Z",
     "iopub.status.busy": "2025-04-04T18:36:18.246854Z",
     "iopub.status.idle": "2025-04-04T18:36:18.650344Z",
     "shell.execute_reply": "2025-04-04T18:36:18.649668Z",
     "shell.execute_reply.started": "2025-04-04T18:36:18.247279Z"
    },
    "executionRoleArn": "arn:aws:iam::307946673210:role/EMRServerlessS3Role",
    "tags": []
   },
   "outputs": [
    {
     "data": {
      "application/vnd.jupyter.widget-view+json": {
       "model_id": "b37e788cdb1940c6bb795ef9d5220670",
       "version_major": 2,
       "version_minor": 0
      },
      "text/plain": [
       "VBox()"
      ]
     },
     "metadata": {},
     "output_type": "display_data"
    },
    {
     "data": {
      "application/vnd.jupyter.widget-view+json": {
       "model_id": "",
       "version_major": 2,
       "version_minor": 0
      },
      "text/plain": [
       "FloatProgress(value=0.0, bar_style='info', description='Progress:', layout=Layout(height='25px', width='50%'),…"
      ]
     },
     "metadata": {},
     "output_type": "display_data"
    },
    {
     "name": "stdout",
     "output_type": "stream",
     "text": [
      "+--------------------+------------------+------------+--------------------+-------------+\n",
      "|            order_id|payment_sequential|payment_type|payment_installments|payment_value|\n",
      "+--------------------+------------------+------------+--------------------+-------------+\n",
      "|b81ef226f3fe1789b...|                 1| credit_card|                   8|        99.33|\n",
      "|a9810da82917af2d9...|                 1| credit_card|                   1|        24.39|\n",
      "|25e8ea4e93396b6fa...|                 1| credit_card|                   1|        65.71|\n",
      "|ba78997921bbcdc13...|                 1| credit_card|                   8|       107.78|\n",
      "|42fdf880ba16b47b5...|                 1| credit_card|                   2|       128.45|\n",
      "|298fcdf1f73eb413e...|                 1| credit_card|                   2|        96.12|\n",
      "|771ee386b001f0620...|                 1| credit_card|                   1|        81.16|\n",
      "|3d7239c394a212faa...|                 1| credit_card|                   3|        51.84|\n",
      "|1f78449c87a54faf9...|                 1| credit_card|                   6|       341.09|\n",
      "|0573b5e23cbd79800...|                 1|      boleto|                   1|        51.95|\n",
      "|d88e0d5fa41661ce0...|                 1| credit_card|                   8|       188.73|\n",
      "|2480f727e869fdeb3...|                 1| credit_card|                   1|        141.9|\n",
      "|616105c9352a9668c...|                 1| credit_card|                   1|        75.78|\n",
      "|cf95215a722f3ebf2...|                 1| credit_card|                   5|       102.66|\n",
      "|769214176682788a9...|                 1| credit_card|                   4|       105.28|\n",
      "|12e5cfe0e4716b59a...|                 1| credit_card|                  10|       157.45|\n",
      "|61059985a6fc0ad64...|                 1| credit_card|                   1|       132.04|\n",
      "|79da3f5fe31ad1e45...|                 1| credit_card|                   1|        98.94|\n",
      "|8ac09207f415d55ac...|                 1| credit_card|                   4|       244.15|\n",
      "|b2349a3f20dfbeef6...|                 1| credit_card|                   3|       136.71|\n",
      "+--------------------+------------------+------------+--------------------+-------------+\n",
      "only showing top 20 rows"
     ]
    }
   ],
   "source": [
    "# Payments\n",
    "\n",
    "payments_df.show()"
   ]
  },
  {
   "cell_type": "code",
   "execution_count": 24,
   "metadata": {
    "execution": {
     "iopub.execute_input": "2025-04-04T18:37:25.838433Z",
     "iopub.status.busy": "2025-04-04T18:37:25.837982Z",
     "iopub.status.idle": "2025-04-04T18:37:26.775276Z",
     "shell.execute_reply": "2025-04-04T18:37:26.774593Z",
     "shell.execute_reply.started": "2025-04-04T18:37:25.838398Z"
    },
    "executionRoleArn": "arn:aws:iam::307946673210:role/EMRServerlessS3Role",
    "tags": []
   },
   "outputs": [
    {
     "data": {
      "application/vnd.jupyter.widget-view+json": {
       "model_id": "01e59d8472a24c34ba984631120f134c",
       "version_major": 2,
       "version_minor": 0
      },
      "text/plain": [
       "VBox()"
      ]
     },
     "metadata": {},
     "output_type": "display_data"
    },
    {
     "data": {
      "application/vnd.jupyter.widget-view+json": {
       "model_id": "",
       "version_major": 2,
       "version_minor": 0
      },
      "text/plain": [
       "FloatProgress(value=0.0, bar_style='info', description='Progress:', layout=Layout(height='25px', width='50%'),…"
      ]
     },
     "metadata": {},
     "output_type": "display_data"
    },
    {
     "name": "stdout",
     "output_type": "stream",
     "text": [
      "+------------+-----+\n",
      "|payment_type|count|\n",
      "+------------+-----+\n",
      "| credit_card|76795|\n",
      "|      boleto|19784|\n",
      "|     voucher| 5775|\n",
      "|  debit_card| 1529|\n",
      "| not_defined|    3|\n",
      "+------------+-----+"
     ]
    }
   ],
   "source": [
    "payments_df.groupBy('payment_type').count().orderBy('count',ascending=False).show()"
   ]
  },
  {
   "cell_type": "code",
   "execution_count": null,
   "metadata": {},
   "outputs": [],
   "source": []
  },
  {
   "cell_type": "code",
   "execution_count": null,
   "metadata": {},
   "outputs": [],
   "source": []
  },
  {
   "cell_type": "code",
   "execution_count": 25,
   "metadata": {
    "execution": {
     "iopub.execute_input": "2025-04-04T18:40:18.767384Z",
     "iopub.status.busy": "2025-04-04T18:40:18.766949Z",
     "iopub.status.idle": "2025-04-04T18:40:19.711987Z",
     "shell.execute_reply": "2025-04-04T18:40:19.711321Z",
     "shell.execute_reply.started": "2025-04-04T18:40:18.767349Z"
    },
    "executionRoleArn": "arn:aws:iam::307946673210:role/EMRServerlessS3Role",
    "tags": []
   },
   "outputs": [
    {
     "data": {
      "application/vnd.jupyter.widget-view+json": {
       "model_id": "b9054ec2cf0545a1ad5faec61b4974db",
       "version_major": 2,
       "version_minor": 0
      },
      "text/plain": [
       "VBox()"
      ]
     },
     "metadata": {},
     "output_type": "display_data"
    },
    {
     "data": {
      "application/vnd.jupyter.widget-view+json": {
       "model_id": "",
       "version_major": 2,
       "version_minor": 0
      },
      "text/plain": [
       "FloatProgress(value=0.0, bar_style='info', description='Progress:', layout=Layout(height='25px', width='50%'),…"
      ]
     },
     "metadata": {},
     "output_type": "display_data"
    },
    {
     "name": "stdout",
     "output_type": "stream",
     "text": [
      "+--------------------+-------------+--------------------+--------------------+-------------------+------+-------------+\n",
      "|            order_id|order_item_id|          product_id|           seller_id|shipping_limit_date| price|freight_value|\n",
      "+--------------------+-------------+--------------------+--------------------+-------------------+------+-------------+\n",
      "|00010242fe8c5a6d1...|            1|4244733e06e7ecb49...|48436dade18ac8b2b...|2017-09-19 09:45:35|  58.9|        13.29|\n",
      "|00018f77f2f0320c5...|            1|e5f2d52b802189ee6...|dd7ddc04e1b6c2c61...|2017-05-03 11:05:13| 239.9|        19.93|\n",
      "|000229ec398224ef6...|            1|c777355d18b72b67a...|5b51032eddd242adc...|2018-01-18 14:48:30| 199.0|        17.87|\n",
      "|00024acbcdf0a6daa...|            1|7634da152a4610f15...|9d7a1d34a50524090...|2018-08-15 10:10:18| 12.99|        12.79|\n",
      "|00042b26cf59d7ce6...|            1|ac6c3623068f30de0...|df560393f3a51e745...|2017-02-13 13:57:51| 199.9|        18.14|\n",
      "|00048cc3ae777c65d...|            1|ef92defde845ab845...|6426d21aca402a131...|2017-05-23 03:55:27|  21.9|        12.69|\n",
      "|00054e8431b9d7675...|            1|8d4f2bb7e93e6710a...|7040e82f899a04d1b...|2017-12-14 12:10:31|  19.9|        11.85|\n",
      "|000576fe39319847c...|            1|557d850972a7d6f79...|5996cddab893a4652...|2018-07-10 12:30:45| 810.0|        70.75|\n",
      "|0005a1a1728c9d785...|            1|310ae3c140ff94b03...|a416b6a846a117243...|2018-03-26 18:31:29|145.95|        11.65|\n",
      "|0005f50442cb953dc...|            1|4535b0e1091c278df...|ba143b05f0110f0dc...|2018-07-06 14:10:56| 53.99|         11.4|\n",
      "|00061f2a7bc09da83...|            1|d63c1011f49d98b97...|cc419e0650a3c5ba7...|2018-03-29 22:28:09| 59.99|         8.88|\n",
      "|00063b381e2406b52...|            1|f177554ea93259a5b...|8602a61d680a10a82...|2018-07-31 17:30:39|  45.0|        12.98|\n",
      "|0006ec9db01a64e59...|            1|99a4788cb24856965...|4a3ca9315b744ce9f...|2018-07-26 17:24:20|  74.0|        23.32|\n",
      "|0008288aa423d2a3f...|            1|368c6c730842d7801...|1f50f920176fa81da...|2018-02-21 02:55:52|  49.9|        13.37|\n",
      "|0008288aa423d2a3f...|            2|368c6c730842d7801...|1f50f920176fa81da...|2018-02-21 02:55:52|  49.9|        13.37|\n",
      "|0009792311464db53...|            1|8cab8abac59158715...|530ec6109d11eaaf8...|2018-08-17 12:15:10|  99.9|        27.65|\n",
      "|0009c9a17f916a706...|            1|3f27ac8e699df3d30...|fcb5ace8bcc92f757...|2018-05-02 09:31:53| 639.0|        11.34|\n",
      "|000aed2e25dbad2f9...|            1|4fa33915031a8cde0...|fe2032dab1a61af87...|2018-05-16 20:57:03| 144.0|         8.77|\n",
      "|000c3e6612759851c...|            1|b50c950aba0dcead2...|218d46b86c1881d02...|2017-08-21 03:33:13|  99.0|        13.71|\n",
      "|000e562887b1f2006...|            1|5ed9eaf534f6936b5...|8cbac7e12637ed9cf...|2018-02-28 12:08:37|  25.0|        16.11|\n",
      "+--------------------+-------------+--------------------+--------------------+-------------------+------+-------------+\n",
      "only showing top 20 rows"
     ]
    }
   ],
   "source": [
    "# Top Selling Products\n",
    "\n",
    "order_items_df.show()"
   ]
  },
  {
   "cell_type": "code",
   "execution_count": 29,
   "metadata": {
    "execution": {
     "iopub.execute_input": "2025-04-04T18:42:36.106600Z",
     "iopub.status.busy": "2025-04-04T18:42:36.106173Z",
     "iopub.status.idle": "2025-04-04T18:42:37.550118Z",
     "shell.execute_reply": "2025-04-04T18:42:37.549421Z",
     "shell.execute_reply.started": "2025-04-04T18:42:36.106567Z"
    },
    "executionRoleArn": "arn:aws:iam::307946673210:role/EMRServerlessS3Role",
    "tags": []
   },
   "outputs": [
    {
     "data": {
      "application/vnd.jupyter.widget-view+json": {
       "model_id": "269fe42fce114a6db901be845da3c75a",
       "version_major": 2,
       "version_minor": 0
      },
      "text/plain": [
       "VBox()"
      ]
     },
     "metadata": {},
     "output_type": "display_data"
    },
    {
     "data": {
      "application/vnd.jupyter.widget-view+json": {
       "model_id": "",
       "version_major": 2,
       "version_minor": 0
      },
      "text/plain": [
       "FloatProgress(value=0.0, bar_style='info', description='Progress:', layout=Layout(height='25px', width='50%'),…"
      ]
     },
     "metadata": {},
     "output_type": "display_data"
    },
    {
     "name": "stdout",
     "output_type": "stream",
     "text": [
      "+--------------------+------------------+\n",
      "|          product_id|       total_sales|\n",
      "+--------------------+------------------+\n",
      "|bb50f2e236e5eea01...|           63885.0|\n",
      "|6cdd53843498f9289...| 54730.19999999997|\n",
      "|d6160fb7873f18409...|          48899.34|\n",
      "|d1c427060a0f73f6b...| 47214.50999999998|\n",
      "|99a4788cb24856965...| 43025.55999999991|\n",
      "|3dd2a17168ec895c7...| 41082.59999999995|\n",
      "|25c38557cf793876c...|          38907.32|\n",
      "|5f504b3a1c75b73d6...|           37733.9|\n",
      "|53b36df67ebb7c415...| 37683.41999999996|\n",
      "|aca2eb7d00ea1a7b8...| 37608.89999999993|\n",
      "|e0d64dcfaa3b6db5c...|31786.819999999985|\n",
      "|d285360f29ac7fd97...|31623.809999999994|\n",
      "|7a10781637204d8d1...|30467.499999999993|\n",
      "|f1c7f353075ce59d8...|          29997.36|\n",
      "|f819f0c84a64f02d3...|29024.479999999996|\n",
      "|588531f8ec37e7d5f...|28291.989999999998|\n",
      "|422879e10f4668299...|26577.219999999958|\n",
      "|16c4e87b98a9370a9...|           25034.0|\n",
      "|5a848e4ab52fd5445...|24229.029999999973|\n",
      "|a62e25e09e05e6faf...|           24051.0|\n",
      "+--------------------+------------------+\n",
      "only showing top 20 rows"
     ]
    }
   ],
   "source": [
    "from pyspark.sql.functions import sum\n",
    "\n",
    "top_products = order_items_df.groupBy('product_id').agg(sum('price').alias('total_sales'))\n",
    "top_products.orderBy('total_sales', ascending=False).show(20)"
   ]
  },
  {
   "cell_type": "code",
   "execution_count": null,
   "metadata": {
    "executionRoleArn": "arn:aws:iam::307946673210:role/EMRServerlessS3Role",
    "tags": []
   },
   "outputs": [],
   "source": []
  },
  {
   "cell_type": "code",
   "execution_count": null,
   "metadata": {
    "executionRoleArn": "arn:aws:iam::307946673210:role/EMRServerlessS3Role",
    "tags": []
   },
   "outputs": [],
   "source": []
  },
  {
   "cell_type": "code",
   "execution_count": 37,
   "metadata": {
    "execution": {
     "iopub.execute_input": "2025-04-04T18:50:43.471944Z",
     "iopub.status.busy": "2025-04-04T18:50:43.471499Z",
     "iopub.status.idle": "2025-04-04T18:50:43.628436Z",
     "shell.execute_reply": "2025-04-04T18:50:43.627753Z",
     "shell.execute_reply.started": "2025-04-04T18:50:43.471914Z"
    },
    "executionRoleArn": "arn:aws:iam::307946673210:role/EMRServerlessS3Role",
    "tags": []
   },
   "outputs": [
    {
     "data": {
      "application/vnd.jupyter.widget-view+json": {
       "model_id": "75b41d55dcb642deaac640513507905c",
       "version_major": 2,
       "version_minor": 0
      },
      "text/plain": [
       "VBox()"
      ]
     },
     "metadata": {},
     "output_type": "display_data"
    },
    {
     "data": {
      "application/vnd.jupyter.widget-view+json": {
       "model_id": "",
       "version_major": 2,
       "version_minor": 0
      },
      "text/plain": [
       "FloatProgress(value=0.0, bar_style='info', description='Progress:', layout=Layout(height='25px', width='50%'),…"
      ]
     },
     "metadata": {},
     "output_type": "display_data"
    }
   ],
   "source": [
    "# Average Delivery Time Analysis\n",
    "\n",
    "delivery_df = orders_df.select('order_id', 'order_purchase_timestamp', 'order_delivered_customer_date')"
   ]
  },
  {
   "cell_type": "code",
   "execution_count": 38,
   "metadata": {
    "execution": {
     "iopub.execute_input": "2025-04-04T18:50:44.364077Z",
     "iopub.status.busy": "2025-04-04T18:50:44.363649Z",
     "iopub.status.idle": "2025-04-04T18:50:44.521713Z",
     "shell.execute_reply": "2025-04-04T18:50:44.521064Z",
     "shell.execute_reply.started": "2025-04-04T18:50:44.364048Z"
    },
    "executionRoleArn": "arn:aws:iam::307946673210:role/EMRServerlessS3Role",
    "tags": []
   },
   "outputs": [
    {
     "data": {
      "application/vnd.jupyter.widget-view+json": {
       "model_id": "374b78d797844c66906bd98c3be3bc22",
       "version_major": 2,
       "version_minor": 0
      },
      "text/plain": [
       "VBox()"
      ]
     },
     "metadata": {},
     "output_type": "display_data"
    },
    {
     "data": {
      "application/vnd.jupyter.widget-view+json": {
       "model_id": "",
       "version_major": 2,
       "version_minor": 0
      },
      "text/plain": [
       "FloatProgress(value=0.0, bar_style='info', description='Progress:', layout=Layout(height='25px', width='50%'),…"
      ]
     },
     "metadata": {},
     "output_type": "display_data"
    }
   ],
   "source": [
    "from pyspark.sql.functions import datediff, to_date, col\n",
    "\n",
    "delivery_detail_df = delivery_df.withColumn('delivery_time', \n",
    "    datediff(col('order_delivered_customer_date'), col('order_purchase_timestamp'))\n",
    ").orderBy('delivery_time', ascending=False)"
   ]
  },
  {
   "cell_type": "code",
   "execution_count": 40,
   "metadata": {
    "execution": {
     "iopub.execute_input": "2025-04-04T18:51:34.215753Z",
     "iopub.status.busy": "2025-04-04T18:51:34.215318Z",
     "iopub.status.idle": "2025-04-04T18:51:35.166310Z",
     "shell.execute_reply": "2025-04-04T18:51:35.165632Z",
     "shell.execute_reply.started": "2025-04-04T18:51:34.215724Z"
    },
    "executionRoleArn": "arn:aws:iam::307946673210:role/EMRServerlessS3Role",
    "tags": []
   },
   "outputs": [
    {
     "data": {
      "application/vnd.jupyter.widget-view+json": {
       "model_id": "c2e442466aa546f48a44e2e4b0cfbdd5",
       "version_major": 2,
       "version_minor": 0
      },
      "text/plain": [
       "VBox()"
      ]
     },
     "metadata": {},
     "output_type": "display_data"
    },
    {
     "data": {
      "application/vnd.jupyter.widget-view+json": {
       "model_id": "",
       "version_major": 2,
       "version_minor": 0
      },
      "text/plain": [
       "FloatProgress(value=0.0, bar_style='info', description='Progress:', layout=Layout(height='25px', width='50%'),…"
      ]
     },
     "metadata": {},
     "output_type": "display_data"
    },
    {
     "name": "stdout",
     "output_type": "stream",
     "text": [
      "+--------------------+------------------------+-----------------------------+-------------+\n",
      "|            order_id|order_purchase_timestamp|order_delivered_customer_date|delivery_time|\n",
      "+--------------------+------------------------+-----------------------------+-------------+\n",
      "|ca07593549f1816d2...|     2017-02-21 23:31:27|          2017-09-19 14:36:39|          210|\n",
      "|1b3190b2dfa9d789e...|     2018-02-23 14:57:35|          2018-09-19 23:24:07|          208|\n",
      "|440d0d17af552815d...|     2017-03-07 23:59:51|          2017-09-19 15:12:50|          196|\n",
      "|285ab9426d6982034...|     2017-03-08 22:47:40|          2017-09-19 14:00:04|          195|\n",
      "|2fb597c2f772eca01...|     2017-03-08 18:09:02|          2017-09-19 14:33:17|          195|\n",
      "|0f4519c5f1c541dde...|     2017-03-09 13:26:57|          2017-09-19 14:38:21|          194|\n",
      "|47b40429ed8cce3ae...|     2018-01-03 09:44:01|          2018-07-13 20:51:31|          191|\n",
      "|2fe324febf907e3ea...|     2017-03-13 20:17:10|          2017-09-19 17:00:07|          190|\n",
      "|2d7561026d542c8db...|     2017-03-15 11:24:27|          2017-09-19 14:38:18|          188|\n",
      "|c27815f7e3dd0b926...|     2017-03-15 23:23:17|          2017-09-19 17:14:25|          188|\n",
      "|437222e3fd1b07396...|     2017-03-16 11:36:00|          2017-09-19 16:28:58|          187|\n",
      "|dfe5f68118c257614...|     2017-03-17 12:32:22|          2017-09-19 18:13:19|          186|\n",
      "|6e82dcfb5eada6283...|     2017-05-17 19:09:02|          2017-11-16 10:56:45|          183|\n",
      "|2ba1366baecad3c35...|     2017-02-28 14:56:37|          2017-08-28 16:23:46|          181|\n",
      "|d24e8541128cea179...|     2017-06-12 13:14:11|          2017-12-04 18:36:29|          175|\n",
      "|3566eabb132f8d647...|     2017-03-29 13:57:55|          2017-09-19 15:07:09|          174|\n",
      "|ed8e9faf1b75f43ee...|     2017-11-29 15:10:14|          2018-05-21 18:22:18|          173|\n",
      "|2fa29503f2ebd9f53...|     2017-03-31 15:03:51|          2017-09-19 18:24:46|          172|\n",
      "|4fbc8d6f2f4db3e78...|     2018-02-02 21:38:36|          2018-07-20 23:37:50|          168|\n",
      "|a452fba32eab28a4a...|     2017-04-04 23:21:02|          2017-09-19 13:47:09|          168|\n",
      "+--------------------+------------------------+-----------------------------+-------------+\n",
      "only showing top 20 rows"
     ]
    }
   ],
   "source": [
    "delivery_detail_df.orderBy('delivery_time', ascending=False).show(20)"
   ]
  },
  {
   "cell_type": "markdown",
   "metadata": {},
   "source": [
    "# Data Cleaning and Transformation"
   ]
  },
  {
   "cell_type": "code",
   "execution_count": null,
   "metadata": {},
   "outputs": [],
   "source": []
  }
 ],
 "metadata": {
  "kernelspec": {
   "display_name": "PySpark",
   "language": "python",
   "name": "spark_magic_pyspark"
  },
  "language_info": {
   "codemirror_mode": {
    "name": "python",
    "version": 3
   },
   "file_extension": ".py",
   "mimetype": "text/x-python",
   "name": "pyspark",
   "pygments_lexer": "python3"
  }
 },
 "nbformat": 4,
 "nbformat_minor": 4
}
