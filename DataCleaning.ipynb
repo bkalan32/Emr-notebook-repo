{
 "cells": [
  {
   "cell_type": "code",
   "execution_count": 1,
   "id": "0384672d-1e40-421d-bb7b-3e8d52bf16bb",
   "metadata": {
    "execution": {
     "iopub.execute_input": "2025-04-05T00:07:49.224409Z",
     "iopub.status.busy": "2025-04-05T00:07:49.223949Z",
     "iopub.status.idle": "2025-04-05T00:08:07.328842Z",
     "shell.execute_reply": "2025-04-05T00:08:07.328204Z",
     "shell.execute_reply.started": "2025-04-05T00:07:49.224370Z"
    },
    "executionRoleArn": "arn:aws:iam::307946673210:role/EMRServerlessS3Role",
    "tags": []
   },
   "outputs": [
    {
     "data": {
      "application/vnd.jupyter.widget-view+json": {
       "model_id": "38c531eb9df74dd28f5131c78db2ec57",
       "version_major": 2,
       "version_minor": 0
      },
      "text/plain": [
       "VBox()"
      ]
     },
     "metadata": {},
     "output_type": "display_data"
    },
    {
     "name": "stdout",
     "output_type": "stream",
     "text": [
      "Starting Spark application\n"
     ]
    },
    {
     "data": {
      "text/html": [
       "<table>\n",
       "    <tr><th>ID</th><th>Kind</th><th>State</th><th>Spark UI</th><th>Driver log</th><th>User</th><th>Current session?</th></tr><tr><td>0</td><td>pyspark</td><td>idle</td><td><a target=\"_blank\" href=\"https://spark-live-ui.emr-serverless.amazonaws.com\" class=\"emr-proxy-link\" emr-runtime=\"emr-serverless\" emr-resource=\"00frggb70q8s610a\" application-id=\"00fqrb7u83iumc09\">Link</a></td><td></td><td>None</td><td>✔</td></tr></table>"
      ],
      "text/plain": [
       "<IPython.core.display.HTML object>"
      ]
     },
     "metadata": {},
     "output_type": "display_data"
    },
    {
     "data": {
      "application/vnd.jupyter.widget-view+json": {
       "model_id": "",
       "version_major": 2,
       "version_minor": 0
      },
      "text/plain": [
       "FloatProgress(value=0.0, bar_style='info', description='Progress:', layout=Layout(height='25px', width='50%'),…"
      ]
     },
     "metadata": {},
     "output_type": "display_data"
    },
    {
     "name": "stdout",
     "output_type": "stream",
     "text": [
      "SparkSession available as 'spark'.\n"
     ]
    },
    {
     "data": {
      "application/vnd.jupyter.widget-view+json": {
       "model_id": "",
       "version_major": 2,
       "version_minor": 0
      },
      "text/plain": [
       "FloatProgress(value=0.0, bar_style='info', description='Progress:', layout=Layout(height='25px', width='50%'),…"
      ]
     },
     "metadata": {},
     "output_type": "display_data"
    }
   ],
   "source": [
    "# Configure Spark Session\n",
    "\n",
    "from pyspark.sql import SparkSession\n",
    "\n",
    "spark = SparkSession.builder \\\n",
    ".appName('OlistData')\\\n",
    ".getOrCreate()"
   ]
  },
  {
   "cell_type": "code",
   "execution_count": 2,
   "id": "03e4167f-609f-4cff-8bd9-f405aa18b6ea",
   "metadata": {
    "execution": {
     "iopub.execute_input": "2025-04-05T00:08:21.356689Z",
     "iopub.status.busy": "2025-04-05T00:08:21.356245Z",
     "iopub.status.idle": "2025-04-05T00:08:23.211896Z",
     "shell.execute_reply": "2025-04-05T00:08:23.211281Z",
     "shell.execute_reply.started": "2025-04-05T00:08:21.356658Z"
    },
    "executionRoleArn": "arn:aws:iam::307946673210:role/EMRServerlessS3Role",
    "tags": []
   },
   "outputs": [
    {
     "data": {
      "application/vnd.jupyter.widget-view+json": {
       "model_id": "6656e967a268492f864bee8b823f02f8",
       "version_major": 2,
       "version_minor": 0
      },
      "text/plain": [
       "VBox()"
      ]
     },
     "metadata": {},
     "output_type": "display_data"
    },
    {
     "data": {
      "application/vnd.jupyter.widget-view+json": {
       "model_id": "",
       "version_major": 2,
       "version_minor": 0
      },
      "text/plain": [
       "FloatProgress(value=0.0, bar_style='info', description='Progress:', layout=Layout(height='25px', width='50%'),…"
      ]
     },
     "metadata": {},
     "output_type": "display_data"
    }
   ],
   "source": [
    "# Set path to the S3 bucket where data is stored\n",
    "s3_path = \"s3://kalan-emr-tutorial/input/hadoop/\""
   ]
  },
  {
   "cell_type": "code",
   "execution_count": 3,
   "id": "41f75433-496c-43bf-be78-1b0ed82e564b",
   "metadata": {
    "execution": {
     "iopub.execute_input": "2025-04-05T00:08:33.238373Z",
     "iopub.status.busy": "2025-04-05T00:08:33.237901Z",
     "iopub.status.idle": "2025-04-05T00:08:55.424816Z",
     "shell.execute_reply": "2025-04-05T00:08:55.424170Z",
     "shell.execute_reply.started": "2025-04-05T00:08:33.238343Z"
    },
    "executionRoleArn": "arn:aws:iam::307946673210:role/EMRServerlessS3Role",
    "tags": []
   },
   "outputs": [
    {
     "data": {
      "application/vnd.jupyter.widget-view+json": {
       "model_id": "3ab246569fc74dda80cffaa1ba7bf3ef",
       "version_major": 2,
       "version_minor": 0
      },
      "text/plain": [
       "VBox()"
      ]
     },
     "metadata": {},
     "output_type": "display_data"
    },
    {
     "data": {
      "application/vnd.jupyter.widget-view+json": {
       "model_id": "",
       "version_major": 2,
       "version_minor": 0
      },
      "text/plain": [
       "FloatProgress(value=0.0, bar_style='info', description='Progress:', layout=Layout(height='25px', width='50%'),…"
      ]
     },
     "metadata": {},
     "output_type": "display_data"
    }
   ],
   "source": [
    "# Create DataFrames for each CSV file\n",
    "customers_df = spark.read.csv(s3_path + \"olist_customers_dataset.csv\", header=True, inferSchema=True)\n",
    "geolocation_df = spark.read.csv(s3_path + \"olist_geolocation_dataset.csv\", header=True, inferSchema=True)\n",
    "order_items_df = spark.read.csv(s3_path + \"olist_order_items_dataset.csv\", header=True, inferSchema=True)\n",
    "payments_df = spark.read.csv(s3_path + \"olist_order_payments_dataset.csv\", header=True, inferSchema=True)\n",
    "order_reviews_df = spark.read.csv(s3_path + \"olist_order_reviews_dataset.csv\", header=True, inferSchema=True)\n",
    "orders_df = spark.read.csv(s3_path + \"olist_orders_dataset.csv\", header=True, inferSchema=True)\n",
    "products_df = spark.read.csv(s3_path + \"olist_products_dataset.csv\", header=True, inferSchema=True)\n",
    "sellers_df = spark.read.csv(s3_path + \"olist_sellers_dataset.csv\", header=True, inferSchema=True)\n",
    "category_translation_df = spark.read.csv(s3_path + \"product_category_name_translation.csv\", header=True, inferSchema=True)"
   ]
  },
  {
   "cell_type": "code",
   "execution_count": 8,
   "id": "f8fe60ac-0217-4ba9-a457-ebbe0d523d95",
   "metadata": {
    "execution": {
     "iopub.execute_input": "2025-04-05T00:11:34.768908Z",
     "iopub.status.busy": "2025-04-05T00:11:34.768457Z",
     "iopub.status.idle": "2025-04-05T00:11:34.944104Z",
     "shell.execute_reply": "2025-04-05T00:11:34.943378Z",
     "shell.execute_reply.started": "2025-04-05T00:11:34.768878Z"
    },
    "executionRoleArn": "arn:aws:iam::307946673210:role/EMRServerlessS3Role",
    "tags": []
   },
   "outputs": [
    {
     "data": {
      "application/vnd.jupyter.widget-view+json": {
       "model_id": "346857ea79e84611ab65075b8454f3e9",
       "version_major": 2,
       "version_minor": 0
      },
      "text/plain": [
       "VBox()"
      ]
     },
     "metadata": {},
     "output_type": "display_data"
    },
    {
     "data": {
      "application/vnd.jupyter.widget-view+json": {
       "model_id": "",
       "version_major": 2,
       "version_minor": 0
      },
      "text/plain": [
       "FloatProgress(value=0.0, bar_style='info', description='Progress:', layout=Layout(height='25px', width='50%'),…"
      ]
     },
     "metadata": {},
     "output_type": "display_data"
    }
   ],
   "source": [
    "# Define a function that counts null values\n",
    "from pyspark.sql.functions import *\n",
    "\n",
    "def missing_values(df,df_name):\n",
    "    print(f'Missing values in {df_name}:')\n",
    "    df.select([count(when(col(c).isNull(),1)).alias(c) for c in df.columns]).show()"
   ]
  },
  {
   "cell_type": "code",
   "execution_count": 9,
   "id": "9ce24849-319a-41f8-8995-cc3306b005f1",
   "metadata": {
    "execution": {
     "iopub.execute_input": "2025-04-05T00:11:35.465381Z",
     "iopub.status.busy": "2025-04-05T00:11:35.464953Z",
     "iopub.status.idle": "2025-04-05T00:11:40.989608Z",
     "shell.execute_reply": "2025-04-05T00:11:40.988955Z",
     "shell.execute_reply.started": "2025-04-05T00:11:35.465352Z"
    },
    "executionRoleArn": "arn:aws:iam::307946673210:role/EMRServerlessS3Role",
    "tags": []
   },
   "outputs": [
    {
     "data": {
      "application/vnd.jupyter.widget-view+json": {
       "model_id": "15a314b6c8964af295ffdfe139eb5f50",
       "version_major": 2,
       "version_minor": 0
      },
      "text/plain": [
       "VBox()"
      ]
     },
     "metadata": {},
     "output_type": "display_data"
    },
    {
     "data": {
      "application/vnd.jupyter.widget-view+json": {
       "model_id": "",
       "version_major": 2,
       "version_minor": 0
      },
      "text/plain": [
       "FloatProgress(value=0.0, bar_style='info', description='Progress:', layout=Layout(height='25px', width='50%'),…"
      ]
     },
     "metadata": {},
     "output_type": "display_data"
    },
    {
     "name": "stdout",
     "output_type": "stream",
     "text": [
      "Missing values in customers:\n",
      "+-----------+------------------+------------------------+-------------+--------------+\n",
      "|customer_id|customer_unique_id|customer_zip_code_prefix|customer_city|customer_state|\n",
      "+-----------+------------------+------------------------+-------------+--------------+\n",
      "|          0|                 0|                       0|            0|             0|\n",
      "+-----------+------------------+------------------------+-------------+--------------+"
     ]
    }
   ],
   "source": [
    "missing_values(customers_df, 'customers')"
   ]
  },
  {
   "cell_type": "code",
   "execution_count": 10,
   "id": "6df40c9c-129f-41cc-b358-48d7430eb873",
   "metadata": {
    "execution": {
     "iopub.execute_input": "2025-04-05T00:11:58.041547Z",
     "iopub.status.busy": "2025-04-05T00:11:58.041122Z",
     "iopub.status.idle": "2025-04-05T00:12:00.568923Z",
     "shell.execute_reply": "2025-04-05T00:12:00.568294Z",
     "shell.execute_reply.started": "2025-04-05T00:11:58.041515Z"
    },
    "executionRoleArn": "arn:aws:iam::307946673210:role/EMRServerlessS3Role",
    "tags": []
   },
   "outputs": [
    {
     "data": {
      "application/vnd.jupyter.widget-view+json": {
       "model_id": "5e1e1282a57540cc96369e7e06699a8c",
       "version_major": 2,
       "version_minor": 0
      },
      "text/plain": [
       "VBox()"
      ]
     },
     "metadata": {},
     "output_type": "display_data"
    },
    {
     "data": {
      "application/vnd.jupyter.widget-view+json": {
       "model_id": "",
       "version_major": 2,
       "version_minor": 0
      },
      "text/plain": [
       "FloatProgress(value=0.0, bar_style='info', description='Progress:', layout=Layout(height='25px', width='50%'),…"
      ]
     },
     "metadata": {},
     "output_type": "display_data"
    },
    {
     "name": "stdout",
     "output_type": "stream",
     "text": [
      "Missing values in geolocation:\n",
      "+---------------------------+---------------+---------------+----------------+-----------------+\n",
      "|geolocation_zip_code_prefix|geolocation_lat|geolocation_lng|geolocation_city|geolocation_state|\n",
      "+---------------------------+---------------+---------------+----------------+-----------------+\n",
      "|                          0|              0|              0|               0|                0|\n",
      "+---------------------------+---------------+---------------+----------------+-----------------+"
     ]
    }
   ],
   "source": [
    "missing_values(geolocation_df, 'geolocation')"
   ]
  },
  {
   "cell_type": "code",
   "execution_count": 11,
   "id": "65e24c6c-0f08-4df9-a1d1-b42d9b7dfa42",
   "metadata": {
    "execution": {
     "iopub.execute_input": "2025-04-05T00:12:17.130914Z",
     "iopub.status.busy": "2025-04-05T00:12:17.130495Z",
     "iopub.status.idle": "2025-04-05T00:12:18.592041Z",
     "shell.execute_reply": "2025-04-05T00:12:18.591309Z",
     "shell.execute_reply.started": "2025-04-05T00:12:17.130881Z"
    },
    "executionRoleArn": "arn:aws:iam::307946673210:role/EMRServerlessS3Role",
    "tags": []
   },
   "outputs": [
    {
     "data": {
      "application/vnd.jupyter.widget-view+json": {
       "model_id": "52a899ca2c6e4854957509040795f849",
       "version_major": 2,
       "version_minor": 0
      },
      "text/plain": [
       "VBox()"
      ]
     },
     "metadata": {},
     "output_type": "display_data"
    },
    {
     "data": {
      "application/vnd.jupyter.widget-view+json": {
       "model_id": "",
       "version_major": 2,
       "version_minor": 0
      },
      "text/plain": [
       "FloatProgress(value=0.0, bar_style='info', description='Progress:', layout=Layout(height='25px', width='50%'),…"
      ]
     },
     "metadata": {},
     "output_type": "display_data"
    },
    {
     "name": "stdout",
     "output_type": "stream",
     "text": [
      "Missing values in order_item:\n",
      "+--------+-----------+------------+------------------------+-----------------+----------------------------+-----------------------------+-----------------------------+\n",
      "|order_id|customer_id|order_status|order_purchase_timestamp|order_approved_at|order_delivered_carrier_date|order_delivered_customer_date|order_estimated_delivery_date|\n",
      "+--------+-----------+------------+------------------------+-----------------+----------------------------+-----------------------------+-----------------------------+\n",
      "|       0|          0|           0|                       0|              160|                        1783|                         2965|                            0|\n",
      "+--------+-----------+------------+------------------------+-----------------+----------------------------+-----------------------------+-----------------------------+"
     ]
    }
   ],
   "source": [
    "missing_values(orders_df,'order_item')"
   ]
  },
  {
   "cell_type": "markdown",
   "id": "22d38db6-5a37-4f17-9a53-9aa02c9baa5d",
   "metadata": {},
   "source": [
    "# Handle Missing Values\n",
    "\n",
    "1. Drop missing Values ( for non - critical columns )\n",
    "\n",
    "2. Fill missing values ( for numerical columns )\n",
    "\n",
    "3. Impute Missing Values ( for continous data )"
   ]
  },
  {
   "cell_type": "code",
   "execution_count": 12,
   "id": "b3d76271-4a18-45ab-a547-6311c34202d6",
   "metadata": {
    "execution": {
     "iopub.execute_input": "2025-04-05T00:17:22.525290Z",
     "iopub.status.busy": "2025-04-05T00:17:22.524853Z",
     "iopub.status.idle": "2025-04-05T00:17:22.747096Z",
     "shell.execute_reply": "2025-04-05T00:17:22.746435Z",
     "shell.execute_reply.started": "2025-04-05T00:17:22.525257Z"
    },
    "executionRoleArn": "arn:aws:iam::307946673210:role/EMRServerlessS3Role",
    "tags": []
   },
   "outputs": [
    {
     "data": {
      "application/vnd.jupyter.widget-view+json": {
       "model_id": "dd0eb325ad7a43eda748419b4c0ccfe4",
       "version_major": 2,
       "version_minor": 0
      },
      "text/plain": [
       "VBox()"
      ]
     },
     "metadata": {},
     "output_type": "display_data"
    },
    {
     "data": {
      "application/vnd.jupyter.widget-view+json": {
       "model_id": "",
       "version_major": 2,
       "version_minor": 0
      },
      "text/plain": [
       "FloatProgress(value=0.0, bar_style='info', description='Progress:', layout=Layout(height='25px', width='50%'),…"
      ]
     },
     "metadata": {},
     "output_type": "display_data"
    }
   ],
   "source": [
    "orders_df_cleaned = orders_df.na.drop(subset=['order_id','customer_id','order_status'])"
   ]
  },
  {
   "cell_type": "code",
   "execution_count": 14,
   "id": "a3358412-21ee-4bb1-a47d-aa3935cc4e18",
   "metadata": {
    "execution": {
     "iopub.execute_input": "2025-04-05T00:17:36.729652Z",
     "iopub.status.busy": "2025-04-05T00:17:36.729211Z",
     "iopub.status.idle": "2025-04-05T00:17:37.644631Z",
     "shell.execute_reply": "2025-04-05T00:17:37.643935Z",
     "shell.execute_reply.started": "2025-04-05T00:17:36.729621Z"
    },
    "executionRoleArn": "arn:aws:iam::307946673210:role/EMRServerlessS3Role",
    "tags": []
   },
   "outputs": [
    {
     "data": {
      "application/vnd.jupyter.widget-view+json": {
       "model_id": "3cfb6e8a29eb42568567d298ce5ff2d6",
       "version_major": 2,
       "version_minor": 0
      },
      "text/plain": [
       "VBox()"
      ]
     },
     "metadata": {},
     "output_type": "display_data"
    },
    {
     "data": {
      "application/vnd.jupyter.widget-view+json": {
       "model_id": "",
       "version_major": 2,
       "version_minor": 0
      },
      "text/plain": [
       "FloatProgress(value=0.0, bar_style='info', description='Progress:', layout=Layout(height='25px', width='50%'),…"
      ]
     },
     "metadata": {},
     "output_type": "display_data"
    },
    {
     "name": "stdout",
     "output_type": "stream",
     "text": [
      "+--------------------+--------------------+------------+------------------------+-------------------+----------------------------+-----------------------------+-----------------------------+\n",
      "|            order_id|         customer_id|order_status|order_purchase_timestamp|  order_approved_at|order_delivered_carrier_date|order_delivered_customer_date|order_estimated_delivery_date|\n",
      "+--------------------+--------------------+------------+------------------------+-------------------+----------------------------+-----------------------------+-----------------------------+\n",
      "|e481f51cbdc54678b...|9ef432eb625129730...|   delivered|     2017-10-02 10:56:33|2017-10-02 11:07:15|         2017-10-04 19:55:00|          2017-10-10 21:25:13|          2017-10-18 00:00:00|\n",
      "|53cdb2fc8bc7dce0b...|b0830fb4747a6c6d2...|   delivered|     2018-07-24 20:41:37|2018-07-26 03:24:27|         2018-07-26 14:31:00|          2018-08-07 15:27:45|          2018-08-13 00:00:00|\n",
      "|47770eb9100c2d0c4...|41ce2a54c0b03bf34...|   delivered|     2018-08-08 08:38:49|2018-08-08 08:55:23|         2018-08-08 13:50:00|          2018-08-17 18:06:29|          2018-09-04 00:00:00|\n",
      "|949d5b44dbf5de918...|f88197465ea7920ad...|   delivered|     2017-11-18 19:28:06|2017-11-18 19:45:59|         2017-11-22 13:39:59|          2017-12-02 00:28:42|          2017-12-15 00:00:00|\n",
      "|ad21c59c0840e6cb8...|8ab97904e6daea886...|   delivered|     2018-02-13 21:18:39|2018-02-13 22:20:29|         2018-02-14 19:46:34|          2018-02-16 18:17:02|          2018-02-26 00:00:00|\n",
      "|a4591c265e18cb1dc...|503740e9ca751ccdd...|   delivered|     2017-07-09 21:57:05|2017-07-09 22:10:13|         2017-07-11 14:58:04|          2017-07-26 10:57:55|          2017-08-01 00:00:00|\n",
      "|136cce7faa42fdb2c...|ed0271e0b7da060a3...|    invoiced|     2017-04-11 12:22:08|2017-04-13 13:25:17|                        null|                         null|          2017-05-09 00:00:00|\n",
      "|6514b8ad8028c9f2c...|9bdf08b4b3b52b552...|   delivered|     2017-05-16 13:10:30|2017-05-16 13:22:11|         2017-05-22 10:07:46|          2017-05-26 12:55:51|          2017-06-07 00:00:00|\n",
      "|76c6e866289321a7c...|f54a9f0e6b351c431...|   delivered|     2017-01-23 18:29:09|2017-01-25 02:50:47|         2017-01-26 14:16:31|          2017-02-02 14:08:10|          2017-03-06 00:00:00|\n",
      "|e69bfb5eb88e0ed6a...|31ad1d1b63eb99624...|   delivered|     2017-07-29 11:55:02|2017-07-29 12:05:32|         2017-08-10 19:45:24|          2017-08-16 17:14:30|          2017-08-23 00:00:00|\n",
      "|e6ce16cb79ec1d90b...|494dded5b201313c6...|   delivered|     2017-05-16 19:41:10|2017-05-16 19:50:18|         2017-05-18 11:40:40|          2017-05-29 11:18:31|          2017-06-07 00:00:00|\n",
      "|34513ce0c4fab462a...|7711cf624183d843a...|   delivered|     2017-07-13 19:58:11|2017-07-13 20:10:08|         2017-07-14 18:43:29|          2017-07-19 14:04:48|          2017-08-08 00:00:00|\n",
      "|82566a660a982b15f...|d3e3b74c766bc6214...|   delivered|     2018-06-07 10:06:19|2018-06-09 03:13:12|         2018-06-11 13:29:00|          2018-06-19 12:05:52|          2018-07-18 00:00:00|\n",
      "|5ff96c15d0b717ac6...|19402a48fe860416a...|   delivered|     2018-07-25 17:44:10|2018-07-25 17:55:14|         2018-07-26 13:16:00|          2018-07-30 15:52:25|          2018-08-08 00:00:00|\n",
      "|432aaf21d85167c2c...|3df704f53d3f1d481...|   delivered|     2018-03-01 14:14:28|2018-03-01 15:10:47|         2018-03-02 21:09:20|          2018-03-12 23:36:26|          2018-03-21 00:00:00|\n",
      "|dcb36b511fcac050b...|3b6828a50ffe54694...|   delivered|     2018-06-07 19:03:12|2018-06-12 23:31:02|         2018-06-11 14:54:00|          2018-06-21 15:34:32|          2018-07-04 00:00:00|\n",
      "|403b97836b0c04a62...|738b086814c6fcc74...|   delivered|     2018-01-02 19:00:43|2018-01-02 19:09:04|         2018-01-03 18:19:09|          2018-01-20 01:38:59|          2018-02-06 00:00:00|\n",
      "|116f0b09343b49556...|3187789bec9909876...|   delivered|     2017-12-26 23:41:31|2017-12-26 23:50:22|         2017-12-28 18:33:05|          2018-01-08 22:36:36|          2018-01-29 00:00:00|\n",
      "|85ce859fd6dc634de...|059f7fc5719c7da6c...|   delivered|     2017-11-21 00:03:41|2017-11-21 00:14:22|         2017-11-23 21:32:26|          2017-11-27 18:28:00|          2017-12-11 00:00:00|\n",
      "|83018ec114eee8641...|7f8c8b9c2ae27bf33...|   delivered|     2017-10-26 15:54:26|2017-10-26 16:08:14|         2017-10-26 21:46:53|          2017-11-08 22:22:00|          2017-11-23 00:00:00|\n",
      "+--------------------+--------------------+------------+------------------------+-------------------+----------------------------+-----------------------------+-----------------------------+\n",
      "only showing top 20 rows"
     ]
    }
   ],
   "source": [
    "orders_df_cleaned.show()"
   ]
  },
  {
   "cell_type": "code",
   "execution_count": null,
   "id": "28ae8b6d-5131-4f4f-9615-3379f0865757",
   "metadata": {},
   "outputs": [],
   "source": []
  },
  {
   "cell_type": "code",
   "execution_count": null,
   "id": "d25c2139-8182-4c5d-94f1-f2b9411afa83",
   "metadata": {},
   "outputs": [],
   "source": []
  },
  {
   "cell_type": "code",
   "execution_count": 18,
   "id": "9b49cf4b-8db5-4a96-97d5-349288faf994",
   "metadata": {
    "execution": {
     "iopub.execute_input": "2025-04-05T00:20:24.539149Z",
     "iopub.status.busy": "2025-04-05T00:20:24.538704Z",
     "iopub.status.idle": "2025-04-05T00:20:24.724922Z",
     "shell.execute_reply": "2025-04-05T00:20:24.724164Z",
     "shell.execute_reply.started": "2025-04-05T00:20:24.539119Z"
    },
    "executionRoleArn": "arn:aws:iam::307946673210:role/EMRServerlessS3Role",
    "tags": []
   },
   "outputs": [
    {
     "data": {
      "application/vnd.jupyter.widget-view+json": {
       "model_id": "39ce3449d63a4247a4f25d45cd62ed24",
       "version_major": 2,
       "version_minor": 0
      },
      "text/plain": [
       "VBox()"
      ]
     },
     "metadata": {},
     "output_type": "display_data"
    },
    {
     "data": {
      "application/vnd.jupyter.widget-view+json": {
       "model_id": "",
       "version_major": 2,
       "version_minor": 0
      },
      "text/plain": [
       "FloatProgress(value=0.0, bar_style='info', description='Progress:', layout=Layout(height='25px', width='50%'),…"
      ]
     },
     "metadata": {},
     "output_type": "display_data"
    }
   ],
   "source": [
    "orders_df_cleaned = orders_df.fillna({\n",
    "    'order_delivered_carrier_date': '9999-12-31',\n",
    "    'order_delivered_customer_date': '9999-12-31'\n",
    "})"
   ]
  },
  {
   "cell_type": "code",
   "execution_count": 19,
   "id": "27efb310-67e0-49ac-98f7-c7e95b1a1647",
   "metadata": {
    "execution": {
     "iopub.execute_input": "2025-04-05T00:20:25.411617Z",
     "iopub.status.busy": "2025-04-05T00:20:25.411200Z",
     "iopub.status.idle": "2025-04-05T00:20:26.335479Z",
     "shell.execute_reply": "2025-04-05T00:20:26.334731Z",
     "shell.execute_reply.started": "2025-04-05T00:20:25.411585Z"
    },
    "executionRoleArn": "arn:aws:iam::307946673210:role/EMRServerlessS3Role",
    "tags": []
   },
   "outputs": [
    {
     "data": {
      "application/vnd.jupyter.widget-view+json": {
       "model_id": "f1a3e9129af3428f84c5bbea24f527dd",
       "version_major": 2,
       "version_minor": 0
      },
      "text/plain": [
       "VBox()"
      ]
     },
     "metadata": {},
     "output_type": "display_data"
    },
    {
     "data": {
      "application/vnd.jupyter.widget-view+json": {
       "model_id": "",
       "version_major": 2,
       "version_minor": 0
      },
      "text/plain": [
       "FloatProgress(value=0.0, bar_style='info', description='Progress:', layout=Layout(height='25px', width='50%'),…"
      ]
     },
     "metadata": {},
     "output_type": "display_data"
    },
    {
     "name": "stdout",
     "output_type": "stream",
     "text": [
      "+--------------------+--------------------+------------+------------------------+-------------------+----------------------------+-----------------------------+-----------------------------+\n",
      "|            order_id|         customer_id|order_status|order_purchase_timestamp|  order_approved_at|order_delivered_carrier_date|order_delivered_customer_date|order_estimated_delivery_date|\n",
      "+--------------------+--------------------+------------+------------------------+-------------------+----------------------------+-----------------------------+-----------------------------+\n",
      "|e481f51cbdc54678b...|9ef432eb625129730...|   delivered|     2017-10-02 10:56:33|2017-10-02 11:07:15|         2017-10-04 19:55:00|          2017-10-10 21:25:13|          2017-10-18 00:00:00|\n",
      "|53cdb2fc8bc7dce0b...|b0830fb4747a6c6d2...|   delivered|     2018-07-24 20:41:37|2018-07-26 03:24:27|         2018-07-26 14:31:00|          2018-08-07 15:27:45|          2018-08-13 00:00:00|\n",
      "|47770eb9100c2d0c4...|41ce2a54c0b03bf34...|   delivered|     2018-08-08 08:38:49|2018-08-08 08:55:23|         2018-08-08 13:50:00|          2018-08-17 18:06:29|          2018-09-04 00:00:00|\n",
      "|949d5b44dbf5de918...|f88197465ea7920ad...|   delivered|     2017-11-18 19:28:06|2017-11-18 19:45:59|         2017-11-22 13:39:59|          2017-12-02 00:28:42|          2017-12-15 00:00:00|\n",
      "|ad21c59c0840e6cb8...|8ab97904e6daea886...|   delivered|     2018-02-13 21:18:39|2018-02-13 22:20:29|         2018-02-14 19:46:34|          2018-02-16 18:17:02|          2018-02-26 00:00:00|\n",
      "|a4591c265e18cb1dc...|503740e9ca751ccdd...|   delivered|     2017-07-09 21:57:05|2017-07-09 22:10:13|         2017-07-11 14:58:04|          2017-07-26 10:57:55|          2017-08-01 00:00:00|\n",
      "|136cce7faa42fdb2c...|ed0271e0b7da060a3...|    invoiced|     2017-04-11 12:22:08|2017-04-13 13:25:17|         9999-12-31 00:00:00|          9999-12-31 00:00:00|          2017-05-09 00:00:00|\n",
      "|6514b8ad8028c9f2c...|9bdf08b4b3b52b552...|   delivered|     2017-05-16 13:10:30|2017-05-16 13:22:11|         2017-05-22 10:07:46|          2017-05-26 12:55:51|          2017-06-07 00:00:00|\n",
      "|76c6e866289321a7c...|f54a9f0e6b351c431...|   delivered|     2017-01-23 18:29:09|2017-01-25 02:50:47|         2017-01-26 14:16:31|          2017-02-02 14:08:10|          2017-03-06 00:00:00|\n",
      "|e69bfb5eb88e0ed6a...|31ad1d1b63eb99624...|   delivered|     2017-07-29 11:55:02|2017-07-29 12:05:32|         2017-08-10 19:45:24|          2017-08-16 17:14:30|          2017-08-23 00:00:00|\n",
      "|e6ce16cb79ec1d90b...|494dded5b201313c6...|   delivered|     2017-05-16 19:41:10|2017-05-16 19:50:18|         2017-05-18 11:40:40|          2017-05-29 11:18:31|          2017-06-07 00:00:00|\n",
      "|34513ce0c4fab462a...|7711cf624183d843a...|   delivered|     2017-07-13 19:58:11|2017-07-13 20:10:08|         2017-07-14 18:43:29|          2017-07-19 14:04:48|          2017-08-08 00:00:00|\n",
      "|82566a660a982b15f...|d3e3b74c766bc6214...|   delivered|     2018-06-07 10:06:19|2018-06-09 03:13:12|         2018-06-11 13:29:00|          2018-06-19 12:05:52|          2018-07-18 00:00:00|\n",
      "|5ff96c15d0b717ac6...|19402a48fe860416a...|   delivered|     2018-07-25 17:44:10|2018-07-25 17:55:14|         2018-07-26 13:16:00|          2018-07-30 15:52:25|          2018-08-08 00:00:00|\n",
      "|432aaf21d85167c2c...|3df704f53d3f1d481...|   delivered|     2018-03-01 14:14:28|2018-03-01 15:10:47|         2018-03-02 21:09:20|          2018-03-12 23:36:26|          2018-03-21 00:00:00|\n",
      "|dcb36b511fcac050b...|3b6828a50ffe54694...|   delivered|     2018-06-07 19:03:12|2018-06-12 23:31:02|         2018-06-11 14:54:00|          2018-06-21 15:34:32|          2018-07-04 00:00:00|\n",
      "|403b97836b0c04a62...|738b086814c6fcc74...|   delivered|     2018-01-02 19:00:43|2018-01-02 19:09:04|         2018-01-03 18:19:09|          2018-01-20 01:38:59|          2018-02-06 00:00:00|\n",
      "|116f0b09343b49556...|3187789bec9909876...|   delivered|     2017-12-26 23:41:31|2017-12-26 23:50:22|         2017-12-28 18:33:05|          2018-01-08 22:36:36|          2018-01-29 00:00:00|\n",
      "|85ce859fd6dc634de...|059f7fc5719c7da6c...|   delivered|     2017-11-21 00:03:41|2017-11-21 00:14:22|         2017-11-23 21:32:26|          2017-11-27 18:28:00|          2017-12-11 00:00:00|\n",
      "|83018ec114eee8641...|7f8c8b9c2ae27bf33...|   delivered|     2017-10-26 15:54:26|2017-10-26 16:08:14|         2017-10-26 21:46:53|          2017-11-08 22:22:00|          2017-11-23 00:00:00|\n",
      "+--------------------+--------------------+------------+------------------------+-------------------+----------------------------+-----------------------------+-----------------------------+\n",
      "only showing top 20 rows"
     ]
    }
   ],
   "source": [
    "orders_df_cleaned.show()"
   ]
  },
  {
   "cell_type": "markdown",
   "id": "480df4a7-ad60-4238-856d-c8a9c8bbe65d",
   "metadata": {},
   "source": [
    "# Impute Missing Values"
   ]
  },
  {
   "cell_type": "code",
   "execution_count": 63,
   "id": "2c121777-fd78-49b8-a395-7990ea578289",
   "metadata": {
    "execution": {
     "iopub.execute_input": "2025-04-05T00:40:58.337235Z",
     "iopub.status.busy": "2025-04-05T00:40:58.336785Z",
     "iopub.status.idle": "2025-04-05T00:40:59.247753Z",
     "shell.execute_reply": "2025-04-05T00:40:59.247054Z",
     "shell.execute_reply.started": "2025-04-05T00:40:58.337202Z"
    },
    "executionRoleArn": "arn:aws:iam::307946673210:role/EMRServerlessS3Role",
    "tags": []
   },
   "outputs": [
    {
     "data": {
      "application/vnd.jupyter.widget-view+json": {
       "model_id": "cd81df0865894e6ba7088664a566e357",
       "version_major": 2,
       "version_minor": 0
      },
      "text/plain": [
       "VBox()"
      ]
     },
     "metadata": {},
     "output_type": "display_data"
    },
    {
     "data": {
      "application/vnd.jupyter.widget-view+json": {
       "model_id": "",
       "version_major": 2,
       "version_minor": 0
      },
      "text/plain": [
       "FloatProgress(value=0.0, bar_style='info', description='Progress:', layout=Layout(height='25px', width='50%'),…"
      ]
     },
     "metadata": {},
     "output_type": "display_data"
    }
   ],
   "source": [
    "from pyspark.ml.feature import Imputer\n",
    "\n",
    "imputer = Imputer(inputCols=['payment_value'],outputCols=['payment_value_imputed']).setStrategy('median')\n",
    "\n",
    "payments_df_cleaned = imputer.fit(payments_df).transform(payments_df_with_dull)"
   ]
  },
  {
   "cell_type": "code",
   "execution_count": 65,
   "id": "6c83f5dd-c0cd-4d14-98ae-d0ba1cf9d27c",
   "metadata": {
    "execution": {
     "iopub.execute_input": "2025-04-05T00:41:05.075756Z",
     "iopub.status.busy": "2025-04-05T00:41:05.075315Z",
     "iopub.status.idle": "2025-04-05T00:41:05.479422Z",
     "shell.execute_reply": "2025-04-05T00:41:05.478696Z",
     "shell.execute_reply.started": "2025-04-05T00:41:05.075720Z"
    },
    "executionRoleArn": "arn:aws:iam::307946673210:role/EMRServerlessS3Role",
    "tags": []
   },
   "outputs": [
    {
     "data": {
      "application/vnd.jupyter.widget-view+json": {
       "model_id": "ca3064aa5c1643afb9620b8fae77cd6a",
       "version_major": 2,
       "version_minor": 0
      },
      "text/plain": [
       "VBox()"
      ]
     },
     "metadata": {},
     "output_type": "display_data"
    },
    {
     "data": {
      "application/vnd.jupyter.widget-view+json": {
       "model_id": "",
       "version_major": 2,
       "version_minor": 0
      },
      "text/plain": [
       "FloatProgress(value=0.0, bar_style='info', description='Progress:', layout=Layout(height='25px', width='50%'),…"
      ]
     },
     "metadata": {},
     "output_type": "display_data"
    },
    {
     "name": "stdout",
     "output_type": "stream",
     "text": [
      "+--------------------+------------------+------------+--------------------+-------------+---------------------+\n",
      "|            order_id|payment_sequential|payment_type|payment_installments|payment_value|payment_value_imputed|\n",
      "+--------------------+------------------+------------+--------------------+-------------+---------------------+\n",
      "|b81ef226f3fe1789b...|                 1| credit_card|                   8|         null|                100.0|\n",
      "|a9810da82917af2d9...|                 1| credit_card|                   1|        24.39|                24.39|\n",
      "|25e8ea4e93396b6fa...|                 1| credit_card|                   1|        65.71|                65.71|\n",
      "|ba78997921bbcdc13...|                 1| credit_card|                   8|       107.78|               107.78|\n",
      "|42fdf880ba16b47b5...|                 1| credit_card|                   2|       128.45|               128.45|\n",
      "|298fcdf1f73eb413e...|                 1| credit_card|                   2|        96.12|                96.12|\n",
      "|771ee386b001f0620...|                 1| credit_card|                   1|        81.16|                81.16|\n",
      "|3d7239c394a212faa...|                 1| credit_card|                   3|        51.84|                51.84|\n",
      "|1f78449c87a54faf9...|                 1| credit_card|                   6|       341.09|               341.09|\n",
      "|0573b5e23cbd79800...|                 1|      boleto|                   1|        51.95|                51.95|\n",
      "|d88e0d5fa41661ce0...|                 1| credit_card|                   8|       188.73|               188.73|\n",
      "|2480f727e869fdeb3...|                 1| credit_card|                   1|        141.9|                141.9|\n",
      "|616105c9352a9668c...|                 1| credit_card|                   1|        75.78|                75.78|\n",
      "|cf95215a722f3ebf2...|                 1| credit_card|                   5|       102.66|               102.66|\n",
      "|769214176682788a9...|                 1| credit_card|                   4|       105.28|               105.28|\n",
      "|12e5cfe0e4716b59a...|                 1| credit_card|                  10|       157.45|               157.45|\n",
      "|61059985a6fc0ad64...|                 1| credit_card|                   1|       132.04|               132.04|\n",
      "|79da3f5fe31ad1e45...|                 1| credit_card|                   1|        98.94|                98.94|\n",
      "|8ac09207f415d55ac...|                 1| credit_card|                   4|       244.15|               244.15|\n",
      "|b2349a3f20dfbeef6...|                 1| credit_card|                   3|       136.71|               136.71|\n",
      "+--------------------+------------------+------------+--------------------+-------------+---------------------+\n",
      "only showing top 20 rows"
     ]
    }
   ],
   "source": [
    "payments_df_cleaned.show()"
   ]
  },
  {
   "cell_type": "code",
   "execution_count": 36,
   "id": "b71d9021-57d8-4c5c-a199-cd37bbe2649c",
   "metadata": {
    "execution": {
     "iopub.execute_input": "2025-04-05T00:28:24.407404Z",
     "iopub.status.busy": "2025-04-05T00:28:24.406976Z",
     "iopub.status.idle": "2025-04-05T00:28:24.583570Z",
     "shell.execute_reply": "2025-04-05T00:28:24.582926Z",
     "shell.execute_reply.started": "2025-04-05T00:28:24.407373Z"
    },
    "executionRoleArn": "arn:aws:iam::307946673210:role/EMRServerlessS3Role",
    "tags": []
   },
   "outputs": [
    {
     "data": {
      "application/vnd.jupyter.widget-view+json": {
       "model_id": "8697e5d9af45427abb9fce636de5973b",
       "version_major": 2,
       "version_minor": 0
      },
      "text/plain": [
       "VBox()"
      ]
     },
     "metadata": {},
     "output_type": "display_data"
    },
    {
     "data": {
      "application/vnd.jupyter.widget-view+json": {
       "model_id": "",
       "version_major": 2,
       "version_minor": 0
      },
      "text/plain": [
       "FloatProgress(value=0.0, bar_style='info', description='Progress:', layout=Layout(height='25px', width='50%'),…"
      ]
     },
     "metadata": {},
     "output_type": "display_data"
    }
   ],
   "source": [
    "payments_df_with_dull = payments_df_cleaned.withColumn('payment_value',when(col('payment_value')!=99.33,col('payment_value')).otherwise(lit(None)))"
   ]
  },
  {
   "cell_type": "code",
   "execution_count": 37,
   "id": "266ff0da-488d-42a4-aaf0-23bd4b113d34",
   "metadata": {
    "execution": {
     "iopub.execute_input": "2025-04-05T00:28:25.239967Z",
     "iopub.status.busy": "2025-04-05T00:28:25.239538Z",
     "iopub.status.idle": "2025-04-05T00:28:25.716851Z",
     "shell.execute_reply": "2025-04-05T00:28:25.716202Z",
     "shell.execute_reply.started": "2025-04-05T00:28:25.239938Z"
    },
    "executionRoleArn": "arn:aws:iam::307946673210:role/EMRServerlessS3Role",
    "tags": []
   },
   "outputs": [
    {
     "data": {
      "application/vnd.jupyter.widget-view+json": {
       "model_id": "7d403b0aed6540e99e1d4e75b7c9116d",
       "version_major": 2,
       "version_minor": 0
      },
      "text/plain": [
       "VBox()"
      ]
     },
     "metadata": {},
     "output_type": "display_data"
    },
    {
     "data": {
      "application/vnd.jupyter.widget-view+json": {
       "model_id": "",
       "version_major": 2,
       "version_minor": 0
      },
      "text/plain": [
       "FloatProgress(value=0.0, bar_style='info', description='Progress:', layout=Layout(height='25px', width='50%'),…"
      ]
     },
     "metadata": {},
     "output_type": "display_data"
    },
    {
     "name": "stdout",
     "output_type": "stream",
     "text": [
      "+--------------------+------------------+------------+--------------------+-------------+---------------------+\n",
      "|            order_id|payment_sequential|payment_type|payment_installments|payment_value|payment_value_imputed|\n",
      "+--------------------+------------------+------------+--------------------+-------------+---------------------+\n",
      "|b81ef226f3fe1789b...|                 1| credit_card|                   8|         null|                99.33|\n",
      "|a9810da82917af2d9...|                 1| credit_card|                   1|        24.39|                24.39|\n",
      "|25e8ea4e93396b6fa...|                 1| credit_card|                   1|        65.71|                65.71|\n",
      "|ba78997921bbcdc13...|                 1| credit_card|                   8|       107.78|               107.78|\n",
      "|42fdf880ba16b47b5...|                 1| credit_card|                   2|       128.45|               128.45|\n",
      "|298fcdf1f73eb413e...|                 1| credit_card|                   2|        96.12|                96.12|\n",
      "|771ee386b001f0620...|                 1| credit_card|                   1|        81.16|                81.16|\n",
      "|3d7239c394a212faa...|                 1| credit_card|                   3|        51.84|                51.84|\n",
      "|1f78449c87a54faf9...|                 1| credit_card|                   6|       341.09|               341.09|\n",
      "|0573b5e23cbd79800...|                 1|      boleto|                   1|        51.95|                51.95|\n",
      "|d88e0d5fa41661ce0...|                 1| credit_card|                   8|       188.73|               188.73|\n",
      "|2480f727e869fdeb3...|                 1| credit_card|                   1|        141.9|                141.9|\n",
      "|616105c9352a9668c...|                 1| credit_card|                   1|        75.78|                75.78|\n",
      "|cf95215a722f3ebf2...|                 1| credit_card|                   5|       102.66|               102.66|\n",
      "|769214176682788a9...|                 1| credit_card|                   4|       105.28|               105.28|\n",
      "|12e5cfe0e4716b59a...|                 1| credit_card|                  10|       157.45|               157.45|\n",
      "|61059985a6fc0ad64...|                 1| credit_card|                   1|       132.04|               132.04|\n",
      "|79da3f5fe31ad1e45...|                 1| credit_card|                   1|        98.94|                98.94|\n",
      "|8ac09207f415d55ac...|                 1| credit_card|                   4|       244.15|               244.15|\n",
      "|b2349a3f20dfbeef6...|                 1| credit_card|                   3|       136.71|               136.71|\n",
      "+--------------------+------------------+------------+--------------------+-------------+---------------------+\n",
      "only showing top 20 rows"
     ]
    }
   ],
   "source": [
    "payments_df_with_dull.show()"
   ]
  },
  {
   "cell_type": "code",
   "execution_count": 38,
   "id": "77f1ca57-519a-4799-8eb1-cf4fcba23fc1",
   "metadata": {
    "execution": {
     "iopub.execute_input": "2025-04-05T00:28:26.700419Z",
     "iopub.status.busy": "2025-04-05T00:28:26.699966Z",
     "iopub.status.idle": "2025-04-05T00:28:27.083447Z",
     "shell.execute_reply": "2025-04-05T00:28:27.082699Z",
     "shell.execute_reply.started": "2025-04-05T00:28:26.700387Z"
    },
    "executionRoleArn": "arn:aws:iam::307946673210:role/EMRServerlessS3Role",
    "tags": []
   },
   "outputs": [
    {
     "data": {
      "application/vnd.jupyter.widget-view+json": {
       "model_id": "61084ee8d1284037931d78f04a01eadc",
       "version_major": 2,
       "version_minor": 0
      },
      "text/plain": [
       "VBox()"
      ]
     },
     "metadata": {},
     "output_type": "display_data"
    },
    {
     "data": {
      "application/vnd.jupyter.widget-view+json": {
       "model_id": "",
       "version_major": 2,
       "version_minor": 0
      },
      "text/plain": [
       "FloatProgress(value=0.0, bar_style='info', description='Progress:', layout=Layout(height='25px', width='50%'),…"
      ]
     },
     "metadata": {},
     "output_type": "display_data"
    },
    {
     "name": "stdout",
     "output_type": "stream",
     "text": [
      "+--------------------+------------------+------------+--------------------+-------------+---------------------+\n",
      "|            order_id|payment_sequential|payment_type|payment_installments|payment_value|payment_value_imputed|\n",
      "+--------------------+------------------+------------+--------------------+-------------+---------------------+\n",
      "|b81ef226f3fe1789b...|                 1| credit_card|                   8|        99.33|                99.33|\n",
      "|a9810da82917af2d9...|                 1| credit_card|                   1|        24.39|                24.39|\n",
      "|25e8ea4e93396b6fa...|                 1| credit_card|                   1|        65.71|                65.71|\n",
      "|ba78997921bbcdc13...|                 1| credit_card|                   8|       107.78|               107.78|\n",
      "|42fdf880ba16b47b5...|                 1| credit_card|                   2|       128.45|               128.45|\n",
      "|298fcdf1f73eb413e...|                 1| credit_card|                   2|        96.12|                96.12|\n",
      "|771ee386b001f0620...|                 1| credit_card|                   1|        81.16|                81.16|\n",
      "|3d7239c394a212faa...|                 1| credit_card|                   3|        51.84|                51.84|\n",
      "|1f78449c87a54faf9...|                 1| credit_card|                   6|       341.09|               341.09|\n",
      "|0573b5e23cbd79800...|                 1|      boleto|                   1|        51.95|                51.95|\n",
      "|d88e0d5fa41661ce0...|                 1| credit_card|                   8|       188.73|               188.73|\n",
      "|2480f727e869fdeb3...|                 1| credit_card|                   1|        141.9|                141.9|\n",
      "|616105c9352a9668c...|                 1| credit_card|                   1|        75.78|                75.78|\n",
      "|cf95215a722f3ebf2...|                 1| credit_card|                   5|       102.66|               102.66|\n",
      "|769214176682788a9...|                 1| credit_card|                   4|       105.28|               105.28|\n",
      "|12e5cfe0e4716b59a...|                 1| credit_card|                  10|       157.45|               157.45|\n",
      "|61059985a6fc0ad64...|                 1| credit_card|                   1|       132.04|               132.04|\n",
      "|79da3f5fe31ad1e45...|                 1| credit_card|                   1|        98.94|                98.94|\n",
      "|8ac09207f415d55ac...|                 1| credit_card|                   4|       244.15|               244.15|\n",
      "|b2349a3f20dfbeef6...|                 1| credit_card|                   3|       136.71|               136.71|\n",
      "+--------------------+------------------+------------+--------------------+-------------+---------------------+\n",
      "only showing top 20 rows"
     ]
    }
   ],
   "source": [
    "payments_df_cleaned.show()"
   ]
  },
  {
   "cell_type": "code",
   "execution_count": null,
   "id": "3b484e4d-bce2-4900-8600-e9fc5984a67c",
   "metadata": {
    "executionRoleArn": "arn:aws:iam::307946673210:role/EMRServerlessS3Role",
    "tags": []
   },
   "outputs": [],
   "source": []
  },
  {
   "cell_type": "markdown",
   "id": "e0ea7d20-794f-48a1-851a-a5b88ca115e4",
   "metadata": {},
   "source": [
    "# Standardizing the format"
   ]
  },
  {
   "cell_type": "code",
   "execution_count": 43,
   "id": "a111090f-4e71-4e0a-a33f-388684d89f96",
   "metadata": {
    "execution": {
     "iopub.execute_input": "2025-04-05T00:31:28.133589Z",
     "iopub.status.busy": "2025-04-05T00:31:28.133144Z",
     "iopub.status.idle": "2025-04-05T00:31:28.320532Z",
     "shell.execute_reply": "2025-04-05T00:31:28.319868Z",
     "shell.execute_reply.started": "2025-04-05T00:31:28.133558Z"
    },
    "executionRoleArn": "arn:aws:iam::307946673210:role/EMRServerlessS3Role",
    "tags": []
   },
   "outputs": [
    {
     "data": {
      "application/vnd.jupyter.widget-view+json": {
       "model_id": "85eec23a0d274fd6a72784d0b0f8e31f",
       "version_major": 2,
       "version_minor": 0
      },
      "text/plain": [
       "VBox()"
      ]
     },
     "metadata": {},
     "output_type": "display_data"
    },
    {
     "data": {
      "application/vnd.jupyter.widget-view+json": {
       "model_id": "",
       "version_major": 2,
       "version_minor": 0
      },
      "text/plain": [
       "FloatProgress(value=0.0, bar_style='info', description='Progress:', layout=Layout(height='25px', width='50%'),…"
      ]
     },
     "metadata": {},
     "output_type": "display_data"
    }
   ],
   "source": [
    "def print_Schema(df,df_name):\n",
    "    print(f'schema of {df_name}:')\n",
    "    df.printSchema()"
   ]
  },
  {
   "cell_type": "code",
   "execution_count": 50,
   "id": "1e5f5429-e7a1-4f28-806c-11b129467aac",
   "metadata": {
    "execution": {
     "iopub.execute_input": "2025-04-05T00:34:45.801894Z",
     "iopub.status.busy": "2025-04-05T00:34:45.801473Z",
     "iopub.status.idle": "2025-04-05T00:34:45.970024Z",
     "shell.execute_reply": "2025-04-05T00:34:45.969367Z",
     "shell.execute_reply.started": "2025-04-05T00:34:45.801860Z"
    },
    "executionRoleArn": "arn:aws:iam::307946673210:role/EMRServerlessS3Role",
    "tags": []
   },
   "outputs": [
    {
     "data": {
      "application/vnd.jupyter.widget-view+json": {
       "model_id": "ffb2f90721d24acdb7f61a0a55fa3f0b",
       "version_major": 2,
       "version_minor": 0
      },
      "text/plain": [
       "VBox()"
      ]
     },
     "metadata": {},
     "output_type": "display_data"
    },
    {
     "data": {
      "application/vnd.jupyter.widget-view+json": {
       "model_id": "",
       "version_major": 2,
       "version_minor": 0
      },
      "text/plain": [
       "FloatProgress(value=0.0, bar_style='info', description='Progress:', layout=Layout(height='25px', width='50%'),…"
      ]
     },
     "metadata": {},
     "output_type": "display_data"
    },
    {
     "name": "stdout",
     "output_type": "stream",
     "text": [
      "schema of orders:\n",
      "root\n",
      " |-- order_id: string (nullable = true)\n",
      " |-- customer_id: string (nullable = true)\n",
      " |-- order_status: string (nullable = true)\n",
      " |-- order_purchase_timestamp: timestamp (nullable = true)\n",
      " |-- order_approved_at: timestamp (nullable = true)\n",
      " |-- order_delivered_carrier_date: timestamp (nullable = true)\n",
      " |-- order_delivered_customer_date: timestamp (nullable = true)\n",
      " |-- order_estimated_delivery_date: timestamp (nullable = true)"
     ]
    }
   ],
   "source": [
    "print_Schema(orders_df,'orders')"
   ]
  },
  {
   "cell_type": "code",
   "execution_count": 49,
   "id": "eb10ae21-9b7f-4866-be66-3d0e8aa643f1",
   "metadata": {
    "execution": {
     "iopub.execute_input": "2025-04-05T00:34:40.478696Z",
     "iopub.status.busy": "2025-04-05T00:34:40.478258Z",
     "iopub.status.idle": "2025-04-05T00:34:40.688399Z",
     "shell.execute_reply": "2025-04-05T00:34:40.687655Z",
     "shell.execute_reply.started": "2025-04-05T00:34:40.478669Z"
    },
    "executionRoleArn": "arn:aws:iam::307946673210:role/EMRServerlessS3Role",
    "tags": []
   },
   "outputs": [
    {
     "data": {
      "application/vnd.jupyter.widget-view+json": {
       "model_id": "9741e9a3996e484fa3dd452a40ffa129",
       "version_major": 2,
       "version_minor": 0
      },
      "text/plain": [
       "VBox()"
      ]
     },
     "metadata": {},
     "output_type": "display_data"
    },
    {
     "data": {
      "application/vnd.jupyter.widget-view+json": {
       "model_id": "",
       "version_major": 2,
       "version_minor": 0
      },
      "text/plain": [
       "FloatProgress(value=0.0, bar_style='info', description='Progress:', layout=Layout(height='25px', width='50%'),…"
      ]
     },
     "metadata": {},
     "output_type": "display_data"
    },
    {
     "name": "stdout",
     "output_type": "stream",
     "text": [
      "schema of payments:\n",
      "root\n",
      " |-- order_id: string (nullable = true)\n",
      " |-- payment_sequential: integer (nullable = true)\n",
      " |-- payment_type: string (nullable = true)\n",
      " |-- payment_installments: integer (nullable = true)\n",
      " |-- payment_value: double (nullable = true)"
     ]
    }
   ],
   "source": [
    "print_Schema(payments_df,'payments')"
   ]
  },
  {
   "cell_type": "code",
   "execution_count": 47,
   "id": "1f96843d-1009-4955-b14f-1fb4722c6cd9",
   "metadata": {
    "execution": {
     "iopub.execute_input": "2025-04-05T00:33:23.925369Z",
     "iopub.status.busy": "2025-04-05T00:33:23.924915Z",
     "iopub.status.idle": "2025-04-05T00:33:24.110708Z",
     "shell.execute_reply": "2025-04-05T00:33:24.109955Z",
     "shell.execute_reply.started": "2025-04-05T00:33:23.925339Z"
    },
    "executionRoleArn": "arn:aws:iam::307946673210:role/EMRServerlessS3Role",
    "tags": []
   },
   "outputs": [
    {
     "data": {
      "application/vnd.jupyter.widget-view+json": {
       "model_id": "14d97ed3fd6b4c21aa63613de27afd8b",
       "version_major": 2,
       "version_minor": 0
      },
      "text/plain": [
       "VBox()"
      ]
     },
     "metadata": {},
     "output_type": "display_data"
    },
    {
     "data": {
      "application/vnd.jupyter.widget-view+json": {
       "model_id": "",
       "version_major": 2,
       "version_minor": 0
      },
      "text/plain": [
       "FloatProgress(value=0.0, bar_style='info', description='Progress:', layout=Layout(height='25px', width='50%'),…"
      ]
     },
     "metadata": {},
     "output_type": "display_data"
    }
   ],
   "source": [
    "orders_df_cleaned = orders_df_cleaned.withColumn('order_purchase_timestamp',to_date((col('order_purchase_timestamp'))))"
   ]
  },
  {
   "cell_type": "code",
   "execution_count": 48,
   "id": "f410eb9a-c857-4b2a-9da6-bce983d24d4e",
   "metadata": {
    "execution": {
     "iopub.execute_input": "2025-04-05T00:33:32.425854Z",
     "iopub.status.busy": "2025-04-05T00:33:32.425412Z",
     "iopub.status.idle": "2025-04-05T00:33:33.356909Z",
     "shell.execute_reply": "2025-04-05T00:33:33.356167Z",
     "shell.execute_reply.started": "2025-04-05T00:33:32.425824Z"
    },
    "executionRoleArn": "arn:aws:iam::307946673210:role/EMRServerlessS3Role",
    "tags": []
   },
   "outputs": [
    {
     "data": {
      "application/vnd.jupyter.widget-view+json": {
       "model_id": "fd9f89b76c384d958766449189f74409",
       "version_major": 2,
       "version_minor": 0
      },
      "text/plain": [
       "VBox()"
      ]
     },
     "metadata": {},
     "output_type": "display_data"
    },
    {
     "data": {
      "application/vnd.jupyter.widget-view+json": {
       "model_id": "",
       "version_major": 2,
       "version_minor": 0
      },
      "text/plain": [
       "FloatProgress(value=0.0, bar_style='info', description='Progress:', layout=Layout(height='25px', width='50%'),…"
      ]
     },
     "metadata": {},
     "output_type": "display_data"
    },
    {
     "name": "stdout",
     "output_type": "stream",
     "text": [
      "+--------------------+--------------------+------------+------------------------+-------------------+----------------------------+-----------------------------+-----------------------------+\n",
      "|            order_id|         customer_id|order_status|order_purchase_timestamp|  order_approved_at|order_delivered_carrier_date|order_delivered_customer_date|order_estimated_delivery_date|\n",
      "+--------------------+--------------------+------------+------------------------+-------------------+----------------------------+-----------------------------+-----------------------------+\n",
      "|e481f51cbdc54678b...|9ef432eb625129730...|   delivered|              2017-10-02|2017-10-02 11:07:15|         2017-10-04 19:55:00|          2017-10-10 21:25:13|          2017-10-18 00:00:00|\n",
      "|53cdb2fc8bc7dce0b...|b0830fb4747a6c6d2...|   delivered|              2018-07-24|2018-07-26 03:24:27|         2018-07-26 14:31:00|          2018-08-07 15:27:45|          2018-08-13 00:00:00|\n",
      "|47770eb9100c2d0c4...|41ce2a54c0b03bf34...|   delivered|              2018-08-08|2018-08-08 08:55:23|         2018-08-08 13:50:00|          2018-08-17 18:06:29|          2018-09-04 00:00:00|\n",
      "|949d5b44dbf5de918...|f88197465ea7920ad...|   delivered|              2017-11-18|2017-11-18 19:45:59|         2017-11-22 13:39:59|          2017-12-02 00:28:42|          2017-12-15 00:00:00|\n",
      "|ad21c59c0840e6cb8...|8ab97904e6daea886...|   delivered|              2018-02-13|2018-02-13 22:20:29|         2018-02-14 19:46:34|          2018-02-16 18:17:02|          2018-02-26 00:00:00|\n",
      "|a4591c265e18cb1dc...|503740e9ca751ccdd...|   delivered|              2017-07-09|2017-07-09 22:10:13|         2017-07-11 14:58:04|          2017-07-26 10:57:55|          2017-08-01 00:00:00|\n",
      "|136cce7faa42fdb2c...|ed0271e0b7da060a3...|    invoiced|              2017-04-11|2017-04-13 13:25:17|         9999-12-31 00:00:00|          9999-12-31 00:00:00|          2017-05-09 00:00:00|\n",
      "|6514b8ad8028c9f2c...|9bdf08b4b3b52b552...|   delivered|              2017-05-16|2017-05-16 13:22:11|         2017-05-22 10:07:46|          2017-05-26 12:55:51|          2017-06-07 00:00:00|\n",
      "|76c6e866289321a7c...|f54a9f0e6b351c431...|   delivered|              2017-01-23|2017-01-25 02:50:47|         2017-01-26 14:16:31|          2017-02-02 14:08:10|          2017-03-06 00:00:00|\n",
      "|e69bfb5eb88e0ed6a...|31ad1d1b63eb99624...|   delivered|              2017-07-29|2017-07-29 12:05:32|         2017-08-10 19:45:24|          2017-08-16 17:14:30|          2017-08-23 00:00:00|\n",
      "|e6ce16cb79ec1d90b...|494dded5b201313c6...|   delivered|              2017-05-16|2017-05-16 19:50:18|         2017-05-18 11:40:40|          2017-05-29 11:18:31|          2017-06-07 00:00:00|\n",
      "|34513ce0c4fab462a...|7711cf624183d843a...|   delivered|              2017-07-13|2017-07-13 20:10:08|         2017-07-14 18:43:29|          2017-07-19 14:04:48|          2017-08-08 00:00:00|\n",
      "|82566a660a982b15f...|d3e3b74c766bc6214...|   delivered|              2018-06-07|2018-06-09 03:13:12|         2018-06-11 13:29:00|          2018-06-19 12:05:52|          2018-07-18 00:00:00|\n",
      "|5ff96c15d0b717ac6...|19402a48fe860416a...|   delivered|              2018-07-25|2018-07-25 17:55:14|         2018-07-26 13:16:00|          2018-07-30 15:52:25|          2018-08-08 00:00:00|\n",
      "|432aaf21d85167c2c...|3df704f53d3f1d481...|   delivered|              2018-03-01|2018-03-01 15:10:47|         2018-03-02 21:09:20|          2018-03-12 23:36:26|          2018-03-21 00:00:00|\n",
      "|dcb36b511fcac050b...|3b6828a50ffe54694...|   delivered|              2018-06-07|2018-06-12 23:31:02|         2018-06-11 14:54:00|          2018-06-21 15:34:32|          2018-07-04 00:00:00|\n",
      "|403b97836b0c04a62...|738b086814c6fcc74...|   delivered|              2018-01-02|2018-01-02 19:09:04|         2018-01-03 18:19:09|          2018-01-20 01:38:59|          2018-02-06 00:00:00|\n",
      "|116f0b09343b49556...|3187789bec9909876...|   delivered|              2017-12-26|2017-12-26 23:50:22|         2017-12-28 18:33:05|          2018-01-08 22:36:36|          2018-01-29 00:00:00|\n",
      "|85ce859fd6dc634de...|059f7fc5719c7da6c...|   delivered|              2017-11-21|2017-11-21 00:14:22|         2017-11-23 21:32:26|          2017-11-27 18:28:00|          2017-12-11 00:00:00|\n",
      "|83018ec114eee8641...|7f8c8b9c2ae27bf33...|   delivered|              2017-10-26|2017-10-26 16:08:14|         2017-10-26 21:46:53|          2017-11-08 22:22:00|          2017-11-23 00:00:00|\n",
      "+--------------------+--------------------+------------+------------------------+-------------------+----------------------------+-----------------------------+-----------------------------+\n",
      "only showing top 20 rows"
     ]
    }
   ],
   "source": [
    "orders_df_cleaned.show()"
   ]
  },
  {
   "cell_type": "code",
   "execution_count": null,
   "id": "a2027c5b-941c-43c4-8127-6edf5bfa8b95",
   "metadata": {
    "executionRoleArn": "arn:aws:iam::307946673210:role/EMRServerlessS3Role",
    "tags": []
   },
   "outputs": [],
   "source": []
  },
  {
   "cell_type": "code",
   "execution_count": 61,
   "id": "9a038694-f037-4ba6-b82b-e01b355faeaa",
   "metadata": {
    "execution": {
     "iopub.execute_input": "2025-04-05T00:40:45.332033Z",
     "iopub.status.busy": "2025-04-05T00:40:45.331585Z",
     "iopub.status.idle": "2025-04-05T00:40:46.278204Z",
     "shell.execute_reply": "2025-04-05T00:40:46.277430Z",
     "shell.execute_reply.started": "2025-04-05T00:40:45.332004Z"
    },
    "executionRoleArn": "arn:aws:iam::307946673210:role/EMRServerlessS3Role",
    "tags": []
   },
   "outputs": [
    {
     "data": {
      "application/vnd.jupyter.widget-view+json": {
       "model_id": "2d1b05b55ee84c94a2b13cae507a5004",
       "version_major": 2,
       "version_minor": 0
      },
      "text/plain": [
       "VBox()"
      ]
     },
     "metadata": {},
     "output_type": "display_data"
    },
    {
     "data": {
      "application/vnd.jupyter.widget-view+json": {
       "model_id": "",
       "version_major": 2,
       "version_minor": 0
      },
      "text/plain": [
       "FloatProgress(value=0.0, bar_style='info', description='Progress:', layout=Layout(height='25px', width='50%'),…"
      ]
     },
     "metadata": {},
     "output_type": "display_data"
    },
    {
     "name": "stdout",
     "output_type": "stream",
     "text": [
      "+--------------------+------------------+------------+--------------------+-------------+---------------------+\n",
      "|            order_id|payment_sequential|payment_type|payment_installments|payment_value|payment_value_imputed|\n",
      "+--------------------+------------------+------------+--------------------+-------------+---------------------+\n",
      "|b81ef226f3fe1789b...|                 1|        null|                   8|         null|                100.0|\n",
      "|a9810da82917af2d9...|                 1|        null|                   1|        24.39|                24.39|\n",
      "|25e8ea4e93396b6fa...|                 1|        null|                   1|        65.71|                65.71|\n",
      "|ba78997921bbcdc13...|                 1|        null|                   8|       107.78|               107.78|\n",
      "|42fdf880ba16b47b5...|                 1|        null|                   2|       128.45|               128.45|\n",
      "|298fcdf1f73eb413e...|                 1|        null|                   2|        96.12|                96.12|\n",
      "|771ee386b001f0620...|                 1|        null|                   1|        81.16|                81.16|\n",
      "|3d7239c394a212faa...|                 1|        null|                   3|        51.84|                51.84|\n",
      "|1f78449c87a54faf9...|                 1|        null|                   6|       341.09|               341.09|\n",
      "|0573b5e23cbd79800...|                 1|        null|                   1|        51.95|                51.95|\n",
      "|d88e0d5fa41661ce0...|                 1|        null|                   8|       188.73|               188.73|\n",
      "|2480f727e869fdeb3...|                 1|        null|                   1|        141.9|                141.9|\n",
      "|616105c9352a9668c...|                 1|        null|                   1|        75.78|                75.78|\n",
      "|cf95215a722f3ebf2...|                 1|        null|                   5|       102.66|               102.66|\n",
      "|769214176682788a9...|                 1|        null|                   4|       105.28|               105.28|\n",
      "|12e5cfe0e4716b59a...|                 1|        null|                  10|       157.45|               157.45|\n",
      "|61059985a6fc0ad64...|                 1|        null|                   1|       132.04|               132.04|\n",
      "|79da3f5fe31ad1e45...|                 1|        null|                   1|        98.94|                98.94|\n",
      "|8ac09207f415d55ac...|                 1|        null|                   4|       244.15|               244.15|\n",
      "|b2349a3f20dfbeef6...|                 1|        null|                   3|       136.71|               136.71|\n",
      "+--------------------+------------------+------------+--------------------+-------------+---------------------+\n",
      "only showing top 20 rows"
     ]
    }
   ],
   "source": [
    "payments_df_cleaned.show()"
   ]
  },
  {
   "cell_type": "code",
   "execution_count": 66,
   "id": "5d19daff-dc2d-4a8e-8fdb-77739eb803fe",
   "metadata": {
    "execution": {
     "iopub.execute_input": "2025-04-05T00:41:15.425409Z",
     "iopub.status.busy": "2025-04-05T00:41:15.424962Z",
     "iopub.status.idle": "2025-04-05T00:41:15.604446Z",
     "shell.execute_reply": "2025-04-05T00:41:15.603800Z",
     "shell.execute_reply.started": "2025-04-05T00:41:15.425378Z"
    },
    "executionRoleArn": "arn:aws:iam::307946673210:role/EMRServerlessS3Role",
    "tags": []
   },
   "outputs": [
    {
     "data": {
      "application/vnd.jupyter.widget-view+json": {
       "model_id": "3c058ff387cc4277b365890b73b7b0f2",
       "version_major": 2,
       "version_minor": 0
      },
      "text/plain": [
       "VBox()"
      ]
     },
     "metadata": {},
     "output_type": "display_data"
    },
    {
     "data": {
      "application/vnd.jupyter.widget-view+json": {
       "model_id": "",
       "version_major": 2,
       "version_minor": 0
      },
      "text/plain": [
       "FloatProgress(value=0.0, bar_style='info', description='Progress:', layout=Layout(height='25px', width='50%'),…"
      ]
     },
     "metadata": {},
     "output_type": "display_data"
    }
   ],
   "source": [
    "payments_df_cleaned = payments_df_cleaned.withColumn('payment_type',\n",
    "                                                      when(col('payment_type')=='boleto','Bank Transfer')\n",
    "                                                      .when(col('payment_type')=='credit_card','Credit Card'))"
   ]
  },
  {
   "cell_type": "code",
   "execution_count": 67,
   "id": "c76f8200-c63f-4aae-aea6-b1e418ffab7b",
   "metadata": {
    "execution": {
     "iopub.execute_input": "2025-04-05T00:41:15.710558Z",
     "iopub.status.busy": "2025-04-05T00:41:15.709879Z",
     "iopub.status.idle": "2025-04-05T00:41:16.092836Z",
     "shell.execute_reply": "2025-04-05T00:41:16.092186Z",
     "shell.execute_reply.started": "2025-04-05T00:41:15.710521Z"
    },
    "executionRoleArn": "arn:aws:iam::307946673210:role/EMRServerlessS3Role",
    "tags": []
   },
   "outputs": [
    {
     "data": {
      "application/vnd.jupyter.widget-view+json": {
       "model_id": "25b0de8ef6ca42a382d6c8596792d11b",
       "version_major": 2,
       "version_minor": 0
      },
      "text/plain": [
       "VBox()"
      ]
     },
     "metadata": {},
     "output_type": "display_data"
    },
    {
     "data": {
      "application/vnd.jupyter.widget-view+json": {
       "model_id": "",
       "version_major": 2,
       "version_minor": 0
      },
      "text/plain": [
       "FloatProgress(value=0.0, bar_style='info', description='Progress:', layout=Layout(height='25px', width='50%'),…"
      ]
     },
     "metadata": {},
     "output_type": "display_data"
    },
    {
     "name": "stdout",
     "output_type": "stream",
     "text": [
      "+--------------------+------------------+-------------+--------------------+-------------+---------------------+\n",
      "|            order_id|payment_sequential| payment_type|payment_installments|payment_value|payment_value_imputed|\n",
      "+--------------------+------------------+-------------+--------------------+-------------+---------------------+\n",
      "|b81ef226f3fe1789b...|                 1|  Credit Card|                   8|         null|                100.0|\n",
      "|a9810da82917af2d9...|                 1|  Credit Card|                   1|        24.39|                24.39|\n",
      "|25e8ea4e93396b6fa...|                 1|  Credit Card|                   1|        65.71|                65.71|\n",
      "|ba78997921bbcdc13...|                 1|  Credit Card|                   8|       107.78|               107.78|\n",
      "|42fdf880ba16b47b5...|                 1|  Credit Card|                   2|       128.45|               128.45|\n",
      "|298fcdf1f73eb413e...|                 1|  Credit Card|                   2|        96.12|                96.12|\n",
      "|771ee386b001f0620...|                 1|  Credit Card|                   1|        81.16|                81.16|\n",
      "|3d7239c394a212faa...|                 1|  Credit Card|                   3|        51.84|                51.84|\n",
      "|1f78449c87a54faf9...|                 1|  Credit Card|                   6|       341.09|               341.09|\n",
      "|0573b5e23cbd79800...|                 1|Bank Transfer|                   1|        51.95|                51.95|\n",
      "|d88e0d5fa41661ce0...|                 1|  Credit Card|                   8|       188.73|               188.73|\n",
      "|2480f727e869fdeb3...|                 1|  Credit Card|                   1|        141.9|                141.9|\n",
      "|616105c9352a9668c...|                 1|  Credit Card|                   1|        75.78|                75.78|\n",
      "|cf95215a722f3ebf2...|                 1|  Credit Card|                   5|       102.66|               102.66|\n",
      "|769214176682788a9...|                 1|  Credit Card|                   4|       105.28|               105.28|\n",
      "|12e5cfe0e4716b59a...|                 1|  Credit Card|                  10|       157.45|               157.45|\n",
      "|61059985a6fc0ad64...|                 1|  Credit Card|                   1|       132.04|               132.04|\n",
      "|79da3f5fe31ad1e45...|                 1|  Credit Card|                   1|        98.94|                98.94|\n",
      "|8ac09207f415d55ac...|                 1|  Credit Card|                   4|       244.15|               244.15|\n",
      "|b2349a3f20dfbeef6...|                 1|  Credit Card|                   3|       136.71|               136.71|\n",
      "+--------------------+------------------+-------------+--------------------+-------------+---------------------+\n",
      "only showing top 20 rows"
     ]
    }
   ],
   "source": [
    "payments_df_cleaned.show()"
   ]
  },
  {
   "cell_type": "code",
   "execution_count": 68,
   "id": "470722d0-ded7-4c34-a876-64df00178037",
   "metadata": {
    "execution": {
     "iopub.execute_input": "2025-04-05T00:42:45.459062Z",
     "iopub.status.busy": "2025-04-05T00:42:45.458608Z",
     "iopub.status.idle": "2025-04-05T00:42:46.393467Z",
     "shell.execute_reply": "2025-04-05T00:42:46.392802Z",
     "shell.execute_reply.started": "2025-04-05T00:42:45.459031Z"
    },
    "executionRoleArn": "arn:aws:iam::307946673210:role/EMRServerlessS3Role",
    "tags": []
   },
   "outputs": [
    {
     "data": {
      "application/vnd.jupyter.widget-view+json": {
       "model_id": "21f77b0407494b27bb85aeec09a9040f",
       "version_major": 2,
       "version_minor": 0
      },
      "text/plain": [
       "VBox()"
      ]
     },
     "metadata": {},
     "output_type": "display_data"
    },
    {
     "data": {
      "application/vnd.jupyter.widget-view+json": {
       "model_id": "",
       "version_major": 2,
       "version_minor": 0
      },
      "text/plain": [
       "FloatProgress(value=0.0, bar_style='info', description='Progress:', layout=Layout(height='25px', width='50%'),…"
      ]
     },
     "metadata": {},
     "output_type": "display_data"
    },
    {
     "name": "stdout",
     "output_type": "stream",
     "text": [
      "+--------------------+--------------------+------------------------+--------------------+--------------+\n",
      "|         customer_id|  customer_unique_id|customer_zip_code_prefix|       customer_city|customer_state|\n",
      "+--------------------+--------------------+------------------------+--------------------+--------------+\n",
      "|06b8999e2fba1a1fb...|861eff4711a542e4b...|                   14409|              franca|            SP|\n",
      "|18955e83d337fd6b2...|290c77bc529b7ac93...|                    9790|sao bernardo do c...|            SP|\n",
      "|4e7b3e00288586ebd...|060e732b5b29e8181...|                    1151|           sao paulo|            SP|\n",
      "|b2b6027bc5c5109e5...|259dac757896d24d7...|                    8775|     mogi das cruzes|            SP|\n",
      "|4f2d8ab171c80ec83...|345ecd01c38d18a90...|                   13056|            campinas|            SP|\n",
      "|879864dab9bc30475...|4c93744516667ad3b...|                   89254|      jaragua do sul|            SC|\n",
      "|fd826e7cf63160e53...|addec96d2e059c80c...|                    4534|           sao paulo|            SP|\n",
      "|5e274e7a0c3809e14...|57b2a98a409812fe9...|                   35182|             timoteo|            MG|\n",
      "|5adf08e34b2e99398...|1175e95fb47ddff9d...|                   81560|            curitiba|            PR|\n",
      "|4b7139f34592b3a31...|9afe194fb833f79e3...|                   30575|      belo horizonte|            MG|\n",
      "|9fb35e4ed6f0a14a4...|2a7745e1ed516b289...|                   39400|       montes claros|            MG|\n",
      "|5aa9e4fdd4dfd2095...|2a46fb94aef5cbeeb...|                   20231|      rio de janeiro|            RJ|\n",
      "|b2d1536598b73a9ab...|918dc87cd72cd9f6e...|                   18682|    lencois paulista|            SP|\n",
      "|eabebad39a88bb6f5...|295c05e81917928d7...|                    5704|           sao paulo|            SP|\n",
      "|1f1c7bf1c9b041b29...|3151a81801c838636...|                   95110|       caxias do sul|            RS|\n",
      "|206f3129c0e4d7d0b...|21f748a16f4e1688a...|                   13412|          piracicaba|            SP|\n",
      "|a7c125a0a07b75146...|5c2991dbd08bbf3cf...|                   22750|      rio de janeiro|            RJ|\n",
      "|c5c61596a3b6bd0ce...|b6e99561fe6f34a55...|                    7124|           guarulhos|            SP|\n",
      "|9b8ce803689b3562d...|7f3a72e8f988c6e73...|                    5416|           sao paulo|            SP|\n",
      "|49d0ea0986edde72d...|3e6fd6b2f0d499456...|                   68485|              pacaja|            PA|\n",
      "+--------------------+--------------------+------------------------+--------------------+--------------+\n",
      "only showing top 20 rows"
     ]
    }
   ],
   "source": [
    "customers_df.show()"
   ]
  },
  {
   "cell_type": "code",
   "execution_count": 71,
   "id": "7678135a-1ae9-46f1-9690-eb1c296d2d94",
   "metadata": {
    "execution": {
     "iopub.execute_input": "2025-04-05T00:43:05.630841Z",
     "iopub.status.busy": "2025-04-05T00:43:05.630390Z",
     "iopub.status.idle": "2025-04-05T00:43:05.806078Z",
     "shell.execute_reply": "2025-04-05T00:43:05.805385Z",
     "shell.execute_reply.started": "2025-04-05T00:43:05.630808Z"
    },
    "executionRoleArn": "arn:aws:iam::307946673210:role/EMRServerlessS3Role",
    "tags": []
   },
   "outputs": [
    {
     "data": {
      "application/vnd.jupyter.widget-view+json": {
       "model_id": "7370365803424d67b8d459049be484b8",
       "version_major": 2,
       "version_minor": 0
      },
      "text/plain": [
       "VBox()"
      ]
     },
     "metadata": {},
     "output_type": "display_data"
    },
    {
     "data": {
      "application/vnd.jupyter.widget-view+json": {
       "model_id": "",
       "version_major": 2,
       "version_minor": 0
      },
      "text/plain": [
       "FloatProgress(value=0.0, bar_style='info', description='Progress:', layout=Layout(height='25px', width='50%'),…"
      ]
     },
     "metadata": {},
     "output_type": "display_data"
    },
    {
     "name": "stdout",
     "output_type": "stream",
     "text": [
      "root\n",
      " |-- customer_id: string (nullable = true)\n",
      " |-- customer_unique_id: string (nullable = true)\n",
      " |-- customer_zip_code_prefix: integer (nullable = true)\n",
      " |-- customer_city: string (nullable = true)\n",
      " |-- customer_state: string (nullable = true)"
     ]
    }
   ],
   "source": [
    "customers_df.printSchema()"
   ]
  },
  {
   "cell_type": "code",
   "execution_count": 72,
   "id": "4c5f3f81-6869-4536-8df2-e6f408793442",
   "metadata": {
    "execution": {
     "iopub.execute_input": "2025-04-05T00:44:02.554313Z",
     "iopub.status.busy": "2025-04-05T00:44:02.553853Z",
     "iopub.status.idle": "2025-04-05T00:44:02.751182Z",
     "shell.execute_reply": "2025-04-05T00:44:02.750471Z",
     "shell.execute_reply.started": "2025-04-05T00:44:02.554278Z"
    },
    "executionRoleArn": "arn:aws:iam::307946673210:role/EMRServerlessS3Role",
    "tags": []
   },
   "outputs": [
    {
     "data": {
      "application/vnd.jupyter.widget-view+json": {
       "model_id": "df87fd8b62474d9e94d57feb6bef2fcc",
       "version_major": 2,
       "version_minor": 0
      },
      "text/plain": [
       "VBox()"
      ]
     },
     "metadata": {},
     "output_type": "display_data"
    },
    {
     "data": {
      "application/vnd.jupyter.widget-view+json": {
       "model_id": "",
       "version_major": 2,
       "version_minor": 0
      },
      "text/plain": [
       "FloatProgress(value=0.0, bar_style='info', description='Progress:', layout=Layout(height='25px', width='50%'),…"
      ]
     },
     "metadata": {},
     "output_type": "display_data"
    }
   ],
   "source": [
    "customers_df_cleaned = customers_df.withColumn('customer_zip_code_prefix',col('customer_zip_code_prefix').cast('string'))"
   ]
  },
  {
   "cell_type": "code",
   "execution_count": 73,
   "id": "e8294f65-12b1-4357-8ae0-804ec172c816",
   "metadata": {
    "execution": {
     "iopub.execute_input": "2025-04-05T00:44:17.270908Z",
     "iopub.status.busy": "2025-04-05T00:44:17.270466Z",
     "iopub.status.idle": "2025-04-05T00:44:18.204799Z",
     "shell.execute_reply": "2025-04-05T00:44:18.204117Z",
     "shell.execute_reply.started": "2025-04-05T00:44:17.270877Z"
    },
    "executionRoleArn": "arn:aws:iam::307946673210:role/EMRServerlessS3Role",
    "tags": []
   },
   "outputs": [
    {
     "data": {
      "application/vnd.jupyter.widget-view+json": {
       "model_id": "e94f6e83078349888dca39dc1c791cb8",
       "version_major": 2,
       "version_minor": 0
      },
      "text/plain": [
       "VBox()"
      ]
     },
     "metadata": {},
     "output_type": "display_data"
    },
    {
     "data": {
      "application/vnd.jupyter.widget-view+json": {
       "model_id": "",
       "version_major": 2,
       "version_minor": 0
      },
      "text/plain": [
       "FloatProgress(value=0.0, bar_style='info', description='Progress:', layout=Layout(height='25px', width='50%'),…"
      ]
     },
     "metadata": {},
     "output_type": "display_data"
    },
    {
     "name": "stdout",
     "output_type": "stream",
     "text": [
      "+--------------------+--------------------+------------------------+--------------------+--------------+\n",
      "|         customer_id|  customer_unique_id|customer_zip_code_prefix|       customer_city|customer_state|\n",
      "+--------------------+--------------------+------------------------+--------------------+--------------+\n",
      "|06b8999e2fba1a1fb...|861eff4711a542e4b...|                   14409|              franca|            SP|\n",
      "|18955e83d337fd6b2...|290c77bc529b7ac93...|                    9790|sao bernardo do c...|            SP|\n",
      "|4e7b3e00288586ebd...|060e732b5b29e8181...|                    1151|           sao paulo|            SP|\n",
      "|b2b6027bc5c5109e5...|259dac757896d24d7...|                    8775|     mogi das cruzes|            SP|\n",
      "|4f2d8ab171c80ec83...|345ecd01c38d18a90...|                   13056|            campinas|            SP|\n",
      "|879864dab9bc30475...|4c93744516667ad3b...|                   89254|      jaragua do sul|            SC|\n",
      "|fd826e7cf63160e53...|addec96d2e059c80c...|                    4534|           sao paulo|            SP|\n",
      "|5e274e7a0c3809e14...|57b2a98a409812fe9...|                   35182|             timoteo|            MG|\n",
      "|5adf08e34b2e99398...|1175e95fb47ddff9d...|                   81560|            curitiba|            PR|\n",
      "|4b7139f34592b3a31...|9afe194fb833f79e3...|                   30575|      belo horizonte|            MG|\n",
      "|9fb35e4ed6f0a14a4...|2a7745e1ed516b289...|                   39400|       montes claros|            MG|\n",
      "|5aa9e4fdd4dfd2095...|2a46fb94aef5cbeeb...|                   20231|      rio de janeiro|            RJ|\n",
      "|b2d1536598b73a9ab...|918dc87cd72cd9f6e...|                   18682|    lencois paulista|            SP|\n",
      "|eabebad39a88bb6f5...|295c05e81917928d7...|                    5704|           sao paulo|            SP|\n",
      "|1f1c7bf1c9b041b29...|3151a81801c838636...|                   95110|       caxias do sul|            RS|\n",
      "|206f3129c0e4d7d0b...|21f748a16f4e1688a...|                   13412|          piracicaba|            SP|\n",
      "|a7c125a0a07b75146...|5c2991dbd08bbf3cf...|                   22750|      rio de janeiro|            RJ|\n",
      "|c5c61596a3b6bd0ce...|b6e99561fe6f34a55...|                    7124|           guarulhos|            SP|\n",
      "|9b8ce803689b3562d...|7f3a72e8f988c6e73...|                    5416|           sao paulo|            SP|\n",
      "|49d0ea0986edde72d...|3e6fd6b2f0d499456...|                   68485|              pacaja|            PA|\n",
      "+--------------------+--------------------+------------------------+--------------------+--------------+\n",
      "only showing top 20 rows"
     ]
    }
   ],
   "source": [
    "customers_df_cleaned.show()"
   ]
  },
  {
   "cell_type": "markdown",
   "id": "278a49ec-8b3b-48d7-b79a-02b1f3995830",
   "metadata": {},
   "source": [
    "# Remove Duplicate Records"
   ]
  },
  {
   "cell_type": "code",
   "execution_count": 74,
   "id": "7f1812fc-f81b-4c24-9558-986df39e2bb4",
   "metadata": {
    "execution": {
     "iopub.execute_input": "2025-04-05T00:44:57.222567Z",
     "iopub.status.busy": "2025-04-05T00:44:57.222112Z",
     "iopub.status.idle": "2025-04-05T00:44:57.404622Z",
     "shell.execute_reply": "2025-04-05T00:44:57.403955Z",
     "shell.execute_reply.started": "2025-04-05T00:44:57.222537Z"
    },
    "executionRoleArn": "arn:aws:iam::307946673210:role/EMRServerlessS3Role",
    "tags": []
   },
   "outputs": [
    {
     "data": {
      "application/vnd.jupyter.widget-view+json": {
       "model_id": "1d283e12b3724420bae6b57ffce7bb68",
       "version_major": 2,
       "version_minor": 0
      },
      "text/plain": [
       "VBox()"
      ]
     },
     "metadata": {},
     "output_type": "display_data"
    },
    {
     "data": {
      "application/vnd.jupyter.widget-view+json": {
       "model_id": "",
       "version_major": 2,
       "version_minor": 0
      },
      "text/plain": [
       "FloatProgress(value=0.0, bar_style='info', description='Progress:', layout=Layout(height='25px', width='50%'),…"
      ]
     },
     "metadata": {},
     "output_type": "display_data"
    }
   ],
   "source": [
    "customers_df_cleaned = customers_df_cleaned.dropDuplicates(['customer_id'])"
   ]
  },
  {
   "cell_type": "code",
   "execution_count": null,
   "id": "3244b991-b77e-496d-935f-dfa5a863ba92",
   "metadata": {},
   "outputs": [],
   "source": []
  },
  {
   "cell_type": "code",
   "execution_count": null,
   "id": "b74d6026-d2db-4d92-bbbc-b51e93e4f8b3",
   "metadata": {},
   "outputs": [],
   "source": []
  },
  {
   "cell_type": "markdown",
   "id": "928cba2f-696d-4cee-9cd4-cfe041903100",
   "metadata": {},
   "source": [
    "# Data Transformation"
   ]
  },
  {
   "cell_type": "code",
   "execution_count": 75,
   "id": "fc7d0cb9-3b6a-4e69-b858-4ac17e5f11f1",
   "metadata": {
    "execution": {
     "iopub.execute_input": "2025-04-05T00:45:05.104975Z",
     "iopub.status.busy": "2025-04-05T00:45:05.104521Z",
     "iopub.status.idle": "2025-04-05T00:45:07.595496Z",
     "shell.execute_reply": "2025-04-05T00:45:07.594698Z",
     "shell.execute_reply.started": "2025-04-05T00:45:05.104945Z"
    },
    "executionRoleArn": "arn:aws:iam::307946673210:role/EMRServerlessS3Role",
    "tags": []
   },
   "outputs": [
    {
     "data": {
      "application/vnd.jupyter.widget-view+json": {
       "model_id": "889c3448523a4ec68d1386e7ccba415f",
       "version_major": 2,
       "version_minor": 0
      },
      "text/plain": [
       "VBox()"
      ]
     },
     "metadata": {},
     "output_type": "display_data"
    },
    {
     "data": {
      "application/vnd.jupyter.widget-view+json": {
       "model_id": "",
       "version_major": 2,
       "version_minor": 0
      },
      "text/plain": [
       "FloatProgress(value=0.0, bar_style='info', description='Progress:', layout=Layout(height='25px', width='50%'),…"
      ]
     },
     "metadata": {},
     "output_type": "display_data"
    },
    {
     "name": "stdout",
     "output_type": "stream",
     "text": [
      "+--------------------+--------------------+------------------------+----------------+--------------+\n",
      "|         customer_id|  customer_unique_id|customer_zip_code_prefix|   customer_city|customer_state|\n",
      "+--------------------+--------------------+------------------------+----------------+--------------+\n",
      "|001f150aebb5d897f...|0f88eb431888ffb9d...|                   79031|    campo grande|            MS|\n",
      "|001f6f1a5e902ad14...|c6b7dcd3718d1ad87...|                   12460|campos do jordao|            SP|\n",
      "|002905287304e28c0...|8bc183d9b9efac18f...|                   37578|   bueno brandao|            MG|\n",
      "|002f067b028a3643a...|de94076bba3c66ffa...|                   81880|        curitiba|            PR|\n",
      "|003c7cadba4f182b9...|6279364f420b1e08e...|                    3981|       sao paulo|            SP|\n",
      "|003e45472805afa1e...|28e2041c0f17e12da...|                   90670|    porto alegre|            RS|\n",
      "|003eab528664e1bd6...|6f8b40e5fdbd4a4b4...|                   21041|  rio de janeiro|            RJ|\n",
      "|0040a8417928d0d5a...|96e147852028a3ce1...|                   12288|        cacapava|            SP|\n",
      "|004937d0f9d6ce15c...|a590fdd68e210fa5f...|                   14870|     jaboticabal|            SP|\n",
      "|0049e8442c2a3e4a8...|df1710893e1797d2c...|                   11250|        bertioga|            SP|\n",
      "|0063bdf3bf91260f7...|aaea7e9a2d2432c24...|                   81210|        curitiba|            PR|\n",
      "|006e0e7aa73b77bfc...|8f7822e4f4fb685c8...|                    1209|       sao paulo|            SP|\n",
      "|007612fef51262f47...|2f53681bf01c5cff0...|                    3611|       sao paulo|            SP|\n",
      "|00785e4d6fd1ab53e...|717bebcdcbf23f37f...|                   88301|          itajai|            SC|\n",
      "|0078867a1043bd408...|0be419a69453900ff...|                    3022|       sao paulo|            SP|\n",
      "|0088395699ea0fcd4...|ffe254cc039740e17...|                   37640|         extrema|            MG|\n",
      "|009bd844996868ab5...|63df52c362d4b7183...|                   13076|        campinas|            SP|\n",
      "|00ca6e4277e535d41...|9a7b819bc0d6d9e9c...|                   33115|     santa luzia|            MG|\n",
      "|00cd48b2051a1518d...|2f683d2b8640f8988...|                    2130|       sao paulo|            SP|\n",
      "|00e7c822a5cd0647e...|7c438259d88d8eefb...|                   35500|     divinopolis|            MG|\n",
      "+--------------------+--------------------+------------------------+----------------+--------------+\n",
      "only showing top 20 rows"
     ]
    }
   ],
   "source": [
    "customers_df_cleaned.show()"
   ]
  },
  {
   "cell_type": "code",
   "execution_count": null,
   "id": "b409bb89-d9ab-4656-8fb5-d18805365499",
   "metadata": {
    "executionRoleArn": "arn:aws:iam::307946673210:role/EMRServerlessS3Role",
    "tags": []
   },
   "outputs": [],
   "source": []
  },
  {
   "cell_type": "code",
   "execution_count": 79,
   "id": "cd2a6543-550e-4ebd-8a7a-a90327021538",
   "metadata": {
    "execution": {
     "iopub.execute_input": "2025-04-05T00:48:48.332169Z",
     "iopub.status.busy": "2025-04-05T00:48:48.331728Z",
     "iopub.status.idle": "2025-04-05T00:48:48.720904Z",
     "shell.execute_reply": "2025-04-05T00:48:48.720161Z",
     "shell.execute_reply.started": "2025-04-05T00:48:48.332138Z"
    },
    "executionRoleArn": "arn:aws:iam::307946673210:role/EMRServerlessS3Role",
    "tags": []
   },
   "outputs": [
    {
     "data": {
      "application/vnd.jupyter.widget-view+json": {
       "model_id": "f9c98a3c82c043e1b6956ef76ddb0b17",
       "version_major": 2,
       "version_minor": 0
      },
      "text/plain": [
       "VBox()"
      ]
     },
     "metadata": {},
     "output_type": "display_data"
    },
    {
     "data": {
      "application/vnd.jupyter.widget-view+json": {
       "model_id": "",
       "version_major": 2,
       "version_minor": 0
      },
      "text/plain": [
       "FloatProgress(value=0.0, bar_style='info', description='Progress:', layout=Layout(height='25px', width='50%'),…"
      ]
     },
     "metadata": {},
     "output_type": "display_data"
    }
   ],
   "source": [
    "# Combining orders, order items, payments and customer data into a sing view using left joins\n",
    "\n",
    "order_with_details = orders_df_cleaned.join(order_items_df,'order_id','left')\\\n",
    ".join(payments_df_cleaned,'order_id','left')\\\n",
    ".join(customers_df_cleaned,'customer_id','left')"
   ]
  },
  {
   "cell_type": "code",
   "execution_count": null,
   "id": "e9a76c9f-5592-4e8c-b52d-0a24370b8291",
   "metadata": {},
   "outputs": [],
   "source": []
  },
  {
   "cell_type": "code",
   "execution_count": null,
   "id": "51ff4b2f-e074-40b3-87c6-5efd86c9d4a4",
   "metadata": {},
   "outputs": [],
   "source": []
  },
  {
   "cell_type": "code",
   "execution_count": 82,
   "id": "1b390e76-1690-4a55-814e-38a71b0562ae",
   "metadata": {
    "execution": {
     "iopub.execute_input": "2025-04-05T00:53:16.998627Z",
     "iopub.status.busy": "2025-04-05T00:53:16.998180Z",
     "iopub.status.idle": "2025-04-05T00:53:17.160248Z",
     "shell.execute_reply": "2025-04-05T00:53:17.159456Z",
     "shell.execute_reply.started": "2025-04-05T00:53:16.998597Z"
    },
    "executionRoleArn": "arn:aws:iam::307946673210:role/EMRServerlessS3Role",
    "tags": []
   },
   "outputs": [
    {
     "data": {
      "application/vnd.jupyter.widget-view+json": {
       "model_id": "c7ab57d4c603441abf05d08063085f1a",
       "version_major": 2,
       "version_minor": 0
      },
      "text/plain": [
       "VBox()"
      ]
     },
     "metadata": {},
     "output_type": "display_data"
    },
    {
     "data": {
      "application/vnd.jupyter.widget-view+json": {
       "model_id": "",
       "version_major": 2,
       "version_minor": 0
      },
      "text/plain": [
       "FloatProgress(value=0.0, bar_style='info', description='Progress:', layout=Layout(height='25px', width='50%'),…"
      ]
     },
     "metadata": {},
     "output_type": "display_data"
    }
   ],
   "source": [
    "order_with_total_value = order_with_details.groupBy('order_id')\\\n",
    ".agg(sum('payment_value').alias('total_order_value'))\\"
   ]
  },
  {
   "cell_type": "code",
   "execution_count": 83,
   "id": "1daa95b5-264b-4923-93a0-0a85571bbd01",
   "metadata": {
    "execution": {
     "iopub.execute_input": "2025-04-05T00:53:28.824886Z",
     "iopub.status.busy": "2025-04-05T00:53:28.824463Z",
     "iopub.status.idle": "2025-04-05T00:53:32.313858Z",
     "shell.execute_reply": "2025-04-05T00:53:32.313182Z",
     "shell.execute_reply.started": "2025-04-05T00:53:28.824854Z"
    },
    "executionRoleArn": "arn:aws:iam::307946673210:role/EMRServerlessS3Role",
    "tags": []
   },
   "outputs": [
    {
     "data": {
      "application/vnd.jupyter.widget-view+json": {
       "model_id": "8c63ad77dffa4e78a52019054f83b49c",
       "version_major": 2,
       "version_minor": 0
      },
      "text/plain": [
       "VBox()"
      ]
     },
     "metadata": {},
     "output_type": "display_data"
    },
    {
     "data": {
      "application/vnd.jupyter.widget-view+json": {
       "model_id": "",
       "version_major": 2,
       "version_minor": 0
      },
      "text/plain": [
       "FloatProgress(value=0.0, bar_style='info', description='Progress:', layout=Layout(height='25px', width='50%'),…"
      ]
     },
     "metadata": {},
     "output_type": "display_data"
    },
    {
     "name": "stdout",
     "output_type": "stream",
     "text": [
      "+--------------------+-----------------+\n",
      "|            order_id|total_order_value|\n",
      "+--------------------+-----------------+\n",
      "|b4e517beb22f957e7...|           725.69|\n",
      "|6cd9dc64e9570c2a9...|            41.47|\n",
      "|aca96b69ba4057df4...|            165.7|\n",
      "|54066aeaaf3ac32e7...|           148.06|\n",
      "|3e654c7f3c4a852f6...|           136.93|\n",
      "|ed40c8b2d8208b703...|             54.1|\n",
      "|51491c23fabcfdfc4...|            33.13|\n",
      "|937f5e59b0d9e5274...|            71.53|\n",
      "|f8988b8698570c25c...|           741.45|\n",
      "|0b0b271dbd163df37...|           108.86|\n",
      "|077700dcf4e3bb412...|           215.05|\n",
      "|3f090361c1e3266bf...|            28.88|\n",
      "|ac086c46cd97732d9...|           110.98|\n",
      "|3e5d60bbe5a6016db...|            22.75|\n",
      "|e4e28f77bd50442ca...|           125.77|\n",
      "|2d08fef3d5af150cd...|           260.52|\n",
      "|96f4cc5fae35d1144...|            44.11|\n",
      "|1c4a92d82c1b0dec1...|747.1500000000001|\n",
      "|28eaf054725f4dd3c...|             45.0|\n",
      "|78cd965d0bc0388d3...|           189.37|\n",
      "+--------------------+-----------------+\n",
      "only showing top 20 rows"
     ]
    }
   ],
   "source": [
    "order_with_total_value.show()"
   ]
  },
  {
   "cell_type": "code",
   "execution_count": 85,
   "id": "644c0558-e404-4dc4-8bb5-3913620731b9",
   "metadata": {
    "execution": {
     "iopub.execute_input": "2025-04-05T00:54:39.813502Z",
     "iopub.status.busy": "2025-04-05T00:54:39.812998Z",
     "iopub.status.idle": "2025-04-05T00:54:39.992940Z",
     "shell.execute_reply": "2025-04-05T00:54:39.992241Z",
     "shell.execute_reply.started": "2025-04-05T00:54:39.813468Z"
    },
    "executionRoleArn": "arn:aws:iam::307946673210:role/EMRServerlessS3Role",
    "tags": []
   },
   "outputs": [
    {
     "data": {
      "application/vnd.jupyter.widget-view+json": {
       "model_id": "9005c5a680ac45d8b65b08881882697a",
       "version_major": 2,
       "version_minor": 0
      },
      "text/plain": [
       "VBox()"
      ]
     },
     "metadata": {},
     "output_type": "display_data"
    },
    {
     "data": {
      "application/vnd.jupyter.widget-view+json": {
       "model_id": "",
       "version_major": 2,
       "version_minor": 0
      },
      "text/plain": [
       "FloatProgress(value=0.0, bar_style='info', description='Progress:', layout=Layout(height='25px', width='50%'),…"
      ]
     },
     "metadata": {},
     "output_type": "display_data"
    }
   ],
   "source": [
    "delivery_df = orders_df.select('order_id', 'order_purchase_timestamp', 'order_delivered_customer_date')"
   ]
  },
  {
   "cell_type": "code",
   "execution_count": 86,
   "id": "db9136b8-1112-4e11-8631-792c0146bcfb",
   "metadata": {
    "execution": {
     "iopub.execute_input": "2025-04-05T00:54:41.406791Z",
     "iopub.status.busy": "2025-04-05T00:54:41.406371Z",
     "iopub.status.idle": "2025-04-05T00:54:41.564134Z",
     "shell.execute_reply": "2025-04-05T00:54:41.563393Z",
     "shell.execute_reply.started": "2025-04-05T00:54:41.406758Z"
    },
    "executionRoleArn": "arn:aws:iam::307946673210:role/EMRServerlessS3Role",
    "tags": []
   },
   "outputs": [
    {
     "data": {
      "application/vnd.jupyter.widget-view+json": {
       "model_id": "e83be8b1a0124c669e4cca5513250404",
       "version_major": 2,
       "version_minor": 0
      },
      "text/plain": [
       "VBox()"
      ]
     },
     "metadata": {},
     "output_type": "display_data"
    },
    {
     "data": {
      "application/vnd.jupyter.widget-view+json": {
       "model_id": "",
       "version_major": 2,
       "version_minor": 0
      },
      "text/plain": [
       "FloatProgress(value=0.0, bar_style='info', description='Progress:', layout=Layout(height='25px', width='50%'),…"
      ]
     },
     "metadata": {},
     "output_type": "display_data"
    }
   ],
   "source": [
    "# Delivery Time\n",
    "from pyspark.sql.functions import datediff, to_date, col\n",
    "\n",
    "delivery_detail_df = delivery_df.withColumn('delivery_time', \n",
    "    datediff(col('order_delivered_customer_date'), col('order_purchase_timestamp'))\n",
    ").orderBy('delivery_time', ascending=False)"
   ]
  },
  {
   "cell_type": "code",
   "execution_count": 87,
   "id": "d884bea0-6f37-4439-833a-6c2b6a27752c",
   "metadata": {
    "execution": {
     "iopub.execute_input": "2025-04-05T00:54:52.474607Z",
     "iopub.status.busy": "2025-04-05T00:54:52.474171Z",
     "iopub.status.idle": "2025-04-05T00:54:53.393680Z",
     "shell.execute_reply": "2025-04-05T00:54:53.393020Z",
     "shell.execute_reply.started": "2025-04-05T00:54:52.474577Z"
    },
    "executionRoleArn": "arn:aws:iam::307946673210:role/EMRServerlessS3Role",
    "tags": []
   },
   "outputs": [
    {
     "data": {
      "application/vnd.jupyter.widget-view+json": {
       "model_id": "32b8942bab5e4a24ae924f4744ca702b",
       "version_major": 2,
       "version_minor": 0
      },
      "text/plain": [
       "VBox()"
      ]
     },
     "metadata": {},
     "output_type": "display_data"
    },
    {
     "data": {
      "application/vnd.jupyter.widget-view+json": {
       "model_id": "",
       "version_major": 2,
       "version_minor": 0
      },
      "text/plain": [
       "FloatProgress(value=0.0, bar_style='info', description='Progress:', layout=Layout(height='25px', width='50%'),…"
      ]
     },
     "metadata": {},
     "output_type": "display_data"
    },
    {
     "name": "stdout",
     "output_type": "stream",
     "text": [
      "+--------------------+------------------------+-----------------------------+-------------+\n",
      "|            order_id|order_purchase_timestamp|order_delivered_customer_date|delivery_time|\n",
      "+--------------------+------------------------+-----------------------------+-------------+\n",
      "|ca07593549f1816d2...|     2017-02-21 23:31:27|          2017-09-19 14:36:39|          210|\n",
      "|1b3190b2dfa9d789e...|     2018-02-23 14:57:35|          2018-09-19 23:24:07|          208|\n",
      "|440d0d17af552815d...|     2017-03-07 23:59:51|          2017-09-19 15:12:50|          196|\n",
      "|285ab9426d6982034...|     2017-03-08 22:47:40|          2017-09-19 14:00:04|          195|\n",
      "|2fb597c2f772eca01...|     2017-03-08 18:09:02|          2017-09-19 14:33:17|          195|\n",
      "|0f4519c5f1c541dde...|     2017-03-09 13:26:57|          2017-09-19 14:38:21|          194|\n",
      "|47b40429ed8cce3ae...|     2018-01-03 09:44:01|          2018-07-13 20:51:31|          191|\n",
      "|2fe324febf907e3ea...|     2017-03-13 20:17:10|          2017-09-19 17:00:07|          190|\n",
      "|2d7561026d542c8db...|     2017-03-15 11:24:27|          2017-09-19 14:38:18|          188|\n",
      "|c27815f7e3dd0b926...|     2017-03-15 23:23:17|          2017-09-19 17:14:25|          188|\n",
      "|437222e3fd1b07396...|     2017-03-16 11:36:00|          2017-09-19 16:28:58|          187|\n",
      "|dfe5f68118c257614...|     2017-03-17 12:32:22|          2017-09-19 18:13:19|          186|\n",
      "|6e82dcfb5eada6283...|     2017-05-17 19:09:02|          2017-11-16 10:56:45|          183|\n",
      "|2ba1366baecad3c35...|     2017-02-28 14:56:37|          2017-08-28 16:23:46|          181|\n",
      "|d24e8541128cea179...|     2017-06-12 13:14:11|          2017-12-04 18:36:29|          175|\n",
      "|3566eabb132f8d647...|     2017-03-29 13:57:55|          2017-09-19 15:07:09|          174|\n",
      "|ed8e9faf1b75f43ee...|     2017-11-29 15:10:14|          2018-05-21 18:22:18|          173|\n",
      "|2fa29503f2ebd9f53...|     2017-03-31 15:03:51|          2017-09-19 18:24:46|          172|\n",
      "|4fbc8d6f2f4db3e78...|     2018-02-02 21:38:36|          2018-07-20 23:37:50|          168|\n",
      "|a452fba32eab28a4a...|     2017-04-04 23:21:02|          2017-09-19 13:47:09|          168|\n",
      "+--------------------+------------------------+-----------------------------+-------------+\n",
      "only showing top 20 rows"
     ]
    }
   ],
   "source": [
    "delivery_detail_df.show()"
   ]
  },
  {
   "cell_type": "markdown",
   "id": "1a54dacc-71c0-4ad9-9fef-c0dbffaf129e",
   "metadata": {
    "execution": {
     "iopub.execute_input": "2025-04-05T00:55:05.250292Z",
     "iopub.status.busy": "2025-04-05T00:55:05.249813Z",
     "iopub.status.idle": "2025-04-05T00:55:05.423097Z",
     "shell.execute_reply": "2025-04-05T00:55:05.422407Z",
     "shell.execute_reply.started": "2025-04-05T00:55:05.250260Z"
    },
    "executionRoleArn": "arn:aws:iam::307946673210:role/EMRServerlessS3Role",
    "tags": []
   },
   "source": [
    "# Advance Transformation"
   ]
  },
  {
   "cell_type": "code",
   "execution_count": 89,
   "id": "14f86937-4e54-4987-a836-f9d0b9fbaec0",
   "metadata": {
    "execution": {
     "iopub.execute_input": "2025-04-05T00:58:00.650421Z",
     "iopub.status.busy": "2025-04-05T00:58:00.649938Z",
     "iopub.status.idle": "2025-04-05T00:58:01.638209Z",
     "shell.execute_reply": "2025-04-05T00:58:01.637501Z",
     "shell.execute_reply.started": "2025-04-05T00:58:00.650387Z"
    },
    "executionRoleArn": "arn:aws:iam::307946673210:role/EMRServerlessS3Role",
    "tags": []
   },
   "outputs": [
    {
     "data": {
      "application/vnd.jupyter.widget-view+json": {
       "model_id": "6f798790ddac4254a2d7afad1bf8c6bf",
       "version_major": 2,
       "version_minor": 0
      },
      "text/plain": [
       "VBox()"
      ]
     },
     "metadata": {},
     "output_type": "display_data"
    },
    {
     "data": {
      "application/vnd.jupyter.widget-view+json": {
       "model_id": "",
       "version_major": 2,
       "version_minor": 0
      },
      "text/plain": [
       "FloatProgress(value=0.0, bar_style='info', description='Progress:', layout=Layout(height='25px', width='50%'),…"
      ]
     },
     "metadata": {},
     "output_type": "display_data"
    }
   ],
   "source": [
    "quantiles = order_items_df.approxQuantile('price', [0.01, 0.99], 0.00)\n",
    "low_cutoff,high_cutoff = quantiles[0],quantiles[1]"
   ]
  },
  {
   "cell_type": "code",
   "execution_count": 90,
   "id": "212d6c89-b42b-477f-93c8-ee2c54547629",
   "metadata": {
    "execution": {
     "iopub.execute_input": "2025-04-05T00:58:11.452703Z",
     "iopub.status.busy": "2025-04-05T00:58:11.452252Z",
     "iopub.status.idle": "2025-04-05T00:58:11.609957Z",
     "shell.execute_reply": "2025-04-05T00:58:11.609218Z",
     "shell.execute_reply.started": "2025-04-05T00:58:11.452670Z"
    },
    "executionRoleArn": "arn:aws:iam::307946673210:role/EMRServerlessS3Role",
    "tags": []
   },
   "outputs": [
    {
     "data": {
      "application/vnd.jupyter.widget-view+json": {
       "model_id": "b41d694f04824f5189092c3f406276bc",
       "version_major": 2,
       "version_minor": 0
      },
      "text/plain": [
       "VBox()"
      ]
     },
     "metadata": {},
     "output_type": "display_data"
    },
    {
     "data": {
      "application/vnd.jupyter.widget-view+json": {
       "model_id": "",
       "version_major": 2,
       "version_minor": 0
      },
      "text/plain": [
       "FloatProgress(value=0.0, bar_style='info', description='Progress:', layout=Layout(height='25px', width='50%'),…"
      ]
     },
     "metadata": {},
     "output_type": "display_data"
    },
    {
     "name": "stdout",
     "output_type": "stream",
     "text": [
      "(9.99, 890.0)"
     ]
    }
   ],
   "source": [
    "low_cutoff,high_cutoff"
   ]
  },
  {
   "cell_type": "code",
   "execution_count": 92,
   "id": "1790ec16-60ce-4ae2-949e-31203a77677f",
   "metadata": {
    "execution": {
     "iopub.execute_input": "2025-04-05T01:01:31.054600Z",
     "iopub.status.busy": "2025-04-05T01:01:31.054180Z",
     "iopub.status.idle": "2025-04-05T01:01:31.208766Z",
     "shell.execute_reply": "2025-04-05T01:01:31.207910Z",
     "shell.execute_reply.started": "2025-04-05T01:01:31.054568Z"
    },
    "executionRoleArn": "arn:aws:iam::307946673210:role/EMRServerlessS3Role",
    "tags": []
   },
   "outputs": [
    {
     "data": {
      "application/vnd.jupyter.widget-view+json": {
       "model_id": "3c7e9e98497e4f0c88f6ee3c269f7c79",
       "version_major": 2,
       "version_minor": 0
      },
      "text/plain": [
       "VBox()"
      ]
     },
     "metadata": {},
     "output_type": "display_data"
    },
    {
     "data": {
      "application/vnd.jupyter.widget-view+json": {
       "model_id": "",
       "version_major": 2,
       "version_minor": 0
      },
      "text/plain": [
       "FloatProgress(value=0.0, bar_style='info', description='Progress:', layout=Layout(height='25px', width='50%'),…"
      ]
     },
     "metadata": {},
     "output_type": "display_data"
    }
   ],
   "source": [
    "order_item_df_cleaned = order_items_df.filter((col('price') >=low_cutoff) & (col('price') <=high_cutoff))"
   ]
  },
  {
   "cell_type": "code",
   "execution_count": 93,
   "id": "0a0fc828-723d-4f2c-8176-a38a94f4fe6e",
   "metadata": {
    "execution": {
     "iopub.execute_input": "2025-04-05T01:02:11.095651Z",
     "iopub.status.busy": "2025-04-05T01:02:11.095191Z",
     "iopub.status.idle": "2025-04-05T01:02:13.691680Z",
     "shell.execute_reply": "2025-04-05T01:02:13.690910Z",
     "shell.execute_reply.started": "2025-04-05T01:02:11.095621Z"
    },
    "executionRoleArn": "arn:aws:iam::307946673210:role/EMRServerlessS3Role",
    "tags": []
   },
   "outputs": [
    {
     "data": {
      "application/vnd.jupyter.widget-view+json": {
       "model_id": "be731ec2047548aeb24f444611d6efce",
       "version_major": 2,
       "version_minor": 0
      },
      "text/plain": [
       "VBox()"
      ]
     },
     "metadata": {},
     "output_type": "display_data"
    },
    {
     "data": {
      "application/vnd.jupyter.widget-view+json": {
       "model_id": "",
       "version_major": 2,
       "version_minor": 0
      },
      "text/plain": [
       "FloatProgress(value=0.0, bar_style='info', description='Progress:', layout=Layout(height='25px', width='50%'),…"
      ]
     },
     "metadata": {},
     "output_type": "display_data"
    },
    {
     "name": "stdout",
     "output_type": "stream",
     "text": [
      "+-------+--------------------+\n",
      "|summary|payment_installments|\n",
      "+-------+--------------------+\n",
      "|  count|              103886|\n",
      "|   mean|   2.853348863176944|\n",
      "| stddev|   2.687050673856492|\n",
      "|    min|                   0|\n",
      "|    25%|                   1|\n",
      "|    50%|                   1|\n",
      "|    75%|                   4|\n",
      "|    max|                  24|\n",
      "+-------+--------------------+"
     ]
    }
   ],
   "source": [
    "payments_df_cleaned.select('payment_installments').summary().show()"
   ]
  },
  {
   "cell_type": "code",
   "execution_count": 105,
   "id": "9c2c9b16-032e-4695-8b42-1b4515d22c4c",
   "metadata": {
    "execution": {
     "iopub.execute_input": "2025-04-05T01:07:18.217830Z",
     "iopub.status.busy": "2025-04-05T01:07:18.217367Z",
     "iopub.status.idle": "2025-04-05T01:07:18.392486Z",
     "shell.execute_reply": "2025-04-05T01:07:18.391768Z",
     "shell.execute_reply.started": "2025-04-05T01:07:18.217795Z"
    },
    "executionRoleArn": "arn:aws:iam::307946673210:role/EMRServerlessS3Role",
    "tags": []
   },
   "outputs": [
    {
     "data": {
      "application/vnd.jupyter.widget-view+json": {
       "model_id": "a77c935cdb7f43149884f1534dee9c84",
       "version_major": 2,
       "version_minor": 0
      },
      "text/plain": [
       "VBox()"
      ]
     },
     "metadata": {},
     "output_type": "display_data"
    },
    {
     "data": {
      "application/vnd.jupyter.widget-view+json": {
       "model_id": "",
       "version_major": 2,
       "version_minor": 0
      },
      "text/plain": [
       "FloatProgress(value=0.0, bar_style='info', description='Progress:', layout=Layout(height='25px', width='50%'),…"
      ]
     },
     "metadata": {},
     "output_type": "display_data"
    }
   ],
   "source": [
    "products_df_cleaned = products_df.withColumn(\n",
    "    'product_size_category',\n",
    "    when(col('product_weight_g') < 500, 'Small')\n",
    "    .when(col('product_weight_g').between(500, 2000), 'Medium')\n",
    "    .otherwise('Extra Large')\n",
    ")"
   ]
  },
  {
   "cell_type": "code",
   "execution_count": 106,
   "id": "461a66ed-5a82-4a30-9895-91f66437a028",
   "metadata": {
    "execution": {
     "iopub.execute_input": "2025-04-05T01:07:27.449046Z",
     "iopub.status.busy": "2025-04-05T01:07:27.448615Z",
     "iopub.status.idle": "2025-04-05T01:07:28.357342Z",
     "shell.execute_reply": "2025-04-05T01:07:28.356596Z",
     "shell.execute_reply.started": "2025-04-05T01:07:27.449013Z"
    },
    "executionRoleArn": "arn:aws:iam::307946673210:role/EMRServerlessS3Role",
    "tags": []
   },
   "outputs": [
    {
     "data": {
      "application/vnd.jupyter.widget-view+json": {
       "model_id": "800b969a069945b4b062920d07bd4bf5",
       "version_major": 2,
       "version_minor": 0
      },
      "text/plain": [
       "VBox()"
      ]
     },
     "metadata": {},
     "output_type": "display_data"
    },
    {
     "data": {
      "application/vnd.jupyter.widget-view+json": {
       "model_id": "",
       "version_major": 2,
       "version_minor": 0
      },
      "text/plain": [
       "FloatProgress(value=0.0, bar_style='info', description='Progress:', layout=Layout(height='25px', width='50%'),…"
      ]
     },
     "metadata": {},
     "output_type": "display_data"
    },
    {
     "name": "stdout",
     "output_type": "stream",
     "text": [
      "+--------------------+---------------------+-------------------+--------------------------+------------------+----------------+-----------------+-----------------+----------------+---------------------+\n",
      "|          product_id|product_category_name|product_name_lenght|product_description_lenght|product_photos_qty|product_weight_g|product_length_cm|product_height_cm|product_width_cm|product_size_category|\n",
      "+--------------------+---------------------+-------------------+--------------------------+------------------+----------------+-----------------+-----------------+----------------+---------------------+\n",
      "|1e9e8ef04dbcff454...|           perfumaria|                 40|                       287|                 1|             225|               16|               10|              14|                Small|\n",
      "|3aa071139cb16b67c...|                artes|                 44|                       276|                 1|            1000|               30|               18|              20|               Medium|\n",
      "|96bd76ec8810374ed...|        esporte_lazer|                 46|                       250|                 1|             154|               18|                9|              15|                Small|\n",
      "|cef67bcfe19066a93...|                bebes|                 27|                       261|                 1|             371|               26|                4|              26|                Small|\n",
      "|9dc1a7de274444849...| utilidades_domest...|                 37|                       402|                 4|             625|               20|               17|              13|               Medium|\n",
      "|41d3672d4792049fa...| instrumentos_musi...|                 60|                       745|                 1|             200|               38|                5|              11|                Small|\n",
      "|732bd381ad09e530f...|           cool_stuff|                 56|                      1272|                 4|           18350|               70|               24|              44|          Extra Large|\n",
      "|2548af3e6e77a690c...|     moveis_decoracao|                 56|                       184|                 2|             900|               40|                8|              40|               Medium|\n",
      "|37cc742be07708b53...|     eletrodomesticos|                 57|                       163|                 1|             400|               27|               13|              17|                Small|\n",
      "|8c92109888e8cdf9d...|           brinquedos|                 36|                      1156|                 1|             600|               17|               10|              12|               Medium|\n",
      "|14aa47b7fe5c25522...|      cama_mesa_banho|                 54|                       630|                 1|            1100|               16|               10|              16|               Medium|\n",
      "|03b63c5fc16691530...|                bebes|                 49|                       728|                 4|            7150|               50|               19|              45|          Extra Large|\n",
      "|cf55509ea8edaaac1...| instrumentos_musi...|                 43|                      1827|                 3|             250|               17|                7|              17|                Small|\n",
      "|7bb6f29c2be577161...|     moveis_decoracao|                 51|                      2083|                 2|             600|               68|               11|              13|               Medium|\n",
      "|eb31436580a610f20...| construcao_ferram...|                 59|                      1602|                 4|             200|               17|                7|              17|                Small|\n",
      "|3bb7f144022e67327...|        esporte_lazer|                 22|                      3021|                 1|             800|               16|                2|              11|               Medium|\n",
      "|6a2fb4dd53d2cdb88...|           perfumaria|                 39|                       346|                 2|             400|               27|                5|              20|                Small|\n",
      "|a1b71017a84f92fd8...| informatica_acess...|                 59|                       636|                 1|             900|               40|               15|              20|               Medium|\n",
      "|a0736b92e52f6cead...|     moveis_decoracao|                 56|                       296|                 2|            1700|              100|                7|              15|               Medium|\n",
      "|f53103a77d9cf245e...|      cama_mesa_banho|                 52|                       206|                 1|             500|               16|               10|              16|               Medium|\n",
      "+--------------------+---------------------+-------------------+--------------------------+------------------+----------------+-----------------+-----------------+----------------+---------------------+\n",
      "only showing top 20 rows"
     ]
    }
   ],
   "source": [
    "products_df_cleaned.show()"
   ]
  },
  {
   "cell_type": "code",
   "execution_count": 107,
   "id": "ecd1ab5b-d4b9-45c4-8097-8be47197cf29",
   "metadata": {
    "execution": {
     "iopub.execute_input": "2025-04-05T01:08:29.013311Z",
     "iopub.status.busy": "2025-04-05T01:08:29.012884Z",
     "iopub.status.idle": "2025-04-05T01:08:29.201544Z",
     "shell.execute_reply": "2025-04-05T01:08:29.200890Z",
     "shell.execute_reply.started": "2025-04-05T01:08:29.013279Z"
    },
    "executionRoleArn": "arn:aws:iam::307946673210:role/EMRServerlessS3Role",
    "tags": []
   },
   "outputs": [
    {
     "data": {
      "application/vnd.jupyter.widget-view+json": {
       "model_id": "b3bb458412f041dcb0aa0b6e8513972a",
       "version_major": 2,
       "version_minor": 0
      },
      "text/plain": [
       "VBox()"
      ]
     },
     "metadata": {},
     "output_type": "display_data"
    },
    {
     "data": {
      "application/vnd.jupyter.widget-view+json": {
       "model_id": "",
       "version_major": 2,
       "version_minor": 0
      },
      "text/plain": [
       "FloatProgress(value=0.0, bar_style='info', description='Progress:', layout=Layout(height='25px', width='50%'),…"
      ]
     },
     "metadata": {},
     "output_type": "display_data"
    }
   ],
   "source": [
    "# Total Revenue Per Seller\n",
    "seller_revenue = order_with_details.groupBy('seller_id')\\\n",
    "    .agg(sum('payment_value').alias('total_revenue'))\\\n",
    "    .orderBy('total_revenue', ascending=False)"
   ]
  },
  {
   "cell_type": "code",
   "execution_count": 108,
   "id": "6e44c5ba-933d-4f61-880e-1ed0577dc2bb",
   "metadata": {
    "execution": {
     "iopub.execute_input": "2025-04-05T01:08:48.281173Z",
     "iopub.status.busy": "2025-04-05T01:08:48.280710Z",
     "iopub.status.idle": "2025-04-05T01:08:50.807727Z",
     "shell.execute_reply": "2025-04-05T01:08:50.807057Z",
     "shell.execute_reply.started": "2025-04-05T01:08:48.281142Z"
    },
    "executionRoleArn": "arn:aws:iam::307946673210:role/EMRServerlessS3Role",
    "tags": []
   },
   "outputs": [
    {
     "data": {
      "application/vnd.jupyter.widget-view+json": {
       "model_id": "1b72284bccd442a388e1b7f1a85d6393",
       "version_major": 2,
       "version_minor": 0
      },
      "text/plain": [
       "VBox()"
      ]
     },
     "metadata": {},
     "output_type": "display_data"
    },
    {
     "data": {
      "application/vnd.jupyter.widget-view+json": {
       "model_id": "",
       "version_major": 2,
       "version_minor": 0
      },
      "text/plain": [
       "FloatProgress(value=0.0, bar_style='info', description='Progress:', layout=Layout(height='25px', width='50%'),…"
      ]
     },
     "metadata": {},
     "output_type": "display_data"
    },
    {
     "name": "stdout",
     "output_type": "stream",
     "text": [
      "+--------------------+------------------+\n",
      "|           seller_id|     total_revenue|\n",
      "+--------------------+------------------+\n",
      "|7c67e1448b00f6e96...|         507166.91|\n",
      "|1025f0e2d44d7041d...| 308222.0399999999|\n",
      "|4a3ca9315b744ce9f...| 301245.2699999999|\n",
      "|1f50f920176fa81da...|290253.41999999975|\n",
      "|53243585a1d6dc264...|284903.07999999996|\n",
      "|da8622b14eb17ae28...| 272219.3200000001|\n",
      "|4869f7a5dfa277a7d...|         264166.12|\n",
      "|955fee9216a65b617...|236322.30000000025|\n",
      "|fa1c13f2614d7b5c4...|206513.23000000004|\n",
      "|7e93a43ef30c4f03f...|185134.21000000005|\n",
      "|6560211a19b47992c...|179657.74999999974|\n",
      "|7a67c85e85bb2ce85...| 169030.8000000001|\n",
      "|                null|162591.94999999995|\n",
      "|25c5c91f63607446a...|160534.73999999993|\n",
      "|a1043bafd471dff53...|         154356.91|\n",
      "|46dc3b2cc0980fb8e...|148864.34000000003|\n",
      "|b37c4c02bda3161a7...|         145319.04|\n",
      "|620c87c171fb2a6dd...|         145267.95|\n",
      "|cc419e0650a3c5ba7...|140316.27999999988|\n",
      "|5dceca129747e92ff...|132974.41999999998|\n",
      "+--------------------+------------------+\n",
      "only showing top 20 rows"
     ]
    }
   ],
   "source": [
    "seller_revenue.show()"
   ]
  },
  {
   "cell_type": "code",
   "execution_count": 109,
   "id": "05eda5a5-1430-4e65-94d8-8391742bf639",
   "metadata": {
    "execution": {
     "iopub.execute_input": "2025-04-05T01:10:53.406950Z",
     "iopub.status.busy": "2025-04-05T01:10:53.406508Z",
     "iopub.status.idle": "2025-04-05T01:11:01.002391Z",
     "shell.execute_reply": "2025-04-05T01:11:01.001682Z",
     "shell.execute_reply.started": "2025-04-05T01:10:53.406920Z"
    },
    "executionRoleArn": "arn:aws:iam::307946673210:role/EMRServerlessS3Role",
    "tags": []
   },
   "outputs": [
    {
     "data": {
      "application/vnd.jupyter.widget-view+json": {
       "model_id": "68f4b643446749e7b26b55980ad8d05a",
       "version_major": 2,
       "version_minor": 0
      },
      "text/plain": [
       "VBox()"
      ]
     },
     "metadata": {},
     "output_type": "display_data"
    },
    {
     "data": {
      "application/vnd.jupyter.widget-view+json": {
       "model_id": "",
       "version_major": 2,
       "version_minor": 0
      },
      "text/plain": [
       "FloatProgress(value=0.0, bar_style='info', description='Progress:', layout=Layout(height='25px', width='50%'),…"
      ]
     },
     "metadata": {},
     "output_type": "display_data"
    }
   ],
   "source": [
    "order_with_details.write.mode('overwrite').parquet('s3://kalan-emr-tutorial/input/output/cleaned_data.parquet')"
   ]
  },
  {
   "cell_type": "code",
   "execution_count": null,
   "id": "c044330c-0a75-4529-b42d-72899c50a2f8",
   "metadata": {},
   "outputs": [],
   "source": []
  }
 ],
 "metadata": {
  "kernelspec": {
   "display_name": "PySpark",
   "language": "python",
   "name": "spark_magic_pyspark"
  },
  "language_info": {
   "codemirror_mode": {
    "name": "python",
    "version": 3
   },
   "file_extension": ".py",
   "mimetype": "text/x-python",
   "name": "pyspark",
   "pygments_lexer": "python3"
  }
 },
 "nbformat": 4,
 "nbformat_minor": 5
}
