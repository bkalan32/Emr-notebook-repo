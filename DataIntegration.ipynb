{
 "cells": [
  {
   "cell_type": "code",
   "execution_count": 1,
   "id": "d60d73b9-ee25-4355-adbb-68b6cba500e9",
   "metadata": {
    "execution": {
     "iopub.execute_input": "2025-04-05T17:40:21.378600Z",
     "iopub.status.busy": "2025-04-05T17:40:21.378163Z",
     "iopub.status.idle": "2025-04-05T17:40:39.477827Z",
     "shell.execute_reply": "2025-04-05T17:40:39.477157Z",
     "shell.execute_reply.started": "2025-04-05T17:40:21.378566Z"
    },
    "executionRoleArn": "arn:aws:iam::307946673210:role/EMRServerlessS3Role",
    "tags": []
   },
   "outputs": [
    {
     "data": {
      "application/vnd.jupyter.widget-view+json": {
       "model_id": "810c8cad1c9446a8bdc3ec342a7bbf2d",
       "version_major": 2,
       "version_minor": 0
      },
      "text/plain": [
       "VBox()"
      ]
     },
     "metadata": {},
     "output_type": "display_data"
    },
    {
     "name": "stdout",
     "output_type": "stream",
     "text": [
      "Starting Spark application\n"
     ]
    },
    {
     "data": {
      "text/html": [
       "<table>\n",
       "    <tr><th>ID</th><th>Kind</th><th>State</th><th>Spark UI</th><th>Driver log</th><th>User</th><th>Current session?</th></tr><tr><td>0</td><td>pyspark</td><td>idle</td><td><a target=\"_blank\" href=\"https://spark-live-ui.emr-serverless.amazonaws.com\" class=\"emr-proxy-link\" emr-runtime=\"emr-serverless\" emr-resource=\"00frh35tkshpep0a\" application-id=\"00fqrb7u83iumc09\">Link</a></td><td></td><td>None</td><td>✔</td></tr></table>"
      ],
      "text/plain": [
       "<IPython.core.display.HTML object>"
      ]
     },
     "metadata": {},
     "output_type": "display_data"
    },
    {
     "data": {
      "application/vnd.jupyter.widget-view+json": {
       "model_id": "",
       "version_major": 2,
       "version_minor": 0
      },
      "text/plain": [
       "FloatProgress(value=0.0, bar_style='info', description='Progress:', layout=Layout(height='25px', width='50%'),…"
      ]
     },
     "metadata": {},
     "output_type": "display_data"
    },
    {
     "name": "stdout",
     "output_type": "stream",
     "text": [
      "SparkSession available as 'spark'.\n"
     ]
    },
    {
     "data": {
      "application/vnd.jupyter.widget-view+json": {
       "model_id": "",
       "version_major": 2,
       "version_minor": 0
      },
      "text/plain": [
       "FloatProgress(value=0.0, bar_style='info', description='Progress:', layout=Layout(height='25px', width='50%'),…"
      ]
     },
     "metadata": {},
     "output_type": "display_data"
    }
   ],
   "source": [
    "# Configure Spark Session\n",
    "\n",
    "from pyspark.sql import SparkSession\n",
    "\n",
    "spark = SparkSession.builder \\\n",
    ".appName('OlistData')\\\n",
    ".getOrCreate()"
   ]
  },
  {
   "cell_type": "code",
   "execution_count": 2,
   "id": "688fd84e-552d-404c-8870-0960a71f77a2",
   "metadata": {
    "execution": {
     "iopub.execute_input": "2025-04-05T17:40:39.479389Z",
     "iopub.status.busy": "2025-04-05T17:40:39.479091Z",
     "iopub.status.idle": "2025-04-05T17:40:41.299147Z",
     "shell.execute_reply": "2025-04-05T17:40:41.298383Z",
     "shell.execute_reply.started": "2025-04-05T17:40:39.479363Z"
    },
    "executionRoleArn": "arn:aws:iam::307946673210:role/EMRServerlessS3Role",
    "tags": []
   },
   "outputs": [
    {
     "data": {
      "application/vnd.jupyter.widget-view+json": {
       "model_id": "f5da34319f4c4c75a9421079dd7ed77d",
       "version_major": 2,
       "version_minor": 0
      },
      "text/plain": [
       "VBox()"
      ]
     },
     "metadata": {},
     "output_type": "display_data"
    },
    {
     "data": {
      "application/vnd.jupyter.widget-view+json": {
       "model_id": "",
       "version_major": 2,
       "version_minor": 0
      },
      "text/plain": [
       "FloatProgress(value=0.0, bar_style='info', description='Progress:', layout=Layout(height='25px', width='50%'),…"
      ]
     },
     "metadata": {},
     "output_type": "display_data"
    }
   ],
   "source": [
    "# Set path to the S3 bucket where data is stored\n",
    "s3_path = \"s3://kalan-emr-tutorial/input/hadoop/\""
   ]
  },
  {
   "cell_type": "code",
   "execution_count": 3,
   "id": "4b8e185d-d553-476a-b0dc-6ec518ae4185",
   "metadata": {
    "execution": {
     "iopub.execute_input": "2025-04-05T17:40:53.162550Z",
     "iopub.status.busy": "2025-04-05T17:40:53.162110Z",
     "iopub.status.idle": "2025-04-05T17:41:15.208548Z",
     "shell.execute_reply": "2025-04-05T17:41:15.207897Z",
     "shell.execute_reply.started": "2025-04-05T17:40:53.162521Z"
    },
    "executionRoleArn": "arn:aws:iam::307946673210:role/EMRServerlessS3Role",
    "tags": []
   },
   "outputs": [
    {
     "data": {
      "application/vnd.jupyter.widget-view+json": {
       "model_id": "132a2e76b7c0464c969bdbe9d483ff50",
       "version_major": 2,
       "version_minor": 0
      },
      "text/plain": [
       "VBox()"
      ]
     },
     "metadata": {},
     "output_type": "display_data"
    },
    {
     "data": {
      "application/vnd.jupyter.widget-view+json": {
       "model_id": "",
       "version_major": 2,
       "version_minor": 0
      },
      "text/plain": [
       "FloatProgress(value=0.0, bar_style='info', description='Progress:', layout=Layout(height='25px', width='50%'),…"
      ]
     },
     "metadata": {},
     "output_type": "display_data"
    }
   ],
   "source": [
    "# Create DataFrames for each CSV file\n",
    "customers_df = spark.read.csv(s3_path + \"olist_customers_dataset.csv\", header=True, inferSchema=True)\n",
    "geolocation_df = spark.read.csv(s3_path + \"olist_geolocation_dataset.csv\", header=True, inferSchema=True)\n",
    "order_items_df = spark.read.csv(s3_path + \"olist_order_items_dataset.csv\", header=True, inferSchema=True)\n",
    "payments_df = spark.read.csv(s3_path + \"olist_order_payments_dataset.csv\", header=True, inferSchema=True)\n",
    "order_reviews_df = spark.read.csv(s3_path + \"olist_order_reviews_dataset.csv\", header=True, inferSchema=True)\n",
    "orders_df = spark.read.csv(s3_path + \"olist_orders_dataset.csv\", header=True, inferSchema=True)\n",
    "products_df = spark.read.csv(s3_path + \"olist_products_dataset.csv\", header=True, inferSchema=True)\n",
    "sellers_df = spark.read.csv(s3_path + \"olist_sellers_dataset.csv\", header=True, inferSchema=True)\n",
    "category_translation_df = spark.read.csv(s3_path + \"product_category_name_translation.csv\", header=True, inferSchema=True)"
   ]
  },
  {
   "cell_type": "code",
   "execution_count": 7,
   "id": "5ad1d935-f61f-4a39-bab1-9b6b073d20be",
   "metadata": {
    "execution": {
     "iopub.execute_input": "2025-04-05T17:42:18.918612Z",
     "iopub.status.busy": "2025-04-05T17:42:18.918196Z",
     "iopub.status.idle": "2025-04-05T17:42:19.106833Z",
     "shell.execute_reply": "2025-04-05T17:42:19.106187Z",
     "shell.execute_reply.started": "2025-04-05T17:42:18.918580Z"
    },
    "executionRoleArn": "arn:aws:iam::307946673210:role/EMRServerlessS3Role",
    "tags": []
   },
   "outputs": [
    {
     "data": {
      "application/vnd.jupyter.widget-view+json": {
       "model_id": "48b715f597d14fe9abd43f591eb38205",
       "version_major": 2,
       "version_minor": 0
      },
      "text/plain": [
       "VBox()"
      ]
     },
     "metadata": {},
     "output_type": "display_data"
    },
    {
     "data": {
      "application/vnd.jupyter.widget-view+json": {
       "model_id": "",
       "version_major": 2,
       "version_minor": 0
      },
      "text/plain": [
       "FloatProgress(value=0.0, bar_style='info', description='Progress:', layout=Layout(height='25px', width='50%'),…"
      ]
     },
     "metadata": {},
     "output_type": "display_data"
    },
    {
     "name": "stdout",
     "output_type": "stream",
     "text": [
      "DataFrame[order_id: string, customer_id: string, order_status: string, order_purchase_timestamp: timestamp, order_approved_at: timestamp, order_delivered_carrier_date: timestamp, order_delivered_customer_date: timestamp, order_estimated_delivery_date: timestamp]"
     ]
    }
   ],
   "source": [
    "# Cache Frequently Used Data\n",
    "customers_df.cache()\n",
    "order_items_df.cache()\n",
    "orders_df.cache()"
   ]
  },
  {
   "cell_type": "code",
   "execution_count": 21,
   "id": "9139612d-42d6-45d8-835c-7bb14944f7d8",
   "metadata": {
    "execution": {
     "iopub.execute_input": "2025-04-05T17:47:34.192033Z",
     "iopub.status.busy": "2025-04-05T17:47:34.191596Z",
     "iopub.status.idle": "2025-04-05T17:47:34.384202Z",
     "shell.execute_reply": "2025-04-05T17:47:34.383489Z",
     "shell.execute_reply.started": "2025-04-05T17:47:34.192002Z"
    },
    "executionRoleArn": "arn:aws:iam::307946673210:role/EMRServerlessS3Role",
    "tags": []
   },
   "outputs": [
    {
     "data": {
      "application/vnd.jupyter.widget-view+json": {
       "model_id": "5d19042153e94d93999aa93578ab7d9a",
       "version_major": 2,
       "version_minor": 0
      },
      "text/plain": [
       "VBox()"
      ]
     },
     "metadata": {},
     "output_type": "display_data"
    },
    {
     "data": {
      "application/vnd.jupyter.widget-view+json": {
       "model_id": "",
       "version_major": 2,
       "version_minor": 0
      },
      "text/plain": [
       "FloatProgress(value=0.0, bar_style='info', description='Progress:', layout=Layout(height='25px', width='50%'),…"
      ]
     },
     "metadata": {},
     "output_type": "display_data"
    }
   ],
   "source": [
    "order_items_joined_df = orders_df.join(order_items_df,'order_id','inner')"
   ]
  },
  {
   "cell_type": "code",
   "execution_count": 24,
   "id": "d12de341-0b96-4578-b367-a23b23739b03",
   "metadata": {
    "execution": {
     "iopub.execute_input": "2025-04-05T17:47:47.259341Z",
     "iopub.status.busy": "2025-04-05T17:47:47.258865Z",
     "iopub.status.idle": "2025-04-05T17:47:47.435575Z",
     "shell.execute_reply": "2025-04-05T17:47:47.434910Z",
     "shell.execute_reply.started": "2025-04-05T17:47:47.259308Z"
    },
    "executionRoleArn": "arn:aws:iam::307946673210:role/EMRServerlessS3Role",
    "tags": []
   },
   "outputs": [
    {
     "data": {
      "application/vnd.jupyter.widget-view+json": {
       "model_id": "2e986d9513c44e1eacc8c92458e3a54c",
       "version_major": 2,
       "version_minor": 0
      },
      "text/plain": [
       "VBox()"
      ]
     },
     "metadata": {},
     "output_type": "display_data"
    },
    {
     "data": {
      "application/vnd.jupyter.widget-view+json": {
       "model_id": "",
       "version_major": 2,
       "version_minor": 0
      },
      "text/plain": [
       "FloatProgress(value=0.0, bar_style='info', description='Progress:', layout=Layout(height='25px', width='50%'),…"
      ]
     },
     "metadata": {},
     "output_type": "display_data"
    }
   ],
   "source": [
    "orders_items_products_df = order_items_joined_df.join(products_df,'product_id','inner')"
   ]
  },
  {
   "cell_type": "code",
   "execution_count": 26,
   "id": "dca1e2c3-5d7b-4594-9a9c-594d373788d1",
   "metadata": {
    "execution": {
     "iopub.execute_input": "2025-04-05T17:48:47.220405Z",
     "iopub.status.busy": "2025-04-05T17:48:47.219954Z",
     "iopub.status.idle": "2025-04-05T17:48:47.391807Z",
     "shell.execute_reply": "2025-04-05T17:48:47.391099Z",
     "shell.execute_reply.started": "2025-04-05T17:48:47.220375Z"
    },
    "executionRoleArn": "arn:aws:iam::307946673210:role/EMRServerlessS3Role",
    "tags": []
   },
   "outputs": [
    {
     "data": {
      "application/vnd.jupyter.widget-view+json": {
       "model_id": "13fabbb16df243a19efb2dfdd2c41a84",
       "version_major": 2,
       "version_minor": 0
      },
      "text/plain": [
       "VBox()"
      ]
     },
     "metadata": {},
     "output_type": "display_data"
    },
    {
     "data": {
      "application/vnd.jupyter.widget-view+json": {
       "model_id": "",
       "version_major": 2,
       "version_minor": 0
      },
      "text/plain": [
       "FloatProgress(value=0.0, bar_style='info', description='Progress:', layout=Layout(height='25px', width='50%'),…"
      ]
     },
     "metadata": {},
     "output_type": "display_data"
    }
   ],
   "source": [
    "orders_items_products_sellers_df = orders_items_products_df.join(sellers_df, 'seller_id', 'inner')"
   ]
  },
  {
   "cell_type": "code",
   "execution_count": 27,
   "id": "a21b1e60-4e08-498d-a8a4-2a438f91d0b1",
   "metadata": {
    "execution": {
     "iopub.execute_input": "2025-04-05T17:50:35.758189Z",
     "iopub.status.busy": "2025-04-05T17:50:35.757755Z",
     "iopub.status.idle": "2025-04-05T17:50:35.948458Z",
     "shell.execute_reply": "2025-04-05T17:50:35.947816Z",
     "shell.execute_reply.started": "2025-04-05T17:50:35.758159Z"
    },
    "executionRoleArn": "arn:aws:iam::307946673210:role/EMRServerlessS3Role",
    "tags": []
   },
   "outputs": [
    {
     "data": {
      "application/vnd.jupyter.widget-view+json": {
       "model_id": "a41621808a984d20a6cd98bd20a82889",
       "version_major": 2,
       "version_minor": 0
      },
      "text/plain": [
       "VBox()"
      ]
     },
     "metadata": {},
     "output_type": "display_data"
    },
    {
     "data": {
      "application/vnd.jupyter.widget-view+json": {
       "model_id": "",
       "version_major": 2,
       "version_minor": 0
      },
      "text/plain": [
       "FloatProgress(value=0.0, bar_style='info', description='Progress:', layout=Layout(height='25px', width='50%'),…"
      ]
     },
     "metadata": {},
     "output_type": "display_data"
    }
   ],
   "source": [
    "full_orders_df = orders_items_products_sellers_df.join(customers_df,'customer_id','inner')"
   ]
  },
  {
   "cell_type": "code",
   "execution_count": 31,
   "id": "7d57fa34-dc00-46d8-aa5b-d3e5c9c5bd21",
   "metadata": {
    "execution": {
     "iopub.execute_input": "2025-04-05T17:53:55.508306Z",
     "iopub.status.busy": "2025-04-05T17:53:55.507865Z",
     "iopub.status.idle": "2025-04-05T17:53:55.688466Z",
     "shell.execute_reply": "2025-04-05T17:53:55.687741Z",
     "shell.execute_reply.started": "2025-04-05T17:53:55.508277Z"
    },
    "executionRoleArn": "arn:aws:iam::307946673210:role/EMRServerlessS3Role",
    "tags": []
   },
   "outputs": [
    {
     "data": {
      "application/vnd.jupyter.widget-view+json": {
       "model_id": "849d3bef4c684080b90424ae441f6653",
       "version_major": 2,
       "version_minor": 0
      },
      "text/plain": [
       "VBox()"
      ]
     },
     "metadata": {},
     "output_type": "display_data"
    },
    {
     "data": {
      "application/vnd.jupyter.widget-view+json": {
       "model_id": "",
       "version_major": 2,
       "version_minor": 0
      },
      "text/plain": [
       "FloatProgress(value=0.0, bar_style='info', description='Progress:', layout=Layout(height='25px', width='50%'),…"
      ]
     },
     "metadata": {},
     "output_type": "display_data"
    }
   ],
   "source": [
    "# Geolocation Data\n",
    "\n",
    "full_orders_df = full_orders_df.join(geolocation_df,full_orders_df.customer_zip_code_prefix == geolocation_df.geolocation_zip_code_prefix,'left')"
   ]
  },
  {
   "cell_type": "code",
   "execution_count": 34,
   "id": "ddd55286-ac2f-4ef9-9082-9e140505415d",
   "metadata": {
    "execution": {
     "iopub.execute_input": "2025-04-05T17:56:07.314375Z",
     "iopub.status.busy": "2025-04-05T17:56:07.313953Z",
     "iopub.status.idle": "2025-04-05T17:56:07.488061Z",
     "shell.execute_reply": "2025-04-05T17:56:07.487416Z",
     "shell.execute_reply.started": "2025-04-05T17:56:07.314345Z"
    },
    "executionRoleArn": "arn:aws:iam::307946673210:role/EMRServerlessS3Role",
    "tags": []
   },
   "outputs": [
    {
     "data": {
      "application/vnd.jupyter.widget-view+json": {
       "model_id": "c4f26ac8178847b1aa3853c45ca35407",
       "version_major": 2,
       "version_minor": 0
      },
      "text/plain": [
       "VBox()"
      ]
     },
     "metadata": {},
     "output_type": "display_data"
    },
    {
     "data": {
      "application/vnd.jupyter.widget-view+json": {
       "model_id": "",
       "version_major": 2,
       "version_minor": 0
      },
      "text/plain": [
       "FloatProgress(value=0.0, bar_style='info', description='Progress:', layout=Layout(height='25px', width='50%'),…"
      ]
     },
     "metadata": {},
     "output_type": "display_data"
    }
   ],
   "source": [
    "full_orders_df = full_orders_df.join(order_reviews_df,'order_id', 'left')"
   ]
  },
  {
   "cell_type": "code",
   "execution_count": 35,
   "id": "8df9f8a5-a962-40d5-bf00-7454c099995f",
   "metadata": {
    "execution": {
     "iopub.execute_input": "2025-04-05T17:56:24.051486Z",
     "iopub.status.busy": "2025-04-05T17:56:24.051052Z",
     "iopub.status.idle": "2025-04-05T17:56:24.218071Z",
     "shell.execute_reply": "2025-04-05T17:56:24.217441Z",
     "shell.execute_reply.started": "2025-04-05T17:56:24.051454Z"
    },
    "executionRoleArn": "arn:aws:iam::307946673210:role/EMRServerlessS3Role",
    "tags": []
   },
   "outputs": [
    {
     "data": {
      "application/vnd.jupyter.widget-view+json": {
       "model_id": "2a00a07d5b4f42a1b59c0864dd0387ec",
       "version_major": 2,
       "version_minor": 0
      },
      "text/plain": [
       "VBox()"
      ]
     },
     "metadata": {},
     "output_type": "display_data"
    },
    {
     "data": {
      "application/vnd.jupyter.widget-view+json": {
       "model_id": "",
       "version_major": 2,
       "version_minor": 0
      },
      "text/plain": [
       "FloatProgress(value=0.0, bar_style='info', description='Progress:', layout=Layout(height='25px', width='50%'),…"
      ]
     },
     "metadata": {},
     "output_type": "display_data"
    }
   ],
   "source": [
    "full_orders_df = full_orders_df.join(payments_df, 'order_id', 'left')"
   ]
  },
  {
   "cell_type": "code",
   "execution_count": 38,
   "id": "ac3c00c6-52b6-43c5-b99e-78cf83a90cca",
   "metadata": {
    "execution": {
     "iopub.execute_input": "2025-04-05T18:00:07.534701Z",
     "iopub.status.busy": "2025-04-05T18:00:07.534250Z",
     "iopub.status.idle": "2025-04-05T18:00:07.934818Z",
     "shell.execute_reply": "2025-04-05T18:00:07.934167Z",
     "shell.execute_reply.started": "2025-04-05T18:00:07.534671Z"
    },
    "executionRoleArn": "arn:aws:iam::307946673210:role/EMRServerlessS3Role",
    "tags": []
   },
   "outputs": [
    {
     "data": {
      "application/vnd.jupyter.widget-view+json": {
       "model_id": "e8c9178f9318424baa5308b913455faf",
       "version_major": 2,
       "version_minor": 0
      },
      "text/plain": [
       "VBox()"
      ]
     },
     "metadata": {},
     "output_type": "display_data"
    },
    {
     "data": {
      "application/vnd.jupyter.widget-view+json": {
       "model_id": "",
       "version_major": 2,
       "version_minor": 0
      },
      "text/plain": [
       "FloatProgress(value=0.0, bar_style='info', description='Progress:', layout=Layout(height='25px', width='50%'),…"
      ]
     },
     "metadata": {},
     "output_type": "display_data"
    }
   ],
   "source": [
    "# Total Revenues Per Seller\n",
    "from pyspark.sql.functions import *\n",
    "seller_revenue_df = full_orders_df.groupBy('seller_id').agg(sum('price').alias('total_revenue'))"
   ]
  },
  {
   "cell_type": "code",
   "execution_count": 39,
   "id": "434a12f5-40a7-4c7f-9790-3f20e42cf923",
   "metadata": {
    "execution": {
     "iopub.execute_input": "2025-04-05T18:00:19.669465Z",
     "iopub.status.busy": "2025-04-05T18:00:19.669042Z",
     "iopub.status.idle": "2025-04-05T18:00:27.244255Z",
     "shell.execute_reply": "2025-04-05T18:00:27.243529Z",
     "shell.execute_reply.started": "2025-04-05T18:00:19.669433Z"
    },
    "executionRoleArn": "arn:aws:iam::307946673210:role/EMRServerlessS3Role",
    "tags": []
   },
   "outputs": [
    {
     "data": {
      "application/vnd.jupyter.widget-view+json": {
       "model_id": "24238f782f434062849c4fb09943c14f",
       "version_major": 2,
       "version_minor": 0
      },
      "text/plain": [
       "VBox()"
      ]
     },
     "metadata": {},
     "output_type": "display_data"
    },
    {
     "data": {
      "application/vnd.jupyter.widget-view+json": {
       "model_id": "",
       "version_major": 2,
       "version_minor": 0
      },
      "text/plain": [
       "FloatProgress(value=0.0, bar_style='info', description='Progress:', layout=Layout(height='25px', width='50%'),…"
      ]
     },
     "metadata": {},
     "output_type": "display_data"
    },
    {
     "name": "stdout",
     "output_type": "stream",
     "text": [
      "+--------------------+-------------------+\n",
      "|           seller_id|      total_revenue|\n",
      "+--------------------+-------------------+\n",
      "|8e6cc767478edae94...|  1145757.400000003|\n",
      "|b76dba6c951ab00dc...|  302582.6600000009|\n",
      "|33cbbec1e7e1044aa...| 190508.31999999887|\n",
      "|7a67c85e85bb2ce85...|2.031279488999876E7|\n",
      "|3d8fa2f5b647373c8...|  458520.1200000021|\n",
      "+--------------------+-------------------+\n",
      "only showing top 5 rows"
     ]
    }
   ],
   "source": [
    "seller_revenue_df.show(5)"
   ]
  },
  {
   "cell_type": "code",
   "execution_count": 40,
   "id": "9ecd9c40-efd9-4570-be38-6f0214bfe6d8",
   "metadata": {
    "execution": {
     "iopub.execute_input": "2025-04-05T18:02:35.945463Z",
     "iopub.status.busy": "2025-04-05T18:02:35.945020Z",
     "iopub.status.idle": "2025-04-05T18:02:36.370401Z",
     "shell.execute_reply": "2025-04-05T18:02:36.369770Z",
     "shell.execute_reply.started": "2025-04-05T18:02:35.945433Z"
    },
    "executionRoleArn": "arn:aws:iam::307946673210:role/EMRServerlessS3Role",
    "tags": []
   },
   "outputs": [
    {
     "data": {
      "application/vnd.jupyter.widget-view+json": {
       "model_id": "be9354e482fc459bbe42743be640466e",
       "version_major": 2,
       "version_minor": 0
      },
      "text/plain": [
       "VBox()"
      ]
     },
     "metadata": {},
     "output_type": "display_data"
    },
    {
     "data": {
      "application/vnd.jupyter.widget-view+json": {
       "model_id": "",
       "version_major": 2,
       "version_minor": 0
      },
      "text/plain": [
       "FloatProgress(value=0.0, bar_style='info', description='Progress:', layout=Layout(height='25px', width='50%'),…"
      ]
     },
     "metadata": {},
     "output_type": "display_data"
    }
   ],
   "source": [
    "# Total Orders Per customer\n",
    "\n",
    "customer_orders_df = full_orders_df.groupBy('customer_id')\\\n",
    "    .agg(count('order_id').alias('total_orders'))\\\n",
    "    .orderBy(desc('total_orders'))"
   ]
  },
  {
   "cell_type": "code",
   "execution_count": 41,
   "id": "732ac850-9d81-4298-80b5-a6d1abca1c3e",
   "metadata": {
    "execution": {
     "iopub.execute_input": "2025-04-05T18:02:56.777052Z",
     "iopub.status.busy": "2025-04-05T18:02:56.776623Z",
     "iopub.status.idle": "2025-04-05T18:03:02.429683Z",
     "shell.execute_reply": "2025-04-05T18:03:02.428958Z",
     "shell.execute_reply.started": "2025-04-05T18:02:56.777023Z"
    },
    "executionRoleArn": "arn:aws:iam::307946673210:role/EMRServerlessS3Role",
    "tags": []
   },
   "outputs": [
    {
     "data": {
      "application/vnd.jupyter.widget-view+json": {
       "model_id": "02ffa3215e444e01a5e8353a36fd48fd",
       "version_major": 2,
       "version_minor": 0
      },
      "text/plain": [
       "VBox()"
      ]
     },
     "metadata": {},
     "output_type": "display_data"
    },
    {
     "data": {
      "application/vnd.jupyter.widget-view+json": {
       "model_id": "",
       "version_major": 2,
       "version_minor": 0
      },
      "text/plain": [
       "FloatProgress(value=0.0, bar_style='info', description='Progress:', layout=Layout(height='25px', width='50%'),…"
      ]
     },
     "metadata": {},
     "output_type": "display_data"
    },
    {
     "name": "stdout",
     "output_type": "stream",
     "text": [
      "+--------------------+------------+\n",
      "|         customer_id|total_orders|\n",
      "+--------------------+------------+\n",
      "|351e40989da90e704...|       11427|\n",
      "|50920f8cd0681fd86...|       10752|\n",
      "|9b43e2a62de9bab3a...|        8556|\n",
      "|270c23a11d024a44c...|        8001|\n",
      "|5c87184371002d49e...|        6876|\n",
      "|d3e82ccec3cb5f956...|        6876|\n",
      "|d5f2b3f597c7ccafb...|        6706|\n",
      "|c2f18647725395af4...|        6612|\n",
      "|24e7dc2ff8c071263...|        6597|\n",
      "|7bb57d182bdc11653...|        6258|\n",
      "|63b964e79dee32a35...|        6072|\n",
      "|d22f25a9fadfb1abb...|        6072|\n",
      "|1ff773612ab8934db...|        5820|\n",
      "|13aa59158da63ba0e...|        5206|\n",
      "|78fc46047c4a639e8...|        5200|\n",
      "|dd3f1762eb601f41c...|        4992|\n",
      "|a193aa8d905b8e246...|        4896|\n",
      "|9eb3d566e87289dcb...|        4872|\n",
      "|2ba91e12e5e4c9f56...|        4752|\n",
      "|55e7cfd6e28d2fbfb...|        4728|\n",
      "+--------------------+------------+\n",
      "only showing top 20 rows"
     ]
    }
   ],
   "source": [
    "customer_orders_df.show()"
   ]
  },
  {
   "cell_type": "code",
   "execution_count": 42,
   "id": "5477c614-8886-478d-aa20-879c1232902f",
   "metadata": {
    "execution": {
     "iopub.execute_input": "2025-04-05T18:03:53.474613Z",
     "iopub.status.busy": "2025-04-05T18:03:53.474178Z",
     "iopub.status.idle": "2025-04-05T18:03:53.884528Z",
     "shell.execute_reply": "2025-04-05T18:03:53.883878Z",
     "shell.execute_reply.started": "2025-04-05T18:03:53.474583Z"
    },
    "executionRoleArn": "arn:aws:iam::307946673210:role/EMRServerlessS3Role",
    "tags": []
   },
   "outputs": [
    {
     "data": {
      "application/vnd.jupyter.widget-view+json": {
       "model_id": "66d7af86419745c4a0eebc3b0e2eb329",
       "version_major": 2,
       "version_minor": 0
      },
      "text/plain": [
       "VBox()"
      ]
     },
     "metadata": {},
     "output_type": "display_data"
    },
    {
     "data": {
      "application/vnd.jupyter.widget-view+json": {
       "model_id": "",
       "version_major": 2,
       "version_minor": 0
      },
      "text/plain": [
       "FloatProgress(value=0.0, bar_style='info', description='Progress:', layout=Layout(height='25px', width='50%'),…"
      ]
     },
     "metadata": {},
     "output_type": "display_data"
    }
   ],
   "source": [
    "# Average Review Score Per Seller\n",
    "seller_reviews_df = full_orders_df.groupBy('seller_id')\\\n",
    "    .agg(avg('review_score').alias('average_review_score'))\\\n",
    "    .orderBy(desc('average_review_score'))"
   ]
  },
  {
   "cell_type": "code",
   "execution_count": 43,
   "id": "8d896ced-8be1-49e1-9a6f-7086376b2ed5",
   "metadata": {
    "execution": {
     "iopub.execute_input": "2025-04-05T18:04:00.908566Z",
     "iopub.status.busy": "2025-04-05T18:04:00.908119Z",
     "iopub.status.idle": "2025-04-05T18:04:10.476724Z",
     "shell.execute_reply": "2025-04-05T18:04:10.476003Z",
     "shell.execute_reply.started": "2025-04-05T18:04:00.908533Z"
    },
    "executionRoleArn": "arn:aws:iam::307946673210:role/EMRServerlessS3Role",
    "tags": []
   },
   "outputs": [
    {
     "data": {
      "application/vnd.jupyter.widget-view+json": {
       "model_id": "4c23c0955ea4438783db0c14e6b506ad",
       "version_major": 2,
       "version_minor": 0
      },
      "text/plain": [
       "VBox()"
      ]
     },
     "metadata": {},
     "output_type": "display_data"
    },
    {
     "data": {
      "application/vnd.jupyter.widget-view+json": {
       "model_id": "",
       "version_major": 2,
       "version_minor": 0
      },
      "text/plain": [
       "FloatProgress(value=0.0, bar_style='info', description='Progress:', layout=Layout(height='25px', width='50%'),…"
      ]
     },
     "metadata": {},
     "output_type": "display_data"
    },
    {
     "name": "stdout",
     "output_type": "stream",
     "text": [
      "+--------------------+--------------------+\n",
      "|           seller_id|average_review_score|\n",
      "+--------------------+--------------------+\n",
      "|73da1880b39c71de2...|                 5.0|\n",
      "|48efc9d94a9834137...|                 5.0|\n",
      "|9d213f303afae4983...|                 5.0|\n",
      "|a20d8058c866dbaec...|                 5.0|\n",
      "|c3fe93ba3085f9285...|                 5.0|\n",
      "|57a834594e1e9e921...|                 5.0|\n",
      "|63272377184e96994...|                 5.0|\n",
      "|4a82c4af97ffc0fb2...|                 5.0|\n",
      "|d263fa444c1504a75...|                 5.0|\n",
      "|7238f877570096ae4...|                 5.0|\n",
      "|2bd05d410a8fd26dc...|                 5.0|\n",
      "|a81466620e46a6970...|                 5.0|\n",
      "|45a3d05fb00435e52...|                 5.0|\n",
      "|8c351ed7c326c6212...|                 5.0|\n",
      "|2d34636518ba88f53...|                 5.0|\n",
      "|228e4c1a0be164f61...|                 5.0|\n",
      "|2063dd1b9f568df1c...|                 5.0|\n",
      "|8c9348f33ae3dada2...|                 5.0|\n",
      "|3f84fefc07dc159b2...|                 5.0|\n",
      "|e439f7176d763f92d...|                 5.0|\n",
      "+--------------------+--------------------+\n",
      "only showing top 20 rows"
     ]
    }
   ],
   "source": [
    "seller_reviews_df.show()"
   ]
  },
  {
   "cell_type": "code",
   "execution_count": 44,
   "id": "7e899c45-a022-47c6-8ceb-a65b6060ab8d",
   "metadata": {
    "execution": {
     "iopub.execute_input": "2025-04-05T18:04:28.312166Z",
     "iopub.status.busy": "2025-04-05T18:04:28.311692Z",
     "iopub.status.idle": "2025-04-05T18:04:28.497779Z",
     "shell.execute_reply": "2025-04-05T18:04:28.497149Z",
     "shell.execute_reply.started": "2025-04-05T18:04:28.312122Z"
    },
    "executionRoleArn": "arn:aws:iam::307946673210:role/EMRServerlessS3Role",
    "tags": []
   },
   "outputs": [
    {
     "data": {
      "application/vnd.jupyter.widget-view+json": {
       "model_id": "552e74d9b71c486dad3cf49f993081a4",
       "version_major": 2,
       "version_minor": 0
      },
      "text/plain": [
       "VBox()"
      ]
     },
     "metadata": {},
     "output_type": "display_data"
    },
    {
     "data": {
      "application/vnd.jupyter.widget-view+json": {
       "model_id": "",
       "version_major": 2,
       "version_minor": 0
      },
      "text/plain": [
       "FloatProgress(value=0.0, bar_style='info', description='Progress:', layout=Layout(height='25px', width='50%'),…"
      ]
     },
     "metadata": {},
     "output_type": "display_data"
    }
   ],
   "source": [
    "# Most Sold Products (top 10)\n",
    "top_products_df = full_orders_df.groupBy('product_id', 'product_category_name')\\\n",
    "    .agg(count('order_id').alias('total_sales'))\\\n",
    "    .orderBy(desc('total_sales'))\\\n",
    "    .limit(10)"
   ]
  },
  {
   "cell_type": "code",
   "execution_count": 45,
   "id": "685d7357-a1c8-48a6-bfee-6026cbd91745",
   "metadata": {
    "execution": {
     "iopub.execute_input": "2025-04-05T18:05:07.723824Z",
     "iopub.status.busy": "2025-04-05T18:05:07.723401Z",
     "iopub.status.idle": "2025-04-05T18:05:13.271339Z",
     "shell.execute_reply": "2025-04-05T18:05:13.270649Z",
     "shell.execute_reply.started": "2025-04-05T18:05:07.723790Z"
    },
    "executionRoleArn": "arn:aws:iam::307946673210:role/EMRServerlessS3Role",
    "tags": []
   },
   "outputs": [
    {
     "data": {
      "application/vnd.jupyter.widget-view+json": {
       "model_id": "78dbf6e039c342428c53cbc9199ae2bd",
       "version_major": 2,
       "version_minor": 0
      },
      "text/plain": [
       "VBox()"
      ]
     },
     "metadata": {},
     "output_type": "display_data"
    },
    {
     "data": {
      "application/vnd.jupyter.widget-view+json": {
       "model_id": "",
       "version_major": 2,
       "version_minor": 0
      },
      "text/plain": [
       "FloatProgress(value=0.0, bar_style='info', description='Progress:', layout=Layout(height='25px', width='50%'),…"
      ]
     },
     "metadata": {},
     "output_type": "display_data"
    },
    {
     "name": "stdout",
     "output_type": "stream",
     "text": [
      "+--------------------+---------------------+-----------+\n",
      "|          product_id|product_category_name|total_sales|\n",
      "+--------------------+---------------------+-----------+\n",
      "|aca2eb7d00ea1a7b8...|     moveis_decoracao|      86740|\n",
      "|422879e10f4668299...|   ferramentas_jardim|      81110|\n",
      "|99a4788cb24856965...|      cama_mesa_banho|      78775|\n",
      "|389d119b48cf3043d...|   ferramentas_jardim|      60248|\n",
      "|d1c427060a0f73f6b...| informatica_acess...|      59274|\n",
      "|368c6c730842d7801...|   ferramentas_jardim|      58358|\n",
      "|53759a2ecddad2bb8...|   ferramentas_jardim|      52654|\n",
      "|53b36df67ebb7c415...|   relogios_presentes|      52105|\n",
      "|154e7e31ebfa09220...|         beleza_saude|      42700|\n",
      "|3dd2a17168ec895c7...| informatica_acess...|      40787|\n",
      "+--------------------+---------------------+-----------+"
     ]
    }
   ],
   "source": [
    "top_products_df.show()"
   ]
  },
  {
   "cell_type": "code",
   "execution_count": 46,
   "id": "97ff494a-f90d-4a2b-b5f2-1f53660551ee",
   "metadata": {
    "execution": {
     "iopub.execute_input": "2025-04-05T18:06:02.692722Z",
     "iopub.status.busy": "2025-04-05T18:06:02.692266Z",
     "iopub.status.idle": "2025-04-05T18:06:02.889231Z",
     "shell.execute_reply": "2025-04-05T18:06:02.888587Z",
     "shell.execute_reply.started": "2025-04-05T18:06:02.692692Z"
    },
    "executionRoleArn": "arn:aws:iam::307946673210:role/EMRServerlessS3Role",
    "tags": []
   },
   "outputs": [
    {
     "data": {
      "application/vnd.jupyter.widget-view+json": {
       "model_id": "e80a79f6fc1a4376a7a4f142d841a529",
       "version_major": 2,
       "version_minor": 0
      },
      "text/plain": [
       "VBox()"
      ]
     },
     "metadata": {},
     "output_type": "display_data"
    },
    {
     "data": {
      "application/vnd.jupyter.widget-view+json": {
       "model_id": "",
       "version_major": 2,
       "version_minor": 0
      },
      "text/plain": [
       "FloatProgress(value=0.0, bar_style='info', description='Progress:', layout=Layout(height='25px', width='50%'),…"
      ]
     },
     "metadata": {},
     "output_type": "display_data"
    }
   ],
   "source": [
    "# Top Spending Customers\n",
    "top_customers_df = full_orders_df.groupBy('customer_id', 'customer_city', 'customer_state')\\\n",
    "    .agg(sum('price').alias('total_spent'))\\\n",
    "    .orderBy(desc('total_spent'))\\\n",
    "    .limit(10)"
   ]
  },
  {
   "cell_type": "code",
   "execution_count": 47,
   "id": "ebebbf33-fda4-4cd9-aaf3-b33f346f36b4",
   "metadata": {
    "execution": {
     "iopub.execute_input": "2025-04-05T18:06:28.229477Z",
     "iopub.status.busy": "2025-04-05T18:06:28.229024Z",
     "iopub.status.idle": "2025-04-05T18:06:34.177086Z",
     "shell.execute_reply": "2025-04-05T18:06:34.176396Z",
     "shell.execute_reply.started": "2025-04-05T18:06:28.229447Z"
    },
    "executionRoleArn": "arn:aws:iam::307946673210:role/EMRServerlessS3Role",
    "tags": []
   },
   "outputs": [
    {
     "data": {
      "application/vnd.jupyter.widget-view+json": {
       "model_id": "dd90b77248f540a8be4990ac7b055dd6",
       "version_major": 2,
       "version_minor": 0
      },
      "text/plain": [
       "VBox()"
      ]
     },
     "metadata": {},
     "output_type": "display_data"
    },
    {
     "data": {
      "application/vnd.jupyter.widget-view+json": {
       "model_id": "",
       "version_major": 2,
       "version_minor": 0
      },
      "text/plain": [
       "FloatProgress(value=0.0, bar_style='info', description='Progress:', layout=Layout(height='25px', width='50%'),…"
      ]
     },
     "metadata": {},
     "output_type": "display_data"
    },
    {
     "name": "stdout",
     "output_type": "stream",
     "text": [
      "+--------------------+--------------+--------------+------------------+\n",
      "|         customer_id| customer_city|customer_state|       total_spent|\n",
      "+--------------------+--------------+--------------+------------------+\n",
      "|d3e82ccec3cb5f956...|       niteroi|            RJ|         6662844.0|\n",
      "|df55c14d1476a9a34...|      araruama|            RJ|         3565657.0|\n",
      "|fe5113a38e3575c04...|       niteroi|            RJ|         3293604.0|\n",
      "|ec5b2ba62e5743423...|    vila velha|            ES|         2556120.0|\n",
      "|63b964e79dee32a35...|       atibaia|            SP|         2501664.0|\n",
      "|46bb3c0b1a65c8399...|   santa maria|            RS|         2336752.0|\n",
      "|05455dfa7cd02f13d...|   divinopolis|            MG| 2160194.400000087|\n",
      "|3690e975641f01bd0...|  porto seguro|            BA|         2124498.0|\n",
      "|349509b216bd5ec11...|      araruama|            RJ|         1923627.0|\n",
      "|695476b5848d64ba0...|rio de janeiro|            RJ|1820543.1299999943|\n",
      "+--------------------+--------------+--------------+------------------+"
     ]
    }
   ],
   "source": [
    "top_customers_df.show()"
   ]
  },
  {
   "cell_type": "code",
   "execution_count": null,
   "id": "da6ca196-ab1e-486f-ba9d-db17de6e605a",
   "metadata": {
    "executionRoleArn": "arn:aws:iam::307946673210:role/EMRServerlessS3Role",
    "tags": []
   },
   "outputs": [],
   "source": []
  },
  {
   "cell_type": "code",
   "execution_count": null,
   "id": "8626ab9d-9144-4461-ae7b-5dbaef13bff8",
   "metadata": {
    "executionRoleArn": "arn:aws:iam::307946673210:role/EMRServerlessS3Role",
    "tags": []
   },
   "outputs": [],
   "source": []
  },
  {
   "cell_type": "markdown",
   "id": "617d16d2-c868-45a1-9451-8468963ba7b7",
   "metadata": {},
   "source": [
    "# Optimized Joins for Data Integration"
   ]
  },
  {
   "cell_type": "code",
   "execution_count": null,
   "id": "e0dbf721-b21d-40bc-b00d-654e2229c87b",
   "metadata": {},
   "outputs": [],
   "source": []
  },
  {
   "cell_type": "code",
   "execution_count": 35,
   "id": "1a60735f-31ad-4ab2-8e69-2de0a83883ee",
   "metadata": {
    "execution": {
     "iopub.execute_input": "2025-04-05T17:56:24.051486Z",
     "iopub.status.busy": "2025-04-05T17:56:24.051052Z",
     "iopub.status.idle": "2025-04-05T17:56:24.218071Z",
     "shell.execute_reply": "2025-04-05T17:56:24.217441Z",
     "shell.execute_reply.started": "2025-04-05T17:56:24.051454Z"
    },
    "executionRoleArn": "arn:aws:iam::307946673210:role/EMRServerlessS3Role",
    "tags": []
   },
   "outputs": [
    {
     "data": {
      "application/vnd.jupyter.widget-view+json": {
       "model_id": "2a00a07d5b4f42a1b59c0864dd0387ec",
       "version_major": 2,
       "version_minor": 0
      },
      "text/plain": [
       "VBox()"
      ]
     },
     "metadata": {},
     "output_type": "display_data"
    },
    {
     "data": {
      "application/vnd.jupyter.widget-view+json": {
       "model_id": "",
       "version_major": 2,
       "version_minor": 0
      },
      "text/plain": [
       "FloatProgress(value=0.0, bar_style='info', description='Progress:', layout=Layout(height='25px', width='50%'),…"
      ]
     },
     "metadata": {},
     "output_type": "display_data"
    }
   ],
   "source": []
  }
 ],
 "metadata": {
  "kernelspec": {
   "display_name": "PySpark",
   "language": "python",
   "name": "spark_magic_pyspark"
  },
  "language_info": {
   "codemirror_mode": {
    "name": "python",
    "version": 3
   },
   "file_extension": ".py",
   "mimetype": "text/x-python",
   "name": "pyspark",
   "pygments_lexer": "python3"
  }
 },
 "nbformat": 4,
 "nbformat_minor": 5
}
