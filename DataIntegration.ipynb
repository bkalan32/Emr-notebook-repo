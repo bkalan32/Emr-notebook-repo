{
 "cells": [
  {
   "cell_type": "code",
   "execution_count": 1,
   "id": "f6cafc43-180a-4a5b-81ae-05b9bc36b8cf",
   "metadata": {
    "execution": {
     "iopub.execute_input": "2025-04-01T00:25:16.591075Z",
     "iopub.status.busy": "2025-04-01T00:25:16.590605Z",
     "iopub.status.idle": "2025-04-01T00:25:32.792138Z",
     "shell.execute_reply": "2025-04-01T00:25:32.791455Z",
     "shell.execute_reply.started": "2025-04-01T00:25:16.591040Z"
    },
    "executionRoleArn": "arn:aws:iam::307946673210:role/EMRServerlessS3Role",
    "tags": []
   },
   "outputs": [
    {
     "data": {
      "application/vnd.jupyter.widget-view+json": {
       "model_id": "846dbb6782aa4408aafec191c7552a49",
       "version_major": 2,
       "version_minor": 0
      },
      "text/plain": [
       "VBox()"
      ]
     },
     "metadata": {},
     "output_type": "display_data"
    },
    {
     "name": "stdout",
     "output_type": "stream",
     "text": [
      "Starting Spark application\n"
     ]
    },
    {
     "data": {
      "text/html": [
       "<table>\n",
       "    <tr><th>ID</th><th>Kind</th><th>State</th><th>Spark UI</th><th>Driver log</th><th>User</th><th>Current session?</th></tr><tr><td>2</td><td>pyspark</td><td>idle</td><td><a target=\"_blank\" href=\"https://spark-live-ui.emr-serverless.amazonaws.com\" class=\"emr-proxy-link\" emr-runtime=\"emr-serverless\" emr-resource=\"00frd9lnfh7ao90a\" application-id=\"00fqrb7u83iumc09\">Link</a></td><td></td><td>None</td><td>✔</td></tr></table>"
      ],
      "text/plain": [
       "<IPython.core.display.HTML object>"
      ]
     },
     "metadata": {},
     "output_type": "display_data"
    },
    {
     "data": {
      "application/vnd.jupyter.widget-view+json": {
       "model_id": "",
       "version_major": 2,
       "version_minor": 0
      },
      "text/plain": [
       "FloatProgress(value=0.0, bar_style='info', description='Progress:', layout=Layout(height='25px', width='50%'),…"
      ]
     },
     "metadata": {},
     "output_type": "display_data"
    },
    {
     "name": "stdout",
     "output_type": "stream",
     "text": [
      "SparkSession available as 'spark'.\n"
     ]
    },
    {
     "data": {
      "application/vnd.jupyter.widget-view+json": {
       "model_id": "",
       "version_major": 2,
       "version_minor": 0
      },
      "text/plain": [
       "FloatProgress(value=0.0, bar_style='info', description='Progress:', layout=Layout(height='25px', width='50%'),…"
      ]
     },
     "metadata": {},
     "output_type": "display_data"
    }
   ],
   "source": [
    "from pyspark.sql import SparkSession\n",
    "\n",
    "spark = SparkSession.builder \\\n",
    ".appName('OlistData') \\\n",
    ".getOrCreate()"
   ]
  },
  {
   "cell_type": "code",
   "execution_count": 2,
   "id": "9c2105a5-760c-4a39-a6a8-cc1554e68b4b",
   "metadata": {
    "execution": {
     "iopub.execute_input": "2025-04-01T00:25:44.698074Z",
     "iopub.status.busy": "2025-04-01T00:25:44.697636Z",
     "iopub.status.idle": "2025-04-01T00:25:46.512819Z",
     "shell.execute_reply": "2025-04-01T00:25:46.512090Z",
     "shell.execute_reply.started": "2025-04-01T00:25:44.698041Z"
    },
    "executionRoleArn": "arn:aws:iam::307946673210:role/EMRServerlessS3Role",
    "tags": []
   },
   "outputs": [
    {
     "data": {
      "application/vnd.jupyter.widget-view+json": {
       "model_id": "39b7f0218e0249b2ba4f76ec53a66c05",
       "version_major": 2,
       "version_minor": 0
      },
      "text/plain": [
       "VBox()"
      ]
     },
     "metadata": {},
     "output_type": "display_data"
    },
    {
     "data": {
      "application/vnd.jupyter.widget-view+json": {
       "model_id": "",
       "version_major": 2,
       "version_minor": 0
      },
      "text/plain": [
       "FloatProgress(value=0.0, bar_style='info', description='Progress:', layout=Layout(height='25px', width='50%'),…"
      ]
     },
     "metadata": {},
     "output_type": "display_data"
    }
   ],
   "source": [
    "hdfs_path = 's3://kalan-emr-tutorial/input/hadoop/'"
   ]
  },
  {
   "cell_type": "code",
   "execution_count": 3,
   "id": "a85bfc29-3c51-4950-9d60-f0adc68db853",
   "metadata": {
    "execution": {
     "iopub.execute_input": "2025-04-01T00:25:47.096193Z",
     "iopub.status.busy": "2025-04-01T00:25:47.095737Z",
     "iopub.status.idle": "2025-04-01T00:26:08.835630Z",
     "shell.execute_reply": "2025-04-01T00:26:08.834898Z",
     "shell.execute_reply.started": "2025-04-01T00:25:47.096157Z"
    },
    "executionRoleArn": "arn:aws:iam::307946673210:role/EMRServerlessS3Role",
    "tags": []
   },
   "outputs": [
    {
     "data": {
      "application/vnd.jupyter.widget-view+json": {
       "model_id": "3db78df133d34d6fae1131db07e4ceda",
       "version_major": 2,
       "version_minor": 0
      },
      "text/plain": [
       "VBox()"
      ]
     },
     "metadata": {},
     "output_type": "display_data"
    },
    {
     "data": {
      "application/vnd.jupyter.widget-view+json": {
       "model_id": "",
       "version_major": 2,
       "version_minor": 0
      },
      "text/plain": [
       "FloatProgress(value=0.0, bar_style='info', description='Progress:', layout=Layout(height='25px', width='50%'),…"
      ]
     },
     "metadata": {},
     "output_type": "display_data"
    }
   ],
   "source": [
    "customers_df = spark.read.csv(hdfs_path + 'olist_customers_dataset.csv',header=True,inferSchema=True)\n",
    "orders_df = spark.read.csv(hdfs_path + 'olist_orders_dataset.csv',header=True,inferSchema=True)\n",
    "order_item_df = spark.read.csv(hdfs_path + 'olist_order_items_dataset.csv',header=True,inferSchema=True)\n",
    "payments_df = spark.read.csv(hdfs_path + 'olist_order_payments_dataset.csv',header=True,inferSchema=True)\n",
    "reviews_df = spark.read.csv(hdfs_path + 'olist_order_reviews_dataset.csv',header=True,inferSchema=True)\n",
    "products_df = spark.read.csv(hdfs_path + 'olist_products_dataset.csv',header=True,inferSchema=True)\n",
    "sellers_df = spark.read.csv(hdfs_path + 'olist_sellers_dataset.csv',header=True,inferSchema=True)\n",
    "geolocation_df = spark.read.csv(hdfs_path + 'olist_geolocation_dataset.csv',header=True,inferSchema=True)\n",
    "category_translation_df = spark.read.csv(hdfs_path + 'product_category_name_translation.csv',header=True,inferSchema=True)"
   ]
  },
  {
   "cell_type": "code",
   "execution_count": 4,
   "id": "66eb3e51-731b-4839-95df-f7f2502b612c",
   "metadata": {
    "execution": {
     "iopub.execute_input": "2025-04-01T00:26:08.837354Z",
     "iopub.status.busy": "2025-04-01T00:26:08.837007Z",
     "iopub.status.idle": "2025-04-01T00:26:09.227965Z",
     "shell.execute_reply": "2025-04-01T00:26:09.227295Z",
     "shell.execute_reply.started": "2025-04-01T00:26:08.837318Z"
    },
    "executionRoleArn": "arn:aws:iam::307946673210:role/EMRServerlessS3Role",
    "tags": []
   },
   "outputs": [
    {
     "data": {
      "application/vnd.jupyter.widget-view+json": {
       "model_id": "89f343fdb29c40f88d2c39bbdcaac42b",
       "version_major": 2,
       "version_minor": 0
      },
      "text/plain": [
       "VBox()"
      ]
     },
     "metadata": {},
     "output_type": "display_data"
    },
    {
     "data": {
      "application/vnd.jupyter.widget-view+json": {
       "model_id": "",
       "version_major": 2,
       "version_minor": 0
      },
      "text/plain": [
       "FloatProgress(value=0.0, bar_style='info', description='Progress:', layout=Layout(height='25px', width='50%'),…"
      ]
     },
     "metadata": {},
     "output_type": "display_data"
    },
    {
     "name": "stdout",
     "output_type": "stream",
     "text": [
      "DataFrame[order_id: string, order_item_id: int, product_id: string, seller_id: string, shipping_limit_date: timestamp, price: double, freight_value: double]"
     ]
    }
   ],
   "source": [
    "# Caching Frequently Used Data for better performance\n",
    "\n",
    "orders_df.cache()\n",
    "customers_df.cache()\n",
    "order_item_df.cache()"
   ]
  },
  {
   "cell_type": "markdown",
   "id": "557dc022-c05d-42bf-8a82-ddbdea3fda15",
   "metadata": {},
   "source": [
    "# Optimized Joins"
   ]
  },
  {
   "cell_type": "code",
   "execution_count": 5,
   "id": "97ff4435-8de2-472b-9c31-369f55312e68",
   "metadata": {
    "execution": {
     "iopub.execute_input": "2025-04-01T00:26:09.229307Z",
     "iopub.status.busy": "2025-04-01T00:26:09.228991Z",
     "iopub.status.idle": "2025-04-01T00:26:09.365280Z",
     "shell.execute_reply": "2025-04-01T00:26:09.364626Z",
     "shell.execute_reply.started": "2025-04-01T00:26:09.229280Z"
    },
    "executionRoleArn": "arn:aws:iam::307946673210:role/EMRServerlessS3Role",
    "tags": []
   },
   "outputs": [
    {
     "data": {
      "application/vnd.jupyter.widget-view+json": {
       "model_id": "82a9e169215240fdbb9e5bf10153feed",
       "version_major": 2,
       "version_minor": 0
      },
      "text/plain": [
       "VBox()"
      ]
     },
     "metadata": {},
     "output_type": "display_data"
    },
    {
     "data": {
      "application/vnd.jupyter.widget-view+json": {
       "model_id": "",
       "version_major": 2,
       "version_minor": 0
      },
      "text/plain": [
       "FloatProgress(value=0.0, bar_style='info', description='Progress:', layout=Layout(height='25px', width='50%'),…"
      ]
     },
     "metadata": {},
     "output_type": "display_data"
    }
   ],
   "source": [
    "from pyspark.sql.functions import *"
   ]
  },
  {
   "cell_type": "code",
   "execution_count": 6,
   "id": "33e71d3c-ffe5-4a98-b0d8-e0bd9b3f8700",
   "metadata": {
    "execution": {
     "iopub.execute_input": "2025-04-01T00:26:09.366576Z",
     "iopub.status.busy": "2025-04-01T00:26:09.366264Z",
     "iopub.status.idle": "2025-04-01T00:26:09.497498Z",
     "shell.execute_reply": "2025-04-01T00:26:09.496746Z",
     "shell.execute_reply.started": "2025-04-01T00:26:09.366549Z"
    },
    "executionRoleArn": "arn:aws:iam::307946673210:role/EMRServerlessS3Role",
    "tags": []
   },
   "outputs": [
    {
     "data": {
      "application/vnd.jupyter.widget-view+json": {
       "model_id": "4acebf25e6624701b5568a800cbd489f",
       "version_major": 2,
       "version_minor": 0
      },
      "text/plain": [
       "VBox()"
      ]
     },
     "metadata": {},
     "output_type": "display_data"
    },
    {
     "data": {
      "application/vnd.jupyter.widget-view+json": {
       "model_id": "",
       "version_major": 2,
       "version_minor": 0
      },
      "text/plain": [
       "FloatProgress(value=0.0, bar_style='info', description='Progress:', layout=Layout(height='25px', width='50%'),…"
      ]
     },
     "metadata": {},
     "output_type": "display_data"
    }
   ],
   "source": [
    "orders_item_joined_df = orders_df.join(order_item_df, 'order_id','inner')"
   ]
  },
  {
   "cell_type": "code",
   "execution_count": 7,
   "id": "7d0f35e6-934b-4d64-97aa-d99a179a6b54",
   "metadata": {
    "execution": {
     "iopub.execute_input": "2025-04-01T00:26:09.498874Z",
     "iopub.status.busy": "2025-04-01T00:26:09.498550Z",
     "iopub.status.idle": "2025-04-01T00:26:09.641175Z",
     "shell.execute_reply": "2025-04-01T00:26:09.640503Z",
     "shell.execute_reply.started": "2025-04-01T00:26:09.498849Z"
    },
    "executionRoleArn": "arn:aws:iam::307946673210:role/EMRServerlessS3Role",
    "tags": []
   },
   "outputs": [
    {
     "data": {
      "application/vnd.jupyter.widget-view+json": {
       "model_id": "a6be1efe04684a8886ea264b1f3ac1fa",
       "version_major": 2,
       "version_minor": 0
      },
      "text/plain": [
       "VBox()"
      ]
     },
     "metadata": {},
     "output_type": "display_data"
    },
    {
     "data": {
      "application/vnd.jupyter.widget-view+json": {
       "model_id": "",
       "version_major": 2,
       "version_minor": 0
      },
      "text/plain": [
       "FloatProgress(value=0.0, bar_style='info', description='Progress:', layout=Layout(height='25px', width='50%'),…"
      ]
     },
     "metadata": {},
     "output_type": "display_data"
    }
   ],
   "source": [
    "orders_items_products_df = orders_item_joined_df.join(products_df,'product_id','inner')"
   ]
  },
  {
   "cell_type": "code",
   "execution_count": 8,
   "id": "41a04b9e-409e-49fd-9cf8-c175b61cc0c0",
   "metadata": {
    "execution": {
     "iopub.execute_input": "2025-04-01T00:26:09.642453Z",
     "iopub.status.busy": "2025-04-01T00:26:09.642163Z",
     "iopub.status.idle": "2025-04-01T00:26:10.024973Z",
     "shell.execute_reply": "2025-04-01T00:26:10.024297Z",
     "shell.execute_reply.started": "2025-04-01T00:26:09.642428Z"
    },
    "executionRoleArn": "arn:aws:iam::307946673210:role/EMRServerlessS3Role",
    "tags": []
   },
   "outputs": [
    {
     "data": {
      "application/vnd.jupyter.widget-view+json": {
       "model_id": "69b9509553214fa9b576080e6798e6e2",
       "version_major": 2,
       "version_minor": 0
      },
      "text/plain": [
       "VBox()"
      ]
     },
     "metadata": {},
     "output_type": "display_data"
    },
    {
     "data": {
      "application/vnd.jupyter.widget-view+json": {
       "model_id": "",
       "version_major": 2,
       "version_minor": 0
      },
      "text/plain": [
       "FloatProgress(value=0.0, bar_style='info', description='Progress:', layout=Layout(height='25px', width='50%'),…"
      ]
     },
     "metadata": {},
     "output_type": "display_data"
    }
   ],
   "source": [
    "orders_items_products_sellers_df = orders_items_products_df.join(broadcast(sellers_df),'seller_id','inner')"
   ]
  },
  {
   "cell_type": "code",
   "execution_count": 9,
   "id": "97be8994-839b-41e4-8e7e-cb778e6b9206",
   "metadata": {
    "execution": {
     "iopub.execute_input": "2025-04-01T00:26:10.026345Z",
     "iopub.status.busy": "2025-04-01T00:26:10.026026Z",
     "iopub.status.idle": "2025-04-01T00:26:10.156663Z",
     "shell.execute_reply": "2025-04-01T00:26:10.156010Z",
     "shell.execute_reply.started": "2025-04-01T00:26:10.026319Z"
    },
    "executionRoleArn": "arn:aws:iam::307946673210:role/EMRServerlessS3Role",
    "tags": []
   },
   "outputs": [
    {
     "data": {
      "application/vnd.jupyter.widget-view+json": {
       "model_id": "33805da0f3ca4c3fa9cae188330b190e",
       "version_major": 2,
       "version_minor": 0
      },
      "text/plain": [
       "VBox()"
      ]
     },
     "metadata": {},
     "output_type": "display_data"
    },
    {
     "data": {
      "application/vnd.jupyter.widget-view+json": {
       "model_id": "",
       "version_major": 2,
       "version_minor": 0
      },
      "text/plain": [
       "FloatProgress(value=0.0, bar_style='info', description='Progress:', layout=Layout(height='25px', width='50%'),…"
      ]
     },
     "metadata": {},
     "output_type": "display_data"
    }
   ],
   "source": [
    "full_orders_df = orders_items_products_sellers_df.join(customers_df,'customer_id','inner')"
   ]
  },
  {
   "cell_type": "code",
   "execution_count": 10,
   "id": "791c795d-acaf-4cdc-abb1-1a267d5a8d88",
   "metadata": {
    "execution": {
     "iopub.execute_input": "2025-04-01T00:26:10.157947Z",
     "iopub.status.busy": "2025-04-01T00:26:10.157637Z",
     "iopub.status.idle": "2025-04-01T00:26:10.513122Z",
     "shell.execute_reply": "2025-04-01T00:26:10.512452Z",
     "shell.execute_reply.started": "2025-04-01T00:26:10.157920Z"
    },
    "executionRoleArn": "arn:aws:iam::307946673210:role/EMRServerlessS3Role",
    "tags": []
   },
   "outputs": [
    {
     "data": {
      "application/vnd.jupyter.widget-view+json": {
       "model_id": "3911d4ba50854353b5e9d3c7f37bc376",
       "version_major": 2,
       "version_minor": 0
      },
      "text/plain": [
       "VBox()"
      ]
     },
     "metadata": {},
     "output_type": "display_data"
    },
    {
     "data": {
      "application/vnd.jupyter.widget-view+json": {
       "model_id": "",
       "version_major": 2,
       "version_minor": 0
      },
      "text/plain": [
       "FloatProgress(value=0.0, bar_style='info', description='Progress:', layout=Layout(height='25px', width='50%'),…"
      ]
     },
     "metadata": {},
     "output_type": "display_data"
    }
   ],
   "source": [
    "# Geolocation Data\n",
    "\n",
    "full_orders_df = full_orders_df.join(broadcast(geolocation_df), full_orders_df.customer_zip_code_prefix == geolocation_df.geolocation_zip_code_prefix, 'left')"
   ]
  },
  {
   "cell_type": "code",
   "execution_count": 11,
   "id": "4bf0865d-d5fd-4065-a196-f1caa88cac92",
   "metadata": {
    "execution": {
     "iopub.execute_input": "2025-04-01T00:26:10.514444Z",
     "iopub.status.busy": "2025-04-01T00:26:10.514135Z",
     "iopub.status.idle": "2025-04-01T00:26:20.048097Z",
     "shell.execute_reply": "2025-04-01T00:26:20.047395Z",
     "shell.execute_reply.started": "2025-04-01T00:26:10.514418Z"
    },
    "executionRoleArn": "arn:aws:iam::307946673210:role/EMRServerlessS3Role",
    "tags": []
   },
   "outputs": [
    {
     "data": {
      "application/vnd.jupyter.widget-view+json": {
       "model_id": "2c57b42b53494f67bdd19b8890880df7",
       "version_major": 2,
       "version_minor": 0
      },
      "text/plain": [
       "VBox()"
      ]
     },
     "metadata": {},
     "output_type": "display_data"
    },
    {
     "data": {
      "application/vnd.jupyter.widget-view+json": {
       "model_id": "",
       "version_major": 2,
       "version_minor": 0
      },
      "text/plain": [
       "FloatProgress(value=0.0, bar_style='info', description='Progress:', layout=Layout(height='25px', width='50%'),…"
      ]
     },
     "metadata": {},
     "output_type": "display_data"
    },
    {
     "name": "stdout",
     "output_type": "stream",
     "text": [
      "+--------------------+--------------------+--------------------+--------------------+------------+------------------------+-------------------+----------------------------+-----------------------------+-----------------------------+-------------+-------------------+-----+-------------+---------------------+-------------------+--------------------------+------------------+----------------+-----------------+-----------------+----------------+----------------------+-----------+------------+--------------------+------------------------+-------------+--------------+---------------------------+-------------------+------------------+----------------+-----------------+\n",
      "|         customer_id|           seller_id|          product_id|            order_id|order_status|order_purchase_timestamp|  order_approved_at|order_delivered_carrier_date|order_delivered_customer_date|order_estimated_delivery_date|order_item_id|shipping_limit_date|price|freight_value|product_category_name|product_name_lenght|product_description_lenght|product_photos_qty|product_weight_g|product_length_cm|product_height_cm|product_width_cm|seller_zip_code_prefix|seller_city|seller_state|  customer_unique_id|customer_zip_code_prefix|customer_city|customer_state|geolocation_zip_code_prefix|    geolocation_lat|   geolocation_lng|geolocation_city|geolocation_state|\n",
      "+--------------------+--------------------+--------------------+--------------------+------------+------------------------+-------------------+----------------------------+-----------------------------+-----------------------------+-------------+-------------------+-----+-------------+---------------------+-------------------+--------------------------+------------------+----------------+-----------------+-----------------+----------------+----------------------+-----------+------------+--------------------+------------------------+-------------+--------------+---------------------------+-------------------+------------------+----------------+-----------------+\n",
      "|8cf88d7ba142365ef...|1b4c3a6f53068f0b6...|e9a69340883a438c3...|019886de8f385a39b...|   delivered|     2018-02-10 12:52:51|2018-02-10 13:08:12|         2018-02-14 15:28:51|          2018-02-23 02:03:03|          2018-03-14 00:00:00|            1|2018-02-15 13:08:12|159.9|         28.5| utilidades_domest...|                 60|                      1912|                 5|            3000|               33|               12|              34|                 88730|sao ludgero|          SC|d29ede26cd3e2817b...|                   79092| campo grande|            MS|                      79092| -20.50714578700977|-54.66044510850447|    campo grande|               MS|\n",
      "|8cf88d7ba142365ef...|1b4c3a6f53068f0b6...|e9a69340883a438c3...|019886de8f385a39b...|   delivered|     2018-02-10 12:52:51|2018-02-10 13:08:12|         2018-02-14 15:28:51|          2018-02-23 02:03:03|          2018-03-14 00:00:00|            1|2018-02-15 13:08:12|159.9|         28.5| utilidades_domest...|                 60|                      1912|                 5|            3000|               33|               12|              34|                 88730|sao ludgero|          SC|d29ede26cd3e2817b...|                   79092| campo grande|            MS|                      79092|  -20.4914044773503|-54.64947052553522|    campo grande|               MS|\n",
      "|8cf88d7ba142365ef...|1b4c3a6f53068f0b6...|e9a69340883a438c3...|019886de8f385a39b...|   delivered|     2018-02-10 12:52:51|2018-02-10 13:08:12|         2018-02-14 15:28:51|          2018-02-23 02:03:03|          2018-03-14 00:00:00|            1|2018-02-15 13:08:12|159.9|         28.5| utilidades_domest...|                 60|                      1912|                 5|            3000|               33|               12|              34|                 88730|sao ludgero|          SC|d29ede26cd3e2817b...|                   79092| campo grande|            MS|                      79092| -20.49625398695826|-54.66057625921871|    campo grande|               MS|\n",
      "|8cf88d7ba142365ef...|1b4c3a6f53068f0b6...|e9a69340883a438c3...|019886de8f385a39b...|   delivered|     2018-02-10 12:52:51|2018-02-10 13:08:12|         2018-02-14 15:28:51|          2018-02-23 02:03:03|          2018-03-14 00:00:00|            1|2018-02-15 13:08:12|159.9|         28.5| utilidades_domest...|                 60|                      1912|                 5|            3000|               33|               12|              34|                 88730|sao ludgero|          SC|d29ede26cd3e2817b...|                   79092| campo grande|            MS|                      79092|-20.501824711824497|-54.65446701206363|    campo grande|               MS|\n",
      "|8cf88d7ba142365ef...|1b4c3a6f53068f0b6...|e9a69340883a438c3...|019886de8f385a39b...|   delivered|     2018-02-10 12:52:51|2018-02-10 13:08:12|         2018-02-14 15:28:51|          2018-02-23 02:03:03|          2018-03-14 00:00:00|            1|2018-02-15 13:08:12|159.9|         28.5| utilidades_domest...|                 60|                      1912|                 5|            3000|               33|               12|              34|                 88730|sao ludgero|          SC|d29ede26cd3e2817b...|                   79092| campo grande|            MS|                      79092| -20.49968970275258|-54.66102513875596|    campo grande|               MS|\n",
      "+--------------------+--------------------+--------------------+--------------------+------------+------------------------+-------------------+----------------------------+-----------------------------+-----------------------------+-------------+-------------------+-----+-------------+---------------------+-------------------+--------------------------+------------------+----------------+-----------------+-----------------+----------------+----------------------+-----------+------------+--------------------+------------------------+-------------+--------------+---------------------------+-------------------+------------------+----------------+-----------------+\n",
      "only showing top 5 rows"
     ]
    }
   ],
   "source": [
    "full_orders_df.show(5)"
   ]
  },
  {
   "cell_type": "code",
   "execution_count": 12,
   "id": "f01e1dd4-d8d9-40c5-a351-49688dabd87f",
   "metadata": {
    "execution": {
     "iopub.execute_input": "2025-04-01T00:26:20.049431Z",
     "iopub.status.busy": "2025-04-01T00:26:20.049111Z",
     "iopub.status.idle": "2025-04-01T00:26:20.181431Z",
     "shell.execute_reply": "2025-04-01T00:26:20.180769Z",
     "shell.execute_reply.started": "2025-04-01T00:26:20.049404Z"
    },
    "executionRoleArn": "arn:aws:iam::307946673210:role/EMRServerlessS3Role",
    "tags": []
   },
   "outputs": [
    {
     "data": {
      "application/vnd.jupyter.widget-view+json": {
       "model_id": "ee81cdf29fe94dc884a56093b077cd74",
       "version_major": 2,
       "version_minor": 0
      },
      "text/plain": [
       "VBox()"
      ]
     },
     "metadata": {},
     "output_type": "display_data"
    },
    {
     "data": {
      "application/vnd.jupyter.widget-view+json": {
       "model_id": "",
       "version_major": 2,
       "version_minor": 0
      },
      "text/plain": [
       "FloatProgress(value=0.0, bar_style='info', description='Progress:', layout=Layout(height='25px', width='50%'),…"
      ]
     },
     "metadata": {},
     "output_type": "display_data"
    }
   ],
   "source": [
    "full_orders_df = full_orders_df.join(broadcast(reviews_df),'order_id','left')"
   ]
  },
  {
   "cell_type": "code",
   "execution_count": 13,
   "id": "60c3f78a-95c4-458e-a5f6-ef3ed3bc8b31",
   "metadata": {
    "execution": {
     "iopub.execute_input": "2025-04-01T00:26:20.182708Z",
     "iopub.status.busy": "2025-04-01T00:26:20.182409Z",
     "iopub.status.idle": "2025-04-01T00:26:20.319709Z",
     "shell.execute_reply": "2025-04-01T00:26:20.318908Z",
     "shell.execute_reply.started": "2025-04-01T00:26:20.182680Z"
    },
    "executionRoleArn": "arn:aws:iam::307946673210:role/EMRServerlessS3Role",
    "tags": []
   },
   "outputs": [
    {
     "data": {
      "application/vnd.jupyter.widget-view+json": {
       "model_id": "fa7f4059f43d491483306ba54314d0c2",
       "version_major": 2,
       "version_minor": 0
      },
      "text/plain": [
       "VBox()"
      ]
     },
     "metadata": {},
     "output_type": "display_data"
    },
    {
     "data": {
      "application/vnd.jupyter.widget-view+json": {
       "model_id": "",
       "version_major": 2,
       "version_minor": 0
      },
      "text/plain": [
       "FloatProgress(value=0.0, bar_style='info', description='Progress:', layout=Layout(height='25px', width='50%'),…"
      ]
     },
     "metadata": {},
     "output_type": "display_data"
    }
   ],
   "source": [
    "full_orders_df = full_orders_df.join(payments_df, 'order_id', 'left')"
   ]
  },
  {
   "cell_type": "code",
   "execution_count": 14,
   "id": "20e755e9-d648-46eb-ae8a-ad51ff334773",
   "metadata": {
    "execution": {
     "iopub.execute_input": "2025-04-01T00:26:20.321330Z",
     "iopub.status.busy": "2025-04-01T00:26:20.320815Z",
     "iopub.status.idle": "2025-04-01T00:26:20.671819Z",
     "shell.execute_reply": "2025-04-01T00:26:20.671118Z",
     "shell.execute_reply.started": "2025-04-01T00:26:20.321305Z"
    },
    "executionRoleArn": "arn:aws:iam::307946673210:role/EMRServerlessS3Role",
    "tags": []
   },
   "outputs": [
    {
     "data": {
      "application/vnd.jupyter.widget-view+json": {
       "model_id": "b6d9738571cb4044830a2c81562cfb05",
       "version_major": 2,
       "version_minor": 0
      },
      "text/plain": [
       "VBox()"
      ]
     },
     "metadata": {},
     "output_type": "display_data"
    },
    {
     "data": {
      "application/vnd.jupyter.widget-view+json": {
       "model_id": "",
       "version_major": 2,
       "version_minor": 0
      },
      "text/plain": [
       "FloatProgress(value=0.0, bar_style='info', description='Progress:', layout=Layout(height='25px', width='50%'),…"
      ]
     },
     "metadata": {},
     "output_type": "display_data"
    },
    {
     "name": "stdout",
     "output_type": "stream",
     "text": [
      "DataFrame[order_id: string, customer_id: string, seller_id: string, product_id: string, order_status: string, order_purchase_timestamp: timestamp, order_approved_at: timestamp, order_delivered_carrier_date: timestamp, order_delivered_customer_date: timestamp, order_estimated_delivery_date: timestamp, order_item_id: int, shipping_limit_date: timestamp, price: double, freight_value: double, product_category_name: string, product_name_lenght: int, product_description_lenght: int, product_photos_qty: int, product_weight_g: int, product_length_cm: int, product_height_cm: int, product_width_cm: int, seller_zip_code_prefix: int, seller_city: string, seller_state: string, customer_unique_id: string, customer_zip_code_prefix: int, customer_city: string, customer_state: string, geolocation_zip_code_prefix: int, geolocation_lat: double, geolocation_lng: double, geolocation_city: string, geolocation_state: string, review_id: string, review_score: string, review_comment_title: string, review_comment_message: string, review_creation_date: string, review_answer_timestamp: string, payment_sequential: int, payment_type: string, payment_installments: int, payment_value: double]"
     ]
    }
   ],
   "source": [
    "full_orders_df.cache()"
   ]
  },
  {
   "cell_type": "code",
   "execution_count": 15,
   "id": "a403d2c8-6474-407c-a899-e1ecc30e410d",
   "metadata": {
    "execution": {
     "iopub.execute_input": "2025-04-01T00:26:20.673219Z",
     "iopub.status.busy": "2025-04-01T00:26:20.672921Z",
     "iopub.status.idle": "2025-04-01T00:26:21.026806Z",
     "shell.execute_reply": "2025-04-01T00:26:21.026103Z",
     "shell.execute_reply.started": "2025-04-01T00:26:20.673192Z"
    },
    "executionRoleArn": "arn:aws:iam::307946673210:role/EMRServerlessS3Role",
    "tags": []
   },
   "outputs": [
    {
     "data": {
      "application/vnd.jupyter.widget-view+json": {
       "model_id": "27fc1782ba374a3db020d59b326b3ed2",
       "version_major": 2,
       "version_minor": 0
      },
      "text/plain": [
       "VBox()"
      ]
     },
     "metadata": {},
     "output_type": "display_data"
    },
    {
     "data": {
      "application/vnd.jupyter.widget-view+json": {
       "model_id": "",
       "version_major": 2,
       "version_minor": 0
      },
      "text/plain": [
       "FloatProgress(value=0.0, bar_style='info', description='Progress:', layout=Layout(height='25px', width='50%'),…"
      ]
     },
     "metadata": {},
     "output_type": "display_data"
    }
   ],
   "source": [
    "# Total Revenues Per Seller\n",
    "\n",
    "seller_revenue_df = full_orders_df.groupBy('seller_id').agg({'price': 'sum'}).withColumnRenamed('sum(price)', 'total_revenue')"
   ]
  },
  {
   "cell_type": "code",
   "execution_count": 16,
   "id": "d88cdd11-71d7-4f25-9a71-198656d5fe6b",
   "metadata": {
    "execution": {
     "iopub.execute_input": "2025-04-01T00:26:21.028112Z",
     "iopub.status.busy": "2025-04-01T00:26:21.027788Z",
     "iopub.status.idle": "2025-04-01T00:27:00.954370Z",
     "shell.execute_reply": "2025-04-01T00:27:00.953624Z",
     "shell.execute_reply.started": "2025-04-01T00:26:21.028085Z"
    },
    "executionRoleArn": "arn:aws:iam::307946673210:role/EMRServerlessS3Role",
    "tags": []
   },
   "outputs": [
    {
     "data": {
      "application/vnd.jupyter.widget-view+json": {
       "model_id": "cc7e83cb22b744f3b62cd5c447fcd0fd",
       "version_major": 2,
       "version_minor": 0
      },
      "text/plain": [
       "VBox()"
      ]
     },
     "metadata": {},
     "output_type": "display_data"
    },
    {
     "data": {
      "application/vnd.jupyter.widget-view+json": {
       "model_id": "",
       "version_major": 2,
       "version_minor": 0
      },
      "text/plain": [
       "FloatProgress(value=0.0, bar_style='info', description='Progress:', layout=Layout(height='25px', width='50%'),…"
      ]
     },
     "metadata": {},
     "output_type": "display_data"
    },
    {
     "name": "stdout",
     "output_type": "stream",
     "text": [
      "+--------------------+-------------------+\n",
      "|           seller_id|      total_revenue|\n",
      "+--------------------+-------------------+\n",
      "|8e6cc767478edae94...| 1145757.4000000008|\n",
      "|cb5ff1b9715e99589...|            13235.0|\n",
      "|acadd4d36859671cb...|           262034.0|\n",
      "|b76dba6c951ab00dc...| 302582.65999999875|\n",
      "|7a67c85e85bb2ce85...|2.031279488999999E7|\n",
      "+--------------------+-------------------+\n",
      "only showing top 5 rows"
     ]
    }
   ],
   "source": [
    "seller_revenue_df.show(5)"
   ]
  },
  {
   "cell_type": "code",
   "execution_count": 17,
   "id": "fa55e3fc-1038-4b2b-b1c7-45c98b02b258",
   "metadata": {
    "execution": {
     "iopub.execute_input": "2025-04-01T00:27:00.955779Z",
     "iopub.status.busy": "2025-04-01T00:27:00.955457Z",
     "iopub.status.idle": "2025-04-01T00:27:06.457257Z",
     "shell.execute_reply": "2025-04-01T00:27:06.456590Z",
     "shell.execute_reply.started": "2025-04-01T00:27:00.955750Z"
    },
    "executionRoleArn": "arn:aws:iam::307946673210:role/EMRServerlessS3Role",
    "tags": []
   },
   "outputs": [
    {
     "data": {
      "application/vnd.jupyter.widget-view+json": {
       "model_id": "78b246b442694ee389c226d8141bd89f",
       "version_major": 2,
       "version_minor": 0
      },
      "text/plain": [
       "VBox()"
      ]
     },
     "metadata": {},
     "output_type": "display_data"
    },
    {
     "data": {
      "application/vnd.jupyter.widget-view+json": {
       "model_id": "",
       "version_major": 2,
       "version_minor": 0
      },
      "text/plain": [
       "FloatProgress(value=0.0, bar_style='info', description='Progress:', layout=Layout(height='25px', width='50%'),…"
      ]
     },
     "metadata": {},
     "output_type": "display_data"
    },
    {
     "name": "stdout",
     "output_type": "stream",
     "text": [
      "+--------------------+------------+\n",
      "|         customer_id|total_orders|\n",
      "+--------------------+------------+\n",
      "|351e40989da90e704...|       11427|\n",
      "|50920f8cd0681fd86...|       10752|\n",
      "|9b43e2a62de9bab3a...|        8556|\n",
      "|270c23a11d024a44c...|        8001|\n",
      "|5c87184371002d49e...|        6876|\n",
      "+--------------------+------------+\n",
      "only showing top 5 rows"
     ]
    }
   ],
   "source": [
    "# Total Orders Per customer\n",
    "customer_order_count_df = full_orders_df.groupBy('customer_id')\\\n",
    ".agg(count('order_id').alias('total_orders'))\\\n",
    ".orderBy(desc('total_orders'))\n",
    "\n",
    "customer_order_count_df.show(5)"
   ]
  },
  {
   "cell_type": "code",
   "execution_count": 18,
   "id": "1a0cd72f-94dd-45dd-a55d-b7aae508a679",
   "metadata": {
    "execution": {
     "iopub.execute_input": "2025-04-01T00:27:06.458576Z",
     "iopub.status.busy": "2025-04-01T00:27:06.458253Z",
     "iopub.status.idle": "2025-04-01T00:27:11.979581Z",
     "shell.execute_reply": "2025-04-01T00:27:11.978903Z",
     "shell.execute_reply.started": "2025-04-01T00:27:06.458549Z"
    },
    "executionRoleArn": "arn:aws:iam::307946673210:role/EMRServerlessS3Role",
    "tags": []
   },
   "outputs": [
    {
     "data": {
      "application/vnd.jupyter.widget-view+json": {
       "model_id": "4e8fda39fb6a486787c9e0fb9c4e9b85",
       "version_major": 2,
       "version_minor": 0
      },
      "text/plain": [
       "VBox()"
      ]
     },
     "metadata": {},
     "output_type": "display_data"
    },
    {
     "data": {
      "application/vnd.jupyter.widget-view+json": {
       "model_id": "",
       "version_major": 2,
       "version_minor": 0
      },
      "text/plain": [
       "FloatProgress(value=0.0, bar_style='info', description='Progress:', layout=Layout(height='25px', width='50%'),…"
      ]
     },
     "metadata": {},
     "output_type": "display_data"
    },
    {
     "name": "stdout",
     "output_type": "stream",
     "text": [
      "+--------------------+----------------+\n",
      "|           seller_id|avg_review_score|\n",
      "+--------------------+----------------+\n",
      "|9c1c0c36cd23c2089...|             5.0|\n",
      "|05ca864204d09595a...|             5.0|\n",
      "|dcb7367a92f5ffb89...|             5.0|\n",
      "|e9874ae10b2d60d43...|             5.0|\n",
      "|7ab0dd5487bab2dc8...|             5.0|\n",
      "+--------------------+----------------+\n",
      "only showing top 5 rows"
     ]
    }
   ],
   "source": [
    "# Average Review Score Per Seller\n",
    "\n",
    "seller_review_df = full_orders_df.groupBy('seller_id')\\\n",
    ".agg(avg('review_score').alias('avg_review_score'))\\\n",
    ".orderBy(desc('avg_review_score'))\n",
    "\n",
    "seller_review_df.show(5)"
   ]
  },
  {
   "cell_type": "code",
   "execution_count": 19,
   "id": "48eabc23-952f-4c61-bd43-54d1d01606ec",
   "metadata": {
    "execution": {
     "iopub.execute_input": "2025-04-01T00:27:11.980882Z",
     "iopub.status.busy": "2025-04-01T00:27:11.980586Z",
     "iopub.status.idle": "2025-04-01T00:27:15.484769Z",
     "shell.execute_reply": "2025-04-01T00:27:15.484094Z",
     "shell.execute_reply.started": "2025-04-01T00:27:11.980855Z"
    },
    "executionRoleArn": "arn:aws:iam::307946673210:role/EMRServerlessS3Role",
    "tags": []
   },
   "outputs": [
    {
     "data": {
      "application/vnd.jupyter.widget-view+json": {
       "model_id": "a8c996e4036841b188e9d5aab954e395",
       "version_major": 2,
       "version_minor": 0
      },
      "text/plain": [
       "VBox()"
      ]
     },
     "metadata": {},
     "output_type": "display_data"
    },
    {
     "data": {
      "application/vnd.jupyter.widget-view+json": {
       "model_id": "",
       "version_major": 2,
       "version_minor": 0
      },
      "text/plain": [
       "FloatProgress(value=0.0, bar_style='info', description='Progress:', layout=Layout(height='25px', width='50%'),…"
      ]
     },
     "metadata": {},
     "output_type": "display_data"
    },
    {
     "name": "stdout",
     "output_type": "stream",
     "text": [
      "+--------------------+----------+\n",
      "|          product_id|total_sold|\n",
      "+--------------------+----------+\n",
      "|aca2eb7d00ea1a7b8...|     86740|\n",
      "|422879e10f4668299...|     81110|\n",
      "|99a4788cb24856965...|     78775|\n",
      "|389d119b48cf3043d...|     60248|\n",
      "|d1c427060a0f73f6b...|     59274|\n",
      "|368c6c730842d7801...|     58358|\n",
      "|53759a2ecddad2bb8...|     52654|\n",
      "|53b36df67ebb7c415...|     52105|\n",
      "|154e7e31ebfa09220...|     42700|\n",
      "|3dd2a17168ec895c7...|     40787|\n",
      "+--------------------+----------+"
     ]
    }
   ],
   "source": [
    "# Top 10 Most Sold Products\n",
    "\n",
    "top_products_df = full_orders_df.groupBy('product_id')\\\n",
    ".agg(count('order_id').alias('total_sold'))\\\n",
    ".orderBy(desc('total_sold'))\\\n",
    ".limit(10)\n",
    "\n",
    "top_products_df.show()"
   ]
  },
  {
   "cell_type": "code",
   "execution_count": 20,
   "id": "fc8a6bd6-05ed-4dd5-b7df-f35b1136b1b9",
   "metadata": {
    "execution": {
     "iopub.execute_input": "2025-04-01T00:27:15.486032Z",
     "iopub.status.busy": "2025-04-01T00:27:15.485744Z",
     "iopub.status.idle": "2025-04-01T00:27:18.958870Z",
     "shell.execute_reply": "2025-04-01T00:27:18.958148Z",
     "shell.execute_reply.started": "2025-04-01T00:27:15.486006Z"
    },
    "executionRoleArn": "arn:aws:iam::307946673210:role/EMRServerlessS3Role",
    "tags": []
   },
   "outputs": [
    {
     "data": {
      "application/vnd.jupyter.widget-view+json": {
       "model_id": "ccb3e284b6474629a18cb4f1c8dbf436",
       "version_major": 2,
       "version_minor": 0
      },
      "text/plain": [
       "VBox()"
      ]
     },
     "metadata": {},
     "output_type": "display_data"
    },
    {
     "data": {
      "application/vnd.jupyter.widget-view+json": {
       "model_id": "",
       "version_major": 2,
       "version_minor": 0
      },
      "text/plain": [
       "FloatProgress(value=0.0, bar_style='info', description='Progress:', layout=Layout(height='25px', width='50%'),…"
      ]
     },
     "metadata": {},
     "output_type": "display_data"
    },
    {
     "name": "stdout",
     "output_type": "stream",
     "text": [
      "+--------------------+------------------+\n",
      "|         customer_id|    total_spending|\n",
      "+--------------------+------------------+\n",
      "|d3e82ccec3cb5f956...|         6662844.0|\n",
      "|df55c14d1476a9a34...|         3565657.0|\n",
      "|fe5113a38e3575c04...|         3293604.0|\n",
      "|ec5b2ba62e5743423...|         2556120.0|\n",
      "|63b964e79dee32a35...|         2501664.0|\n",
      "|46bb3c0b1a65c8399...|         2336752.0|\n",
      "|05455dfa7cd02f13d...| 2160194.400000087|\n",
      "|3690e975641f01bd0...|         2124498.0|\n",
      "|349509b216bd5ec11...|         1923627.0|\n",
      "|695476b5848d64ba0...|1820543.1299999943|\n",
      "+--------------------+------------------+"
     ]
    }
   ],
   "source": [
    "# Top 10 Customer By Spending\n",
    "top_customers_spending_df = full_orders_df.groupBy('customer_id')\\\n",
    "    .agg(sum('price').alias('total_spending'))\\\n",
    "    .orderBy(desc('total_spending'))\\\n",
    "    .limit(10)\n",
    "\n",
    "top_customers_spending_df.show()"
   ]
  },
  {
   "cell_type": "markdown",
   "id": "b8aad285-b1c1-4090-8d9b-69a710474ff9",
   "metadata": {},
   "source": [
    "# Windows Function\n"
   ]
  },
  {
   "cell_type": "code",
   "execution_count": 21,
   "id": "6e01da98-8a66-4c20-ab00-ee2c1f7c84e7",
   "metadata": {
    "execution": {
     "iopub.execute_input": "2025-04-01T00:27:18.960255Z",
     "iopub.status.busy": "2025-04-01T00:27:18.959897Z",
     "iopub.status.idle": "2025-04-01T00:27:19.096097Z",
     "shell.execute_reply": "2025-04-01T00:27:19.095408Z",
     "shell.execute_reply.started": "2025-04-01T00:27:18.960228Z"
    },
    "executionRoleArn": "arn:aws:iam::307946673210:role/EMRServerlessS3Role",
    "tags": []
   },
   "outputs": [
    {
     "data": {
      "application/vnd.jupyter.widget-view+json": {
       "model_id": "67c5b0da98d240399fec2104e7ea47cd",
       "version_major": 2,
       "version_minor": 0
      },
      "text/plain": [
       "VBox()"
      ]
     },
     "metadata": {},
     "output_type": "display_data"
    },
    {
     "data": {
      "application/vnd.jupyter.widget-view+json": {
       "model_id": "",
       "version_major": 2,
       "version_minor": 0
      },
      "text/plain": [
       "FloatProgress(value=0.0, bar_style='info', description='Progress:', layout=Layout(height='25px', width='50%'),…"
      ]
     },
     "metadata": {},
     "output_type": "display_data"
    }
   ],
   "source": [
    "from pyspark.sql.window import Window"
   ]
  },
  {
   "cell_type": "code",
   "execution_count": 22,
   "id": "cb08dec5-e8c3-469d-950c-8bd74e83ba2b",
   "metadata": {
    "execution": {
     "iopub.execute_input": "2025-04-01T00:27:19.097411Z",
     "iopub.status.busy": "2025-04-01T00:27:19.097108Z",
     "iopub.status.idle": "2025-04-01T00:27:19.237279Z",
     "shell.execute_reply": "2025-04-01T00:27:19.236550Z",
     "shell.execute_reply.started": "2025-04-01T00:27:19.097385Z"
    },
    "executionRoleArn": "arn:aws:iam::307946673210:role/EMRServerlessS3Role",
    "tags": []
   },
   "outputs": [
    {
     "data": {
      "application/vnd.jupyter.widget-view+json": {
       "model_id": "07bc3fcd44584dac9d9fa640dc1e972e",
       "version_major": 2,
       "version_minor": 0
      },
      "text/plain": [
       "VBox()"
      ]
     },
     "metadata": {},
     "output_type": "display_data"
    },
    {
     "data": {
      "application/vnd.jupyter.widget-view+json": {
       "model_id": "",
       "version_major": 2,
       "version_minor": 0
      },
      "text/plain": [
       "FloatProgress(value=0.0, bar_style='info', description='Progress:', layout=Layout(height='25px', width='50%'),…"
      ]
     },
     "metadata": {},
     "output_type": "display_data"
    }
   ],
   "source": [
    "# Rank Top Selling Products Per Seller\n",
    "# Dense Rank for Sellers based on Revenue\n",
    "\n",
    "window_spec = Window.partitionBy('seller_id').orderBy(desc('price'))"
   ]
  },
  {
   "cell_type": "code",
   "execution_count": 23,
   "id": "3551b473-fa06-48ff-88af-aaac77e21b66",
   "metadata": {
    "execution": {
     "iopub.execute_input": "2025-04-01T00:27:19.238597Z",
     "iopub.status.busy": "2025-04-01T00:27:19.238273Z",
     "iopub.status.idle": "2025-04-01T00:27:21.806028Z",
     "shell.execute_reply": "2025-04-01T00:27:21.805216Z",
     "shell.execute_reply.started": "2025-04-01T00:27:19.238572Z"
    },
    "executionRoleArn": "arn:aws:iam::307946673210:role/EMRServerlessS3Role",
    "tags": []
   },
   "outputs": [
    {
     "data": {
      "application/vnd.jupyter.widget-view+json": {
       "model_id": "12fd54befdd64bbca3b6db4eaae8046c",
       "version_major": 2,
       "version_minor": 0
      },
      "text/plain": [
       "VBox()"
      ]
     },
     "metadata": {},
     "output_type": "display_data"
    },
    {
     "data": {
      "application/vnd.jupyter.widget-view+json": {
       "model_id": "",
       "version_major": 2,
       "version_minor": 0
      },
      "text/plain": [
       "FloatProgress(value=0.0, bar_style='info', description='Progress:', layout=Layout(height='25px', width='50%'),…"
      ]
     },
     "metadata": {},
     "output_type": "display_data"
    },
    {
     "name": "stdout",
     "output_type": "stream",
     "text": [
      "+--------------------+-----+----+\n",
      "|           seller_id|price|rank|\n",
      "+--------------------+-----+----+\n",
      "|0015a82c2db000af6...|895.0|   1|\n",
      "|0015a82c2db000af6...|895.0|   1|\n",
      "|0015a82c2db000af6...|895.0|   1|\n",
      "|0015a82c2db000af6...|895.0|   1|\n",
      "|0015a82c2db000af6...|895.0|   1|\n",
      "|0015a82c2db000af6...|895.0|   1|\n",
      "|0015a82c2db000af6...|895.0|   1|\n",
      "|0015a82c2db000af6...|895.0|   1|\n",
      "|0015a82c2db000af6...|895.0|   1|\n",
      "|0015a82c2db000af6...|895.0|   1|\n",
      "|0015a82c2db000af6...|895.0|   1|\n",
      "|0015a82c2db000af6...|895.0|   1|\n",
      "|0015a82c2db000af6...|895.0|   1|\n",
      "|0015a82c2db000af6...|895.0|   1|\n",
      "|0015a82c2db000af6...|895.0|   1|\n",
      "|0015a82c2db000af6...|895.0|   1|\n",
      "|0015a82c2db000af6...|895.0|   1|\n",
      "|0015a82c2db000af6...|895.0|   1|\n",
      "|0015a82c2db000af6...|895.0|   1|\n",
      "|0015a82c2db000af6...|895.0|   1|\n",
      "+--------------------+-----+----+\n",
      "only showing top 20 rows"
     ]
    }
   ],
   "source": [
    "# Rank Top Selling Products Per Seller\n",
    "\n",
    "top_seller_products_df = full_orders_df.withColumn('rank',rank().over(window_spec))\n",
    "\n",
    "top_seller_products_df.select('seller_id','price','rank').show()"
   ]
  },
  {
   "cell_type": "markdown",
   "id": "7495e287-68ca-4964-9495-f21d5ae62393",
   "metadata": {
    "executionRoleArn": "arn:aws:iam::307946673210:role/EMRServerlessS3Role",
    "tags": []
   },
   "source": [
    "# Advance Aggregation and Enrichment"
   ]
  },
  {
   "cell_type": "code",
   "execution_count": 26,
   "id": "86b1dc89-3169-4fb5-8c00-925c049a7e28",
   "metadata": {
    "execution": {
     "iopub.execute_input": "2025-04-01T00:30:04.838326Z",
     "iopub.status.busy": "2025-04-01T00:30:04.837890Z",
     "iopub.status.idle": "2025-04-01T00:30:07.506105Z",
     "shell.execute_reply": "2025-04-01T00:30:07.505299Z",
     "shell.execute_reply.started": "2025-04-01T00:30:04.838292Z"
    },
    "executionRoleArn": "arn:aws:iam::307946673210:role/EMRServerlessS3Role",
    "tags": []
   },
   "outputs": [
    {
     "data": {
      "application/vnd.jupyter.widget-view+json": {
       "model_id": "aadd46c5a6d64bd5b198af5c80e7f9fe",
       "version_major": 2,
       "version_minor": 0
      },
      "text/plain": [
       "VBox()"
      ]
     },
     "metadata": {},
     "output_type": "display_data"
    },
    {
     "data": {
      "application/vnd.jupyter.widget-view+json": {
       "model_id": "",
       "version_major": 2,
       "version_minor": 0
      },
      "text/plain": [
       "FloatProgress(value=0.0, bar_style='info', description='Progress:', layout=Layout(height='25px', width='50%'),…"
      ]
     },
     "metadata": {},
     "output_type": "display_data"
    },
    {
     "name": "stdout",
     "output_type": "stream",
     "text": [
      "+--------------------+------------+--------------+------+\n",
      "|         customer_id|total_orders|total_spending|   aov|\n",
      "+--------------------+------------+--------------+------+\n",
      "|d3e82ccec3cb5f956...|        6876|     6662844.0| 969.0|\n",
      "|df55c14d1476a9a34...|         743|     3565657.0|4799.0|\n",
      "|fe5113a38e3575c04...|        2292|     3293604.0|1437.0|\n",
      "|ec5b2ba62e5743423...|        1428|     2556120.0|1790.0|\n",
      "|63b964e79dee32a35...|        6072|     2501664.0| 412.0|\n",
      "+--------------------+------------+--------------+------+\n",
      "only showing top 5 rows"
     ]
    }
   ],
   "source": [
    "# Total Revenue & Average Order Value (AOV) per Customer\n",
    "\n",
    "customer_spending_df = full_orders_df.groupBy('customer_id')\\\n",
    ".agg(\n",
    "    count('order_id').alias('total_orders'),\n",
    "    sum('price').alias('total_spending'),\n",
    "    round(avg('price'),2).alias('aov')\n",
    ")\\\n",
    ".orderBy(desc('total_spending'))\n",
    "\n",
    "customer_spending_df.show(5)"
   ]
  },
  {
   "cell_type": "code",
   "execution_count": 27,
   "id": "85ef98e8-4281-449b-b399-b431c0ec4052",
   "metadata": {
    "execution": {
     "iopub.execute_input": "2025-04-01T00:31:18.960401Z",
     "iopub.status.busy": "2025-04-01T00:31:18.959896Z",
     "iopub.status.idle": "2025-04-01T00:31:19.135168Z",
     "shell.execute_reply": "2025-04-01T00:31:19.134478Z",
     "shell.execute_reply.started": "2025-04-01T00:31:18.960368Z"
    },
    "executionRoleArn": "arn:aws:iam::307946673210:role/EMRServerlessS3Role",
    "tags": []
   },
   "outputs": [
    {
     "data": {
      "application/vnd.jupyter.widget-view+json": {
       "model_id": "a7ccac3328bd4450b11496b779f6deb1",
       "version_major": 2,
       "version_minor": 0
      },
      "text/plain": [
       "VBox()"
      ]
     },
     "metadata": {},
     "output_type": "display_data"
    },
    {
     "data": {
      "application/vnd.jupyter.widget-view+json": {
       "model_id": "",
       "version_major": 2,
       "version_minor": 0
      },
      "text/plain": [
       "FloatProgress(value=0.0, bar_style='info', description='Progress:', layout=Layout(height='25px', width='50%'),…"
      ]
     },
     "metadata": {},
     "output_type": "display_data"
    },
    {
     "name": "stdout",
     "output_type": "stream",
     "text": [
      "969.0"
     ]
    }
   ],
   "source": [
    "6662844/6876"
   ]
  },
  {
   "cell_type": "code",
   "execution_count": 28,
   "id": "874497f0-fe8d-4106-a7cd-1d8133f7a5be",
   "metadata": {
    "execution": {
     "iopub.execute_input": "2025-04-01T00:33:46.485144Z",
     "iopub.status.busy": "2025-04-01T00:33:46.484649Z",
     "iopub.status.idle": "2025-04-01T00:33:46.887523Z",
     "shell.execute_reply": "2025-04-01T00:33:46.886840Z",
     "shell.execute_reply.started": "2025-04-01T00:33:46.485112Z"
    },
    "executionRoleArn": "arn:aws:iam::307946673210:role/EMRServerlessS3Role",
    "tags": []
   },
   "outputs": [
    {
     "data": {
      "application/vnd.jupyter.widget-view+json": {
       "model_id": "6a52edab4a484febade5ca765124762d",
       "version_major": 2,
       "version_minor": 0
      },
      "text/plain": [
       "VBox()"
      ]
     },
     "metadata": {},
     "output_type": "display_data"
    },
    {
     "data": {
      "application/vnd.jupyter.widget-view+json": {
       "model_id": "",
       "version_major": 2,
       "version_minor": 0
      },
      "text/plain": [
       "FloatProgress(value=0.0, bar_style='info', description='Progress:', layout=Layout(height='25px', width='50%'),…"
      ]
     },
     "metadata": {},
     "output_type": "display_data"
    }
   ],
   "source": [
    "# Seller Performance Metrics (Revenue, Average Review, Order Count)\n",
    "\n",
    "seller_performance_df = full_orders_df.groupBy('seller_id')\\\n",
    ".agg(\n",
    "    count('order_id').alias('total_orders'),\n",
    "    sum('price').alias('total_revenue'),\n",
    "    round(stddev('price'), 2).alias('aov'),\n",
    "    round(avg('review_score'), 2).alias('avg_review_score')\n",
    ")\\\n",
    ".orderBy(desc('total_revenue'))"
   ]
  },
  {
   "cell_type": "code",
   "execution_count": 29,
   "id": "f9118bcc-6c14-4864-8cdc-1fbc5458a927",
   "metadata": {
    "execution": {
     "iopub.execute_input": "2025-04-01T00:33:58.795859Z",
     "iopub.status.busy": "2025-04-01T00:33:58.795397Z",
     "iopub.status.idle": "2025-04-01T00:34:02.260578Z",
     "shell.execute_reply": "2025-04-01T00:34:02.259818Z",
     "shell.execute_reply.started": "2025-04-01T00:33:58.795830Z"
    },
    "executionRoleArn": "arn:aws:iam::307946673210:role/EMRServerlessS3Role",
    "tags": []
   },
   "outputs": [
    {
     "data": {
      "application/vnd.jupyter.widget-view+json": {
       "model_id": "2ba1e017ac474bb08ed9507aabd34525",
       "version_major": 2,
       "version_minor": 0
      },
      "text/plain": [
       "VBox()"
      ]
     },
     "metadata": {},
     "output_type": "display_data"
    },
    {
     "data": {
      "application/vnd.jupyter.widget-view+json": {
       "model_id": "",
       "version_major": 2,
       "version_minor": 0
      },
      "text/plain": [
       "FloatProgress(value=0.0, bar_style='info', description='Progress:', layout=Layout(height='25px', width='50%'),…"
      ]
     },
     "metadata": {},
     "output_type": "display_data"
    },
    {
     "name": "stdout",
     "output_type": "stream",
     "text": [
      "+--------------------+------------+--------------------+------+----------------+\n",
      "|           seller_id|total_orders|       total_revenue|   aov|avg_review_score|\n",
      "+--------------------+------------+--------------------+------+----------------+\n",
      "|4869f7a5dfa277a7d...|      184587| 3.613871732000001E7|111.65|            4.09|\n",
      "|53243585a1d6dc264...|       54514| 3.429159294999997E7|499.65|            4.12|\n",
      "|4a3ca9315b744ce9f...|      330661|3.3759570839999996E7| 59.37|            3.77|\n",
      "|7c67e1448b00f6e96...|      233306|3.2282321789999586E7| 50.39|            3.42|\n",
      "|fa1c13f2614d7b5c4...|       87686|3.0139386310000043E7| 307.7|            4.38|\n",
      "+--------------------+------------+--------------------+------+----------------+\n",
      "only showing top 5 rows"
     ]
    }
   ],
   "source": [
    "seller_performance_df.show(5)"
   ]
  },
  {
   "cell_type": "code",
   "execution_count": 31,
   "id": "358ce37e-7272-4abe-bea9-7623acbfa9cf",
   "metadata": {
    "execution": {
     "iopub.execute_input": "2025-04-01T00:39:07.972531Z",
     "iopub.status.busy": "2025-04-01T00:39:07.972080Z",
     "iopub.status.idle": "2025-04-01T00:39:08.355145Z",
     "shell.execute_reply": "2025-04-01T00:39:08.354478Z",
     "shell.execute_reply.started": "2025-04-01T00:39:07.972500Z"
    },
    "executionRoleArn": "arn:aws:iam::307946673210:role/EMRServerlessS3Role",
    "tags": []
   },
   "outputs": [
    {
     "data": {
      "application/vnd.jupyter.widget-view+json": {
       "model_id": "9ffb3d7d226e43608e72c4eba09ca102",
       "version_major": 2,
       "version_minor": 0
      },
      "text/plain": [
       "VBox()"
      ]
     },
     "metadata": {},
     "output_type": "display_data"
    },
    {
     "data": {
      "application/vnd.jupyter.widget-view+json": {
       "model_id": "",
       "version_major": 2,
       "version_minor": 0
      },
      "text/plain": [
       "FloatProgress(value=0.0, bar_style='info', description='Progress:', layout=Layout(height='25px', width='50%'),…"
      ]
     },
     "metadata": {},
     "output_type": "display_data"
    }
   ],
   "source": [
    "# Product Popularity Metrics\n",
    "\n",
    "product_metrics_df = full_orders_df.groupBy('product_id')\\\n",
    ".agg(\n",
    "    count('order_id').alias('total_sales'),\n",
    "    sum('price').alias('total_revenue'),\n",
    "    round(avg('price'),2).alias('avg_price'),\n",
    "    round(stddev('price'), 2).alias('price_volatility'),\n",
    "    collect_set('seller_id').alias('unique_sellers')\n",
    ")\\\n",
    ".orderBy(desc('total_sales'))"
   ]
  },
  {
   "cell_type": "code",
   "execution_count": 32,
   "id": "e2cf7f30-203e-42d7-8508-a7aff419f60d",
   "metadata": {
    "execution": {
     "iopub.execute_input": "2025-04-01T00:39:15.850407Z",
     "iopub.status.busy": "2025-04-01T00:39:15.849959Z",
     "iopub.status.idle": "2025-04-01T00:39:21.354790Z",
     "shell.execute_reply": "2025-04-01T00:39:21.354047Z",
     "shell.execute_reply.started": "2025-04-01T00:39:15.850376Z"
    },
    "executionRoleArn": "arn:aws:iam::307946673210:role/EMRServerlessS3Role",
    "tags": []
   },
   "outputs": [
    {
     "data": {
      "application/vnd.jupyter.widget-view+json": {
       "model_id": "4ddac11843564749be65a75dc5e9a169",
       "version_major": 2,
       "version_minor": 0
      },
      "text/plain": [
       "VBox()"
      ]
     },
     "metadata": {},
     "output_type": "display_data"
    },
    {
     "data": {
      "application/vnd.jupyter.widget-view+json": {
       "model_id": "",
       "version_major": 2,
       "version_minor": 0
      },
      "text/plain": [
       "FloatProgress(value=0.0, bar_style='info', description='Progress:', layout=Layout(height='25px', width='50%'),…"
      ]
     },
     "metadata": {},
     "output_type": "display_data"
    },
    {
     "name": "stdout",
     "output_type": "stream",
     "text": [
      "+--------------------+-----------+------------------+---------+----------------+--------------------+\n",
      "|          product_id|total_sales|     total_revenue|avg_price|price_volatility|      unique_sellers|\n",
      "+--------------------+-----------+------------------+---------+----------------+--------------------+\n",
      "|aca2eb7d00ea1a7b8...|      86740|         6164630.3|    71.07|            3.17|[955fee9216a65b61...|\n",
      "|422879e10f4668299...|      81110| 4442791.510000017|    54.77|            4.46|[1f50f920176fa81d...|\n",
      "|99a4788cb24856965...|      78775| 6921762.710000004|    87.87|            4.08|[4a3ca9315b744ce9...|\n",
      "|389d119b48cf3043d...|      60248|3280533.1300000064|    54.45|            4.37|[1f50f920176fa81d...|\n",
      "|d1c427060a0f73f6b...|      59274|        8220103.33|   138.68|           16.58|[a1043bafd471dff5...|\n",
      "+--------------------+-----------+------------------+---------+----------------+--------------------+\n",
      "only showing top 5 rows"
     ]
    }
   ],
   "source": [
    "product_metrics_df.show(5)"
   ]
  },
  {
   "cell_type": "code",
   "execution_count": 33,
   "id": "242a5c85-2e5a-4de0-ae7f-610af0999696",
   "metadata": {
    "execution": {
     "iopub.execute_input": "2025-04-01T00:45:26.463502Z",
     "iopub.status.busy": "2025-04-01T00:45:26.463015Z",
     "iopub.status.idle": "2025-04-01T00:45:29.053896Z",
     "shell.execute_reply": "2025-04-01T00:45:29.053117Z",
     "shell.execute_reply.started": "2025-04-01T00:45:26.463471Z"
    },
    "executionRoleArn": "arn:aws:iam::307946673210:role/EMRServerlessS3Role",
    "tags": []
   },
   "outputs": [
    {
     "data": {
      "application/vnd.jupyter.widget-view+json": {
       "model_id": "be1cdf71c985421bbb533c9db3f6508e",
       "version_major": 2,
       "version_minor": 0
      },
      "text/plain": [
       "VBox()"
      ]
     },
     "metadata": {},
     "output_type": "display_data"
    },
    {
     "data": {
      "application/vnd.jupyter.widget-view+json": {
       "model_id": "",
       "version_major": 2,
       "version_minor": 0
      },
      "text/plain": [
       "FloatProgress(value=0.0, bar_style='info', description='Progress:', layout=Layout(height='25px', width='50%'),…"
      ]
     },
     "metadata": {},
     "output_type": "display_data"
    },
    {
     "name": "stdout",
     "output_type": "stream",
     "text": [
      "+----------+--------------------+-----------+\n",
      "|year_month|     monthly_revenue|order_count|\n",
      "+----------+--------------------+-----------+\n",
      "|   2016-09|   57430.99999999988|       1268|\n",
      "|   2016-10|   8301215.429999983|      62812|\n",
      "|   2016-12|  3313.6000000000176|        304|\n",
      "|   2017-01|1.7495019379999913E7|     154814|\n",
      "|   2017-02| 3.771518491999999E7|     314901|\n",
      "|   2017-03| 6.410433590999994E7|     493268|\n",
      "|   2017-04| 5.830563201000004E7|     428106|\n",
      "|   2017-05|  8.32050953800006E7|     681522|\n",
      "|   2017-06| 6.957582136999993E7|     578515|\n",
      "|   2017-07| 8.398955144000003E7|     760829|\n",
      "|   2017-08| 9.661791376000051E7|     801394|\n",
      "|   2017-09| 9.585077286000088E7|     761877|\n",
      "|   2017-10|1.0522491751000106E8|     860156|\n",
      "|   2017-11|1.6603721754000142E8|    1422336|\n",
      "|   2017-12|1.2601966210000123E8|    1022973|\n",
      "|   2018-01|1.5403788212000307E8|    1340766|\n",
      "|   2018-02| 1.410665991500021E8|    1236262|\n",
      "|   2018-03| 1.545768325200017E8|    1316199|\n",
      "|   2018-04|1.5885133712000293E8|    1265754|\n",
      "|   2018-05|1.5685605659000102E8|    1237049|\n",
      "+----------+--------------------+-----------+\n",
      "only showing top 20 rows"
     ]
    }
   ],
   "source": [
    "# Monthly Revenue and Order count trend\n",
    "monthly_trend_df = full_orders_df.withColumn('year_month', date_format('order_purchase_timestamp','yyyy-MM'))\\\n",
    "    .groupBy('year_month')\\\n",
    "    .agg(\n",
    "        sum('price').alias('monthly_revenue'),\n",
    "        count('order_id').alias('order_count')\n",
    "    \n",
    "    )\\\n",
    "    .orderBy('year_month')\n",
    "monthly_trend_df.show()\n"
   ]
  },
  {
   "cell_type": "code",
   "execution_count": 43,
   "id": "153e4213-e60b-46bf-8796-5006aad4cef7",
   "metadata": {
    "execution": {
     "iopub.execute_input": "2025-04-01T01:02:35.721817Z",
     "iopub.status.busy": "2025-04-01T01:02:35.721360Z",
     "iopub.status.idle": "2025-04-01T01:02:36.107962Z",
     "shell.execute_reply": "2025-04-01T01:02:36.107267Z",
     "shell.execute_reply.started": "2025-04-01T01:02:35.721787Z"
    },
    "executionRoleArn": "arn:aws:iam::307946673210:role/EMRServerlessS3Role",
    "tags": []
   },
   "outputs": [
    {
     "data": {
      "application/vnd.jupyter.widget-view+json": {
       "model_id": "21019d3f200d4e2fb3f5c1f13dec2258",
       "version_major": 2,
       "version_minor": 0
      },
      "text/plain": [
       "VBox()"
      ]
     },
     "metadata": {},
     "output_type": "display_data"
    },
    {
     "data": {
      "application/vnd.jupyter.widget-view+json": {
       "model_id": "",
       "version_major": 2,
       "version_minor": 0
      },
      "text/plain": [
       "FloatProgress(value=0.0, bar_style='info', description='Progress:', layout=Layout(height='25px', width='50%'),…"
      ]
     },
     "metadata": {},
     "output_type": "display_data"
    }
   ],
   "source": [
    "# Customer Retention Analysis (First & Last Order )\n",
    "\n",
    "customer_retention_df = full_orders_df.groupBy('customer_id')\\\n",
    ".agg(\n",
    "    min('order_purchase_timestamp').alias('first_order_date'),\n",
    "    max('order_purchase_timestamp').alias('last_order_date'),\n",
    "    count('order_id').alias('total_orders'),\n",
    "    round(avg('price'),2).alias('aov')\n",
    ")\\\n",
    ".orderBy(desc('total_orders'))"
   ]
  },
  {
   "cell_type": "code",
   "execution_count": 44,
   "id": "811e6d44-c7d4-4940-a42e-81ffe96eaec4",
   "metadata": {
    "execution": {
     "iopub.execute_input": "2025-04-01T01:02:36.109613Z",
     "iopub.status.busy": "2025-04-01T01:02:36.109289Z",
     "iopub.status.idle": "2025-04-01T01:02:38.705566Z",
     "shell.execute_reply": "2025-04-01T01:02:38.704758Z",
     "shell.execute_reply.started": "2025-04-01T01:02:36.109585Z"
    },
    "executionRoleArn": "arn:aws:iam::307946673210:role/EMRServerlessS3Role",
    "tags": []
   },
   "outputs": [
    {
     "data": {
      "application/vnd.jupyter.widget-view+json": {
       "model_id": "5a95b0339c094b4288f5d47703389ed6",
       "version_major": 2,
       "version_minor": 0
      },
      "text/plain": [
       "VBox()"
      ]
     },
     "metadata": {},
     "output_type": "display_data"
    },
    {
     "data": {
      "application/vnd.jupyter.widget-view+json": {
       "model_id": "",
       "version_major": 2,
       "version_minor": 0
      },
      "text/plain": [
       "FloatProgress(value=0.0, bar_style='info', description='Progress:', layout=Layout(height='25px', width='50%'),…"
      ]
     },
     "metadata": {},
     "output_type": "display_data"
    },
    {
     "name": "stdout",
     "output_type": "stream",
     "text": [
      "+--------------------+-------------------+-------------------+------------+------+\n",
      "|         customer_id|   first_order_date|    last_order_date|total_orders|   aov|\n",
      "+--------------------+-------------------+-------------------+------------+------+\n",
      "|351e40989da90e704...|2017-07-13 10:42:37|2017-07-13 10:42:37|       11427| 85.99|\n",
      "|50920f8cd0681fd86...|2018-01-27 11:28:32|2018-01-27 11:28:32|       10752| 43.82|\n",
      "|9b43e2a62de9bab3a...|2017-05-25 22:27:50|2017-05-25 22:27:50|        8556|  26.4|\n",
      "|270c23a11d024a44c...|2017-08-08 20:26:31|2017-08-08 20:26:31|        8001| 36.59|\n",
      "|5c87184371002d49e...|2018-01-05 19:15:37|2018-01-05 19:15:37|        6876| 12.49|\n",
      "|d3e82ccec3cb5f956...|2017-03-18 14:28:34|2017-03-18 14:28:34|        6876| 969.0|\n",
      "|d5f2b3f597c7ccafb...|2017-12-13 14:21:15|2017-12-13 14:21:15|        6706|  59.0|\n",
      "|c2f18647725395af4...|2018-03-06 19:21:47|2018-03-06 19:21:47|        6612|  34.9|\n",
      "|24e7dc2ff8c071263...|2017-11-24 16:16:45|2017-11-24 16:16:45|        6597|  59.2|\n",
      "|7bb57d182bdc11653...|2018-04-02 17:11:30|2018-04-02 17:11:30|        6258|  86.9|\n",
      "|d22f25a9fadfb1abb...|2018-05-12 12:28:58|2018-05-12 12:28:58|        6072| 14.99|\n",
      "|63b964e79dee32a35...|2018-02-14 16:34:27|2018-02-14 16:34:27|        6072| 412.0|\n",
      "|1ff773612ab8934db...|2018-04-19 13:54:06|2018-04-19 13:54:06|        5820|284.99|\n",
      "|13aa59158da63ba0e...|2017-09-23 14:56:45|2017-09-23 14:56:45|        5206| 79.99|\n",
      "|78fc46047c4a639e8...|2017-11-28 22:24:18|2017-11-28 22:24:18|        5200|109.97|\n",
      "|dd3f1762eb601f41c...|2018-07-18 12:59:21|2018-07-18 12:59:21|        4992|179.99|\n",
      "|a193aa8d905b8e246...|2018-02-12 18:04:28|2018-02-12 18:04:28|        4896|  9.99|\n",
      "|9eb3d566e87289dcb...|2018-06-08 16:42:11|2018-06-08 16:42:11|        4872|  5.11|\n",
      "|2ba91e12e5e4c9f56...|2017-11-25 13:54:39|2017-11-25 13:54:39|        4752|  99.9|\n",
      "|55e7cfd6e28d2fbfb...|2017-06-25 17:50:06|2017-06-25 17:50:06|        4728|  36.9|\n",
      "+--------------------+-------------------+-------------------+------------+------+\n",
      "only showing top 20 rows"
     ]
    }
   ],
   "source": [
    "customer_retention_df.show()"
   ]
  },
  {
   "cell_type": "code",
   "execution_count": 41,
   "id": "be87141c-b102-40f1-b10d-bb6aed116d8c",
   "metadata": {
    "execution": {
     "iopub.execute_input": "2025-04-01T00:59:56.798350Z",
     "iopub.status.busy": "2025-04-01T00:59:56.797900Z",
     "iopub.status.idle": "2025-04-01T00:59:56.972395Z",
     "shell.execute_reply": "2025-04-01T00:59:56.971543Z",
     "shell.execute_reply.started": "2025-04-01T00:59:56.798319Z"
    },
    "executionRoleArn": "arn:aws:iam::307946673210:role/EMRServerlessS3Role",
    "tags": []
   },
   "outputs": [
    {
     "data": {
      "application/vnd.jupyter.widget-view+json": {
       "model_id": "76f7fa7a31984dc4b024181a3cfc8c5b",
       "version_major": 2,
       "version_minor": 0
      },
      "text/plain": [
       "VBox()"
      ]
     },
     "metadata": {},
     "output_type": "display_data"
    },
    {
     "data": {
      "application/vnd.jupyter.widget-view+json": {
       "model_id": "",
       "version_major": 2,
       "version_minor": 0
      },
      "text/plain": [
       "FloatProgress(value=0.0, bar_style='info', description='Progress:', layout=Layout(height='25px', width='50%'),…"
      ]
     },
     "metadata": {},
     "output_type": "display_data"
    },
    {
     "name": "stdout",
     "output_type": "stream",
     "text": [
      "root\n",
      " |-- order_id: string (nullable = true)\n",
      " |-- customer_id: string (nullable = true)\n",
      " |-- seller_id: string (nullable = true)\n",
      " |-- product_id: string (nullable = true)\n",
      " |-- order_status: string (nullable = true)\n",
      " |-- order_purchase_timestamp: timestamp (nullable = true)\n",
      " |-- order_approved_at: timestamp (nullable = true)\n",
      " |-- order_delivered_carrier_date: timestamp (nullable = true)\n",
      " |-- order_delivered_customer_date: timestamp (nullable = true)\n",
      " |-- order_estimated_delivery_date: timestamp (nullable = true)\n",
      " |-- order_item_id: integer (nullable = true)\n",
      " |-- shipping_limit_date: timestamp (nullable = true)\n",
      " |-- price: double (nullable = true)\n",
      " |-- freight_value: double (nullable = true)\n",
      " |-- product_category_name: string (nullable = true)\n",
      " |-- product_name_lenght: integer (nullable = true)\n",
      " |-- product_description_lenght: integer (nullable = true)\n",
      " |-- product_photos_qty: integer (nullable = true)\n",
      " |-- product_weight_g: integer (nullable = true)\n",
      " |-- product_length_cm: integer (nullable = true)\n",
      " |-- product_height_cm: integer (nullable = true)\n",
      " |-- product_width_cm: integer (nullable = true)\n",
      " |-- seller_zip_code_prefix: integer (nullable = true)\n",
      " |-- seller_city: string (nullable = true)\n",
      " |-- seller_state: string (nullable = true)\n",
      " |-- customer_unique_id: string (nullable = true)\n",
      " |-- customer_zip_code_prefix: integer (nullable = true)\n",
      " |-- customer_city: string (nullable = true)\n",
      " |-- customer_state: string (nullable = true)\n",
      " |-- geolocation_zip_code_prefix: integer (nullable = true)\n",
      " |-- geolocation_lat: double (nullable = true)\n",
      " |-- geolocation_lng: double (nullable = true)\n",
      " |-- geolocation_city: string (nullable = true)\n",
      " |-- geolocation_state: string (nullable = true)\n",
      " |-- review_id: string (nullable = true)\n",
      " |-- review_score: string (nullable = true)\n",
      " |-- review_comment_title: string (nullable = true)\n",
      " |-- review_comment_message: string (nullable = true)\n",
      " |-- review_creation_date: string (nullable = true)\n",
      " |-- review_answer_timestamp: string (nullable = true)\n",
      " |-- payment_sequential: integer (nullable = true)\n",
      " |-- payment_type: string (nullable = true)\n",
      " |-- payment_installments: integer (nullable = true)\n",
      " |-- payment_value: double (nullable = true)"
     ]
    }
   ],
   "source": [
    "full_orders_df.printSchema()"
   ]
  },
  {
   "cell_type": "code",
   "execution_count": 42,
   "id": "dc20f4e2-0b48-47a0-a6cb-1abb637698bf",
   "metadata": {
    "execution": {
     "iopub.execute_input": "2025-04-01T01:02:22.403208Z",
     "iopub.status.busy": "2025-04-01T01:02:22.402731Z",
     "iopub.status.idle": "2025-04-01T01:02:22.576758Z",
     "shell.execute_reply": "2025-04-01T01:02:22.576020Z",
     "shell.execute_reply.started": "2025-04-01T01:02:22.403175Z"
    },
    "executionRoleArn": "arn:aws:iam::307946673210:role/EMRServerlessS3Role",
    "tags": []
   },
   "outputs": [
    {
     "data": {
      "application/vnd.jupyter.widget-view+json": {
       "model_id": "69743bda03054b6b9732f6bec832edb6",
       "version_major": 2,
       "version_minor": 0
      },
      "text/plain": [
       "VBox()"
      ]
     },
     "metadata": {},
     "output_type": "display_data"
    },
    {
     "data": {
      "application/vnd.jupyter.widget-view+json": {
       "model_id": "",
       "version_major": 2,
       "version_minor": 0
      },
      "text/plain": [
       "FloatProgress(value=0.0, bar_style='info', description='Progress:', layout=Layout(height='25px', width='50%'),…"
      ]
     },
     "metadata": {},
     "output_type": "display_data"
    },
    {
     "name": "stdout",
     "output_type": "stream",
     "text": [
      "root\n",
      " |-- order_id: string (nullable = true)\n",
      " |-- customer_id: string (nullable = true)\n",
      " |-- seller_id: string (nullable = true)\n",
      " |-- product_id: string (nullable = true)\n",
      " |-- order_status: string (nullable = true)\n",
      " |-- order_purchase_timestamp: timestamp (nullable = true)\n",
      " |-- order_approved_at: timestamp (nullable = true)\n",
      " |-- order_delivered_carrier_date: timestamp (nullable = true)\n",
      " |-- order_delivered_customer_date: timestamp (nullable = true)\n",
      " |-- order_estimated_delivery_date: timestamp (nullable = true)\n",
      " |-- order_item_id: integer (nullable = true)\n",
      " |-- shipping_limit_date: timestamp (nullable = true)\n",
      " |-- price: double (nullable = true)\n",
      " |-- freight_value: double (nullable = true)\n",
      " |-- product_category_name: string (nullable = true)\n",
      " |-- product_name_lenght: integer (nullable = true)\n",
      " |-- product_description_lenght: integer (nullable = true)\n",
      " |-- product_photos_qty: integer (nullable = true)\n",
      " |-- product_weight_g: integer (nullable = true)\n",
      " |-- product_length_cm: integer (nullable = true)\n",
      " |-- product_height_cm: integer (nullable = true)\n",
      " |-- product_width_cm: integer (nullable = true)\n",
      " |-- seller_zip_code_prefix: integer (nullable = true)\n",
      " |-- seller_city: string (nullable = true)\n",
      " |-- seller_state: string (nullable = true)\n",
      " |-- customer_unique_id: string (nullable = true)\n",
      " |-- customer_zip_code_prefix: integer (nullable = true)\n",
      " |-- customer_city: string (nullable = true)\n",
      " |-- customer_state: string (nullable = true)\n",
      " |-- geolocation_zip_code_prefix: integer (nullable = true)\n",
      " |-- geolocation_lat: double (nullable = true)\n",
      " |-- geolocation_lng: double (nullable = true)\n",
      " |-- geolocation_city: string (nullable = true)\n",
      " |-- geolocation_state: string (nullable = true)\n",
      " |-- review_id: string (nullable = true)\n",
      " |-- review_score: string (nullable = true)\n",
      " |-- review_comment_title: string (nullable = true)\n",
      " |-- review_comment_message: string (nullable = true)\n",
      " |-- review_creation_date: string (nullable = true)\n",
      " |-- review_answer_timestamp: string (nullable = true)\n",
      " |-- payment_sequential: integer (nullable = true)\n",
      " |-- payment_type: string (nullable = true)\n",
      " |-- payment_installments: integer (nullable = true)\n",
      " |-- payment_value: double (nullable = true)"
     ]
    }
   ],
   "source": [
    "from pyspark.sql.functions import col, to_timestamp\n",
    "# Cast order_purchase_timestamp to timestamp\n",
    "full_orders_df = full_orders_df.withColumn(\n",
    "    'order_purchase_timestamp',\n",
    "    to_timestamp(col('order_purchase_timestamp'), 'yyyy-MM-dd HH:mm:ss')\n",
    ")\n",
    "# Verify the schema again after casting\n",
    "full_orders_df.printSchema()"
   ]
  },
  {
   "cell_type": "code",
   "execution_count": 45,
   "id": "4f1f2fae-5ed3-45a6-9b73-81f6e5b2208d",
   "metadata": {
    "execution": {
     "iopub.execute_input": "2025-04-01T01:03:32.509631Z",
     "iopub.status.busy": "2025-04-01T01:03:32.509186Z",
     "iopub.status.idle": "2025-04-01T01:03:33.951284Z",
     "shell.execute_reply": "2025-04-01T01:03:33.950607Z",
     "shell.execute_reply.started": "2025-04-01T01:03:32.509595Z"
    },
    "executionRoleArn": "arn:aws:iam::307946673210:role/EMRServerlessS3Role",
    "tags": []
   },
   "outputs": [
    {
     "data": {
      "application/vnd.jupyter.widget-view+json": {
       "model_id": "2e396c46024e4b2db958d633dfa0d1e6",
       "version_major": 2,
       "version_minor": 0
      },
      "text/plain": [
       "VBox()"
      ]
     },
     "metadata": {},
     "output_type": "display_data"
    },
    {
     "data": {
      "application/vnd.jupyter.widget-view+json": {
       "model_id": "",
       "version_major": 2,
       "version_minor": 0
      },
      "text/plain": [
       "FloatProgress(value=0.0, bar_style='info', description='Progress:', layout=Layout(height='25px', width='50%'),…"
      ]
     },
     "metadata": {},
     "output_type": "display_data"
    },
    {
     "name": "stdout",
     "output_type": "stream",
     "text": [
      "+------------------------+\n",
      "|order_purchase_timestamp|\n",
      "+------------------------+\n",
      "+------------------------+"
     ]
    }
   ],
   "source": [
    "# Filter for a specific customer and show their order_purchase_timestamp values\n",
    "full_orders_df.filter(full_orders_df.customer_id == '351e4a089d9a307e704')\\\n",
    "    .select('order_purchase_timestamp')\\\n",
    "    .show(20, truncate=False)"
   ]
  },
  {
   "cell_type": "code",
   "execution_count": null,
   "id": "2e9bc126-c744-4c00-bfd9-47fdc11a799f",
   "metadata": {},
   "outputs": [],
   "source": []
  }
 ],
 "metadata": {
  "kernelspec": {
   "display_name": "PySpark",
   "language": "python",
   "name": "spark_magic_pyspark"
  },
  "language_info": {
   "codemirror_mode": {
    "name": "python",
    "version": 3
   },
   "file_extension": ".py",
   "mimetype": "text/x-python",
   "name": "pyspark",
   "pygments_lexer": "python3"
  }
 },
 "nbformat": 4,
 "nbformat_minor": 5
}
